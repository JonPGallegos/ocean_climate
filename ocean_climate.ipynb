{
 "cells": [
  {
   "cell_type": "code",
   "execution_count": 1,
   "metadata": {},
   "outputs": [],
   "source": [
    "import pandas as pd"
   ]
  },
  {
   "cell_type": "code",
   "execution_count": 3,
   "metadata": {},
   "outputs": [],
   "source": [
    "import os\n",
    "import glob\n",
    "\n",
    "def get_all_csv_files(directory):\n",
    "    # Join the directory path and the pattern for .csv files\n",
    "    csv_files = glob.glob(os.path.join(directory, \"*.csv\"))\n",
    "    \n",
    "    return csv_files\n",
    "\n",
    "\n",
    "\n"
   ]
  },
  {
   "cell_type": "code",
   "execution_count": 12,
   "metadata": {},
   "outputs": [
    {
     "name": "stdout",
     "output_type": "stream",
     "text": [
      "percent done: % 10.007639419404125\n",
      "percent done: % 20.00679059502589\n"
     ]
    },
    {
     "name": "stderr",
     "output_type": "stream",
     "text": [
      "C:\\Users\\Jon\\AppData\\Local\\Temp\\ipykernel_25524\\966517287.py:60: UserWarning: Could not infer format, so each element will be parsed individually, falling back to `dateutil`. To ensure parsing is consistent and as-expected, please specify a format.\n",
      "  agg_data['date'] = pd.to_datetime(agg_data['date'])\n",
      "C:\\Users\\Jon\\AppData\\Local\\Temp\\ipykernel_25524\\966517287.py:60: UserWarning: Could not infer format, so each element will be parsed individually, falling back to `dateutil`. To ensure parsing is consistent and as-expected, please specify a format.\n",
      "  agg_data['date'] = pd.to_datetime(agg_data['date'])\n",
      "C:\\Users\\Jon\\AppData\\Local\\Temp\\ipykernel_25524\\966517287.py:60: UserWarning: Could not infer format, so each element will be parsed individually, falling back to `dateutil`. To ensure parsing is consistent and as-expected, please specify a format.\n",
      "  agg_data['date'] = pd.to_datetime(agg_data['date'])\n"
     ]
    },
    {
     "name": "stdout",
     "output_type": "stream",
     "text": [
      "percent done: % 30.005941770647652\n"
     ]
    },
    {
     "name": "stderr",
     "output_type": "stream",
     "text": [
      "C:\\Users\\Jon\\AppData\\Local\\Temp\\ipykernel_25524\\966517287.py:60: UserWarning: Could not infer format, so each element will be parsed individually, falling back to `dateutil`. To ensure parsing is consistent and as-expected, please specify a format.\n",
      "  agg_data['date'] = pd.to_datetime(agg_data['date'])\n",
      "C:\\Users\\Jon\\AppData\\Local\\Temp\\ipykernel_25524\\966517287.py:60: UserWarning: Could not infer format, so each element will be parsed individually, falling back to `dateutil`. To ensure parsing is consistent and as-expected, please specify a format.\n",
      "  agg_data['date'] = pd.to_datetime(agg_data['date'])\n"
     ]
    },
    {
     "name": "stdout",
     "output_type": "stream",
     "text": [
      "percent done: % 40.005092946269414\n",
      "percent done: % 50.00424412189118\n",
      "percent done: % 60.003395297512945\n",
      "percent done: % 70.00254647313471\n"
     ]
    },
    {
     "name": "stderr",
     "output_type": "stream",
     "text": [
      "C:\\Users\\Jon\\AppData\\Local\\Temp\\ipykernel_25524\\966517287.py:60: UserWarning: Could not infer format, so each element will be parsed individually, falling back to `dateutil`. To ensure parsing is consistent and as-expected, please specify a format.\n",
      "  agg_data['date'] = pd.to_datetime(agg_data['date'])\n"
     ]
    },
    {
     "name": "stdout",
     "output_type": "stream",
     "text": [
      "percent done: % 80.00169764875648\n"
     ]
    },
    {
     "name": "stderr",
     "output_type": "stream",
     "text": [
      "C:\\Users\\Jon\\AppData\\Local\\Temp\\ipykernel_25524\\966517287.py:60: UserWarning: Could not infer format, so each element will be parsed individually, falling back to `dateutil`. To ensure parsing is consistent and as-expected, please specify a format.\n",
      "  agg_data['date'] = pd.to_datetime(agg_data['date'])\n"
     ]
    },
    {
     "name": "stdout",
     "output_type": "stream",
     "text": [
      "percent done: % 90.00084882437824\n",
      "percent done: % 100.0\n"
     ]
    }
   ],
   "source": [
    "\n",
    "# Example usage:\n",
    "directory_path = '../data/'\n",
    "csv_files = get_all_csv_files(directory_path)\n",
    "count = 0\n",
    "total = len(csv_files)\n",
    "marker = 10\n",
    "for file in csv_files:\n",
    "    count += 1\n",
    "    percent = 100*count/total\n",
    "    if percent >= marker:\n",
    "        print('percent done: %', percent)\n",
    "        marker+=10\n",
    "    data = pd.read_csv(file)\n",
    "    data.dropna(inplace=True)\n",
    "    data = data.reset_index()\n",
    "    if not data.empty:\n",
    "        index = data['DATE (YYYY-MM-DDTHH:MI:SSZ)'].unique()\n",
    "        float_number = data['PLATFORM_CODE'].iloc[0]\n",
    "        \n",
    "        agg_data = {\n",
    "            'float_number': []\n",
    "            ,'date':[]\n",
    "            ,'latitude':[]\n",
    "            ,'longitude':[]\n",
    "            ,'q0_psal':[]\n",
    "            ,'q1_psal':[]\n",
    "            ,'q2_psal':[]\n",
    "            ,'q3_psal':[]\n",
    "            ,'q4_psal':[]\n",
    "            ,'q0_temp':[]\n",
    "            ,'q1_temp':[]\n",
    "            ,'q2_temp':[]\n",
    "            ,'q3_temp':[]\n",
    "            ,'q4_temp':[]\n",
    "        }\n",
    "\n",
    "        if 'PSAL (psu)' in data.columns and 'TEMP (degree_Celsius)' in data.columns:\n",
    "            for i in index:\n",
    "                subset = data[data['DATE (YYYY-MM-DDTHH:MI:SSZ)']==i]\n",
    "                agg_data['float_number'].append(float_number)\n",
    "                agg_data['date'].append(i)\n",
    "                agg_data['latitude'].append(subset['LATITUDE (degree_north)'].iloc[0])\n",
    "                agg_data['longitude'].append(subset['LONGITUDE (degree_east)'].iloc[0])\n",
    "                q0 = min(subset['PRES (decibar)'])\n",
    "                q1 = min(subset['PRES (decibar)'], key=lambda x:abs(x-500))\n",
    "                q2 = min(subset['PRES (decibar)'], key=lambda x:abs(x-1000))\n",
    "                q3 = min(subset['PRES (decibar)'], key=lambda x:abs(x-1500))\n",
    "                q4 = max(subset['PRES (decibar)'])\n",
    "                agg_data['q0_psal'].append(subset[subset['PRES (decibar)']==q0]['PSAL (psu)'].iloc[0])\n",
    "                agg_data['q1_psal'].append(subset[subset['PRES (decibar)']==q1]['PSAL (psu)'].iloc[0])\n",
    "                agg_data['q2_psal'].append(subset[subset['PRES (decibar)']==q2]['PSAL (psu)'].iloc[0])\n",
    "                agg_data['q3_psal'].append(subset[subset['PRES (decibar)']==q3]['PSAL (psu)'].iloc[0])\n",
    "                agg_data['q4_psal'].append(subset[subset['PRES (decibar)']==q4]['PSAL (psu)'].iloc[0])\n",
    "                agg_data['q0_temp'].append(subset[subset['PRES (decibar)']==q0]['TEMP (degree_Celsius)'].iloc[0])\n",
    "                agg_data['q1_temp'].append(subset[subset['PRES (decibar)']==q1]['TEMP (degree_Celsius)'].iloc[0])\n",
    "                agg_data['q2_temp'].append(subset[subset['PRES (decibar)']==q2]['TEMP (degree_Celsius)'].iloc[0])\n",
    "                agg_data['q3_temp'].append(subset[subset['PRES (decibar)']==q3]['TEMP (degree_Celsius)'].iloc[0])\n",
    "                agg_data['q4_temp'].append(subset[subset['PRES (decibar)']==q4]['TEMP (degree_Celsius)'].iloc[0])\n",
    "            agg_data = pd.DataFrame(agg_data)\n",
    "            agg_data['date'] = pd.to_datetime(agg_data['date'])\n",
    "            agg_data['date'] = agg_data['date'].dt.strftime('%Y-%m-%d') \n",
    "            \n",
    "            all_data = pd.concat([agg_data, all_data])\n",
    "            all_data.to_csv('all_ocean_data.csv', index=False)\n",
    "\n",
    "\n"
   ]
  },
  {
   "cell_type": "code",
   "execution_count": null,
   "metadata": {},
   "outputs": [],
   "source": []
  },
  {
   "cell_type": "code",
   "execution_count": null,
   "metadata": {},
   "outputs": [],
   "source": []
  },
  {
   "cell_type": "code",
   "execution_count": null,
   "metadata": {},
   "outputs": [],
   "source": []
  },
  {
   "cell_type": "code",
   "execution_count": null,
   "metadata": {},
   "outputs": [],
   "source": []
  },
  {
   "cell_type": "code",
   "execution_count": 10,
   "metadata": {},
   "outputs": [],
   "source": [
    "\n",
    "data = pd.read_csv('PR_PF_1900086.csv')\n",
    "index = data['DATE (YYYY-MM-DDTHH:MI:SSZ)'].unique()\n",
    "\n",
    "float_number = data['PLATFORM_CODE'].iloc[0]\n",
    "agg_data = {\n",
    "    'float_number': []\n",
    "    ,'date':[]\n",
    "    ,'latitude':[]\n",
    "    ,'longitude':[]\n",
    "    ,'q0_psal':[]\n",
    "    ,'q1_psal':[]\n",
    "    ,'q2_psal':[]\n",
    "    ,'q3_psal':[]\n",
    "    ,'q4_psal':[]\n",
    "    ,'q0_temp':[]\n",
    "    ,'q1_temp':[]\n",
    "    ,'q2_temp':[]\n",
    "    ,'q3_temp':[]\n",
    "    ,'q4_temp':[]\n",
    "}\n",
    "\n",
    "if 'PSAL (psu)' in data.columns:\n",
    "    for i in index:\n",
    "        subset = data[data['DATE (YYYY-MM-DDTHH:MI:SSZ)']==i]\n",
    "        agg_data['float_number'].append(float_number)\n",
    "        agg_data['date'].append(i)\n",
    "        agg_data['latitude'].append(subset['LATITUDE (degree_north)'].iloc[0])\n",
    "        agg_data['longitude'].append(subset['LONGITUDE (degree_east)'].iloc[0])\n",
    "        q0 = min(subset['PRES (decibar)'])\n",
    "        q1 = min(subset['PRES (decibar)'], key=lambda x:abs(x-500))\n",
    "        q2 = min(subset['PRES (decibar)'], key=lambda x:abs(x-1000))\n",
    "        q3 = min(subset['PRES (decibar)'], key=lambda x:abs(x-1500))\n",
    "        q4 = max(subset['PRES (decibar)'])\n",
    "        agg_data['q0_psal'].append(subset[subset['PRES (decibar)']==q0]['PSAL (psu)'].iloc[0])\n",
    "        agg_data['q1_psal'].append(subset[subset['PRES (decibar)']==q1]['PSAL (psu)'].iloc[0])\n",
    "        agg_data['q2_psal'].append(subset[subset['PRES (decibar)']==q2]['PSAL (psu)'].iloc[0])\n",
    "        agg_data['q3_psal'].append(subset[subset['PRES (decibar)']==q3]['PSAL (psu)'].iloc[0])\n",
    "        agg_data['q4_psal'].append(subset[subset['PRES (decibar)']==q4]['PSAL (psu)'].iloc[0])\n",
    "        agg_data['q0_temp'].append(subset[subset['PRES (decibar)']==q0]['TEMP (degree_Celsius)'].iloc[0])\n",
    "        agg_data['q1_temp'].append(subset[subset['PRES (decibar)']==q1]['TEMP (degree_Celsius)'].iloc[0])\n",
    "        agg_data['q2_temp'].append(subset[subset['PRES (decibar)']==q2]['TEMP (degree_Celsius)'].iloc[0])\n",
    "        agg_data['q3_temp'].append(subset[subset['PRES (decibar)']==q3]['TEMP (degree_Celsius)'].iloc[0])\n",
    "        agg_data['q4_temp'].append(subset[subset['PRES (decibar)']==q4]['TEMP (degree_Celsius)'].iloc[0])\n",
    "    agg_data = pd.DataFrame(agg_data)\n",
    "    agg_data['date'] = pd.to_datetime(agg_data['date'])\n",
    "    agg_data['date'] = agg_data['date'].dt.strftime('%Y-%m-%d') \n",
    "\n",
    "    agg_data.to_csv('all_ocean_data.csv', index=False)"
   ]
  },
  {
   "cell_type": "code",
   "execution_count": null,
   "metadata": {},
   "outputs": [],
   "source": []
  }
 ],
 "metadata": {
  "kernelspec": {
   "display_name": "Python 3",
   "language": "python",
   "name": "python3"
  },
  "language_info": {
   "codemirror_mode": {
    "name": "ipython",
    "version": 3
   },
   "file_extension": ".py",
   "mimetype": "text/x-python",
   "name": "python",
   "nbconvert_exporter": "python",
   "pygments_lexer": "ipython3",
   "version": "3.11.9"
  }
 },
 "nbformat": 4,
 "nbformat_minor": 2
}
