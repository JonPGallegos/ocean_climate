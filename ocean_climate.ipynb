{
 "cells": [
  {
   "cell_type": "code",
   "execution_count": 1,
   "metadata": {},
   "outputs": [],
   "source": [
    "import pandas as pd"
   ]
  },
  {
   "cell_type": "code",
   "execution_count": 3,
   "metadata": {},
   "outputs": [],
   "source": [
    "import os\n",
    "import glob\n",
    "\n",
    "def get_all_csv_files(directory):\n",
    "    # Join the directory path and the pattern for .csv files\n",
    "    csv_files = glob.glob(os.path.join(directory, \"*.csv\"))\n",
    "    \n",
    "    return csv_files\n",
    "\n",
    "\n",
    "\n"
   ]
  },
  {
   "cell_type": "code",
   "execution_count": 11,
   "metadata": {},
   "outputs": [
    {
     "name": "stdout",
     "output_type": "stream",
     "text": [
      "percent done: % 10.007639419404125\n",
      "percent done: % 20.00679059502589\n"
     ]
    },
    {
     "name": "stderr",
     "output_type": "stream",
     "text": [
      "C:\\Users\\Jon\\AppData\\Local\\Temp\\ipykernel_25524\\3914392076.py:60: UserWarning: Could not infer format, so each element will be parsed individually, falling back to `dateutil`. To ensure parsing is consistent and as-expected, please specify a format.\n",
      "  agg_data['date'] = pd.to_datetime(agg_data['date'])\n",
      "C:\\Users\\Jon\\AppData\\Local\\Temp\\ipykernel_25524\\3914392076.py:60: UserWarning: Could not infer format, so each element will be parsed individually, falling back to `dateutil`. To ensure parsing is consistent and as-expected, please specify a format.\n",
      "  agg_data['date'] = pd.to_datetime(agg_data['date'])\n",
      "C:\\Users\\Jon\\AppData\\Local\\Temp\\ipykernel_25524\\3914392076.py:60: UserWarning: Could not infer format, so each element will be parsed individually, falling back to `dateutil`. To ensure parsing is consistent and as-expected, please specify a format.\n",
      "  agg_data['date'] = pd.to_datetime(agg_data['date'])\n"
     ]
    },
    {
     "name": "stdout",
     "output_type": "stream",
     "text": [
      "percent done: % 30.005941770647652\n"
     ]
    },
    {
     "name": "stderr",
     "output_type": "stream",
     "text": [
      "C:\\Users\\Jon\\AppData\\Local\\Temp\\ipykernel_25524\\3914392076.py:60: UserWarning: Could not infer format, so each element will be parsed individually, falling back to `dateutil`. To ensure parsing is consistent and as-expected, please specify a format.\n",
      "  agg_data['date'] = pd.to_datetime(agg_data['date'])\n",
      "C:\\Users\\Jon\\AppData\\Local\\Temp\\ipykernel_25524\\3914392076.py:60: UserWarning: Could not infer format, so each element will be parsed individually, falling back to `dateutil`. To ensure parsing is consistent and as-expected, please specify a format.\n",
      "  agg_data['date'] = pd.to_datetime(agg_data['date'])\n"
     ]
    },
    {
     "name": "stdout",
     "output_type": "stream",
     "text": [
      "percent done: % 40.005092946269414\n"
     ]
    },
    {
     "ename": "KeyError",
     "evalue": "'TEMP (degree_Celsius)'",
     "output_type": "error",
     "traceback": [
      "\u001b[1;31m---------------------------------------------------------------------------\u001b[0m",
      "\u001b[1;31mKeyError\u001b[0m                                  Traceback (most recent call last)",
      "File \u001b[1;32mc:\\Users\\Jon\\AppData\\Local\\Programs\\Python\\Python311\\Lib\\site-packages\\pandas\\core\\indexes\\base.py:3805\u001b[0m, in \u001b[0;36mIndex.get_loc\u001b[1;34m(self, key)\u001b[0m\n\u001b[0;32m   3804\u001b[0m \u001b[38;5;28;01mtry\u001b[39;00m:\n\u001b[1;32m-> 3805\u001b[0m     \u001b[38;5;28;01mreturn\u001b[39;00m \u001b[38;5;28;43mself\u001b[39;49m\u001b[38;5;241;43m.\u001b[39;49m\u001b[43m_engine\u001b[49m\u001b[38;5;241;43m.\u001b[39;49m\u001b[43mget_loc\u001b[49m\u001b[43m(\u001b[49m\u001b[43mcasted_key\u001b[49m\u001b[43m)\u001b[49m\n\u001b[0;32m   3806\u001b[0m \u001b[38;5;28;01mexcept\u001b[39;00m \u001b[38;5;167;01mKeyError\u001b[39;00m \u001b[38;5;28;01mas\u001b[39;00m err:\n",
      "File \u001b[1;32mindex.pyx:167\u001b[0m, in \u001b[0;36mpandas._libs.index.IndexEngine.get_loc\u001b[1;34m()\u001b[0m\n",
      "File \u001b[1;32mindex.pyx:196\u001b[0m, in \u001b[0;36mpandas._libs.index.IndexEngine.get_loc\u001b[1;34m()\u001b[0m\n",
      "File \u001b[1;32mpandas\\\\_libs\\\\hashtable_class_helper.pxi:7081\u001b[0m, in \u001b[0;36mpandas._libs.hashtable.PyObjectHashTable.get_item\u001b[1;34m()\u001b[0m\n",
      "File \u001b[1;32mpandas\\\\_libs\\\\hashtable_class_helper.pxi:7089\u001b[0m, in \u001b[0;36mpandas._libs.hashtable.PyObjectHashTable.get_item\u001b[1;34m()\u001b[0m\n",
      "\u001b[1;31mKeyError\u001b[0m: 'TEMP (degree_Celsius)'",
      "\nThe above exception was the direct cause of the following exception:\n",
      "\u001b[1;31mKeyError\u001b[0m                                  Traceback (most recent call last)",
      "Cell \u001b[1;32mIn[11], line 54\u001b[0m\n\u001b[0;32m     52\u001b[0m agg_data[\u001b[38;5;124m'\u001b[39m\u001b[38;5;124mq3_psal\u001b[39m\u001b[38;5;124m'\u001b[39m]\u001b[38;5;241m.\u001b[39mappend(subset[subset[\u001b[38;5;124m'\u001b[39m\u001b[38;5;124mPRES (decibar)\u001b[39m\u001b[38;5;124m'\u001b[39m]\u001b[38;5;241m==\u001b[39mq3][\u001b[38;5;124m'\u001b[39m\u001b[38;5;124mPSAL (psu)\u001b[39m\u001b[38;5;124m'\u001b[39m]\u001b[38;5;241m.\u001b[39miloc[\u001b[38;5;241m0\u001b[39m])\n\u001b[0;32m     53\u001b[0m agg_data[\u001b[38;5;124m'\u001b[39m\u001b[38;5;124mq4_psal\u001b[39m\u001b[38;5;124m'\u001b[39m]\u001b[38;5;241m.\u001b[39mappend(subset[subset[\u001b[38;5;124m'\u001b[39m\u001b[38;5;124mPRES (decibar)\u001b[39m\u001b[38;5;124m'\u001b[39m]\u001b[38;5;241m==\u001b[39mq4][\u001b[38;5;124m'\u001b[39m\u001b[38;5;124mPSAL (psu)\u001b[39m\u001b[38;5;124m'\u001b[39m]\u001b[38;5;241m.\u001b[39miloc[\u001b[38;5;241m0\u001b[39m])\n\u001b[1;32m---> 54\u001b[0m agg_data[\u001b[38;5;124m'\u001b[39m\u001b[38;5;124mq0_temp\u001b[39m\u001b[38;5;124m'\u001b[39m]\u001b[38;5;241m.\u001b[39mappend(\u001b[43msubset\u001b[49m\u001b[43m[\u001b[49m\u001b[43msubset\u001b[49m\u001b[43m[\u001b[49m\u001b[38;5;124;43m'\u001b[39;49m\u001b[38;5;124;43mPRES (decibar)\u001b[39;49m\u001b[38;5;124;43m'\u001b[39;49m\u001b[43m]\u001b[49m\u001b[38;5;241;43m==\u001b[39;49m\u001b[43mq0\u001b[49m\u001b[43m]\u001b[49m\u001b[43m[\u001b[49m\u001b[38;5;124;43m'\u001b[39;49m\u001b[38;5;124;43mTEMP (degree_Celsius)\u001b[39;49m\u001b[38;5;124;43m'\u001b[39;49m\u001b[43m]\u001b[49m\u001b[38;5;241m.\u001b[39miloc[\u001b[38;5;241m0\u001b[39m])\n\u001b[0;32m     55\u001b[0m agg_data[\u001b[38;5;124m'\u001b[39m\u001b[38;5;124mq1_temp\u001b[39m\u001b[38;5;124m'\u001b[39m]\u001b[38;5;241m.\u001b[39mappend(subset[subset[\u001b[38;5;124m'\u001b[39m\u001b[38;5;124mPRES (decibar)\u001b[39m\u001b[38;5;124m'\u001b[39m]\u001b[38;5;241m==\u001b[39mq1][\u001b[38;5;124m'\u001b[39m\u001b[38;5;124mTEMP (degree_Celsius)\u001b[39m\u001b[38;5;124m'\u001b[39m]\u001b[38;5;241m.\u001b[39miloc[\u001b[38;5;241m0\u001b[39m])\n\u001b[0;32m     56\u001b[0m agg_data[\u001b[38;5;124m'\u001b[39m\u001b[38;5;124mq2_temp\u001b[39m\u001b[38;5;124m'\u001b[39m]\u001b[38;5;241m.\u001b[39mappend(subset[subset[\u001b[38;5;124m'\u001b[39m\u001b[38;5;124mPRES (decibar)\u001b[39m\u001b[38;5;124m'\u001b[39m]\u001b[38;5;241m==\u001b[39mq2][\u001b[38;5;124m'\u001b[39m\u001b[38;5;124mTEMP (degree_Celsius)\u001b[39m\u001b[38;5;124m'\u001b[39m]\u001b[38;5;241m.\u001b[39miloc[\u001b[38;5;241m0\u001b[39m])\n",
      "File \u001b[1;32mc:\\Users\\Jon\\AppData\\Local\\Programs\\Python\\Python311\\Lib\\site-packages\\pandas\\core\\frame.py:4102\u001b[0m, in \u001b[0;36mDataFrame.__getitem__\u001b[1;34m(self, key)\u001b[0m\n\u001b[0;32m   4100\u001b[0m \u001b[38;5;28;01mif\u001b[39;00m \u001b[38;5;28mself\u001b[39m\u001b[38;5;241m.\u001b[39mcolumns\u001b[38;5;241m.\u001b[39mnlevels \u001b[38;5;241m>\u001b[39m \u001b[38;5;241m1\u001b[39m:\n\u001b[0;32m   4101\u001b[0m     \u001b[38;5;28;01mreturn\u001b[39;00m \u001b[38;5;28mself\u001b[39m\u001b[38;5;241m.\u001b[39m_getitem_multilevel(key)\n\u001b[1;32m-> 4102\u001b[0m indexer \u001b[38;5;241m=\u001b[39m \u001b[38;5;28;43mself\u001b[39;49m\u001b[38;5;241;43m.\u001b[39;49m\u001b[43mcolumns\u001b[49m\u001b[38;5;241;43m.\u001b[39;49m\u001b[43mget_loc\u001b[49m\u001b[43m(\u001b[49m\u001b[43mkey\u001b[49m\u001b[43m)\u001b[49m\n\u001b[0;32m   4103\u001b[0m \u001b[38;5;28;01mif\u001b[39;00m is_integer(indexer):\n\u001b[0;32m   4104\u001b[0m     indexer \u001b[38;5;241m=\u001b[39m [indexer]\n",
      "File \u001b[1;32mc:\\Users\\Jon\\AppData\\Local\\Programs\\Python\\Python311\\Lib\\site-packages\\pandas\\core\\indexes\\base.py:3812\u001b[0m, in \u001b[0;36mIndex.get_loc\u001b[1;34m(self, key)\u001b[0m\n\u001b[0;32m   3807\u001b[0m     \u001b[38;5;28;01mif\u001b[39;00m \u001b[38;5;28misinstance\u001b[39m(casted_key, \u001b[38;5;28mslice\u001b[39m) \u001b[38;5;129;01mor\u001b[39;00m (\n\u001b[0;32m   3808\u001b[0m         \u001b[38;5;28misinstance\u001b[39m(casted_key, abc\u001b[38;5;241m.\u001b[39mIterable)\n\u001b[0;32m   3809\u001b[0m         \u001b[38;5;129;01mand\u001b[39;00m \u001b[38;5;28many\u001b[39m(\u001b[38;5;28misinstance\u001b[39m(x, \u001b[38;5;28mslice\u001b[39m) \u001b[38;5;28;01mfor\u001b[39;00m x \u001b[38;5;129;01min\u001b[39;00m casted_key)\n\u001b[0;32m   3810\u001b[0m     ):\n\u001b[0;32m   3811\u001b[0m         \u001b[38;5;28;01mraise\u001b[39;00m InvalidIndexError(key)\n\u001b[1;32m-> 3812\u001b[0m     \u001b[38;5;28;01mraise\u001b[39;00m \u001b[38;5;167;01mKeyError\u001b[39;00m(key) \u001b[38;5;28;01mfrom\u001b[39;00m \u001b[38;5;21;01merr\u001b[39;00m\n\u001b[0;32m   3813\u001b[0m \u001b[38;5;28;01mexcept\u001b[39;00m \u001b[38;5;167;01mTypeError\u001b[39;00m:\n\u001b[0;32m   3814\u001b[0m     \u001b[38;5;66;03m# If we have a listlike key, _check_indexing_error will raise\u001b[39;00m\n\u001b[0;32m   3815\u001b[0m     \u001b[38;5;66;03m#  InvalidIndexError. Otherwise we fall through and re-raise\u001b[39;00m\n\u001b[0;32m   3816\u001b[0m     \u001b[38;5;66;03m#  the TypeError.\u001b[39;00m\n\u001b[0;32m   3817\u001b[0m     \u001b[38;5;28mself\u001b[39m\u001b[38;5;241m.\u001b[39m_check_indexing_error(key)\n",
      "\u001b[1;31mKeyError\u001b[0m: 'TEMP (degree_Celsius)'"
     ]
    }
   ],
   "source": [
    "\n",
    "# Example usage:\n",
    "directory_path = '../data/'\n",
    "csv_files = get_all_csv_files(directory_path)\n",
    "count = 0\n",
    "total = len(csv_files)\n",
    "marker = 10\n",
    "for file in csv_files:\n",
    "    count += 1\n",
    "    percent = 100*count/total\n",
    "    if percent >= marker:\n",
    "        print('percent done: %', percent)\n",
    "        marker+=10\n",
    "    data = pd.read_csv(file)\n",
    "    data.dropna(inplace=True)\n",
    "    data = data.reset_index()\n",
    "    if not data.empty:\n",
    "        index = data['DATE (YYYY-MM-DDTHH:MI:SSZ)'].unique()\n",
    "        float_number = data['PLATFORM_CODE'].iloc[0]\n",
    "        \n",
    "        agg_data = {\n",
    "            'float_number': []\n",
    "            ,'date':[]\n",
    "            ,'latitude':[]\n",
    "            ,'longitude':[]\n",
    "            ,'q0_psal':[]\n",
    "            ,'q1_psal':[]\n",
    "            ,'q2_psal':[]\n",
    "            ,'q3_psal':[]\n",
    "            ,'q4_psal':[]\n",
    "            ,'q0_temp':[]\n",
    "            ,'q1_temp':[]\n",
    "            ,'q2_temp':[]\n",
    "            ,'q3_temp':[]\n",
    "            ,'q4_temp':[]\n",
    "        }\n",
    "\n",
    "        if 'PSAL (psu)' in data.columns and 'TEMP (degree_Celsius)' in data.columns:\n",
    "            for i in index:\n",
    "                subset = data[data['DATE (YYYY-MM-DDTHH:MI:SSZ)']==i]\n",
    "                agg_data['float_number'].append(float_number)\n",
    "                agg_data['date'].append(i)\n",
    "                agg_data['latitude'].append(subset['LATITUDE (degree_north)'].iloc[0])\n",
    "                agg_data['longitude'].append(subset['LONGITUDE (degree_east)'].iloc[0])\n",
    "                q0 = min(subset['PRES (decibar)'])\n",
    "                q1 = min(subset['PRES (decibar)'], key=lambda x:abs(x-500))\n",
    "                q2 = min(subset['PRES (decibar)'], key=lambda x:abs(x-1000))\n",
    "                q3 = min(subset['PRES (decibar)'], key=lambda x:abs(x-1500))\n",
    "                q4 = max(subset['PRES (decibar)'])\n",
    "                agg_data['q0_psal'].append(subset[subset['PRES (decibar)']==q0]['PSAL (psu)'].iloc[0])\n",
    "                agg_data['q1_psal'].append(subset[subset['PRES (decibar)']==q1]['PSAL (psu)'].iloc[0])\n",
    "                agg_data['q2_psal'].append(subset[subset['PRES (decibar)']==q2]['PSAL (psu)'].iloc[0])\n",
    "                agg_data['q3_psal'].append(subset[subset['PRES (decibar)']==q3]['PSAL (psu)'].iloc[0])\n",
    "                agg_data['q4_psal'].append(subset[subset['PRES (decibar)']==q4]['PSAL (psu)'].iloc[0])\n",
    "                agg_data['q0_temp'].append(subset[subset['PRES (decibar)']==q0]['TEMP (degree_Celsius)'].iloc[0])\n",
    "                agg_data['q1_temp'].append(subset[subset['PRES (decibar)']==q1]['TEMP (degree_Celsius)'].iloc[0])\n",
    "                agg_data['q2_temp'].append(subset[subset['PRES (decibar)']==q2]['TEMP (degree_Celsius)'].iloc[0])\n",
    "                agg_data['q3_temp'].append(subset[subset['PRES (decibar)']==q3]['TEMP (degree_Celsius)'].iloc[0])\n",
    "                agg_data['q4_temp'].append(subset[subset['PRES (decibar)']==q4]['TEMP (degree_Celsius)'].iloc[0])\n",
    "            agg_data = pd.DataFrame(agg_data)\n",
    "            agg_data['date'] = pd.to_datetime(agg_data['date'])\n",
    "            agg_data['date'] = agg_data['date'].dt.strftime('%Y-%m-%d') \n",
    "            \n",
    "            all_data = pd.concat([agg_data, all_data])\n",
    "            all_data.to_csv('all_ocean_data.csv', index=False)\n",
    "\n",
    "\n"
   ]
  },
  {
   "cell_type": "code",
   "execution_count": null,
   "metadata": {},
   "outputs": [],
   "source": []
  },
  {
   "cell_type": "code",
   "execution_count": null,
   "metadata": {},
   "outputs": [],
   "source": []
  },
  {
   "cell_type": "code",
   "execution_count": null,
   "metadata": {},
   "outputs": [],
   "source": []
  },
  {
   "cell_type": "code",
   "execution_count": null,
   "metadata": {},
   "outputs": [],
   "source": []
  },
  {
   "cell_type": "code",
   "execution_count": 10,
   "metadata": {},
   "outputs": [],
   "source": [
    "\n",
    "data = pd.read_csv('PR_PF_1900086.csv')\n",
    "index = data['DATE (YYYY-MM-DDTHH:MI:SSZ)'].unique()\n",
    "\n",
    "float_number = data['PLATFORM_CODE'].iloc[0]\n",
    "agg_data = {\n",
    "    'float_number': []\n",
    "    ,'date':[]\n",
    "    ,'latitude':[]\n",
    "    ,'longitude':[]\n",
    "    ,'q0_psal':[]\n",
    "    ,'q1_psal':[]\n",
    "    ,'q2_psal':[]\n",
    "    ,'q3_psal':[]\n",
    "    ,'q4_psal':[]\n",
    "    ,'q0_temp':[]\n",
    "    ,'q1_temp':[]\n",
    "    ,'q2_temp':[]\n",
    "    ,'q3_temp':[]\n",
    "    ,'q4_temp':[]\n",
    "}\n",
    "\n",
    "if 'PSAL (psu)' in data.columns:\n",
    "    for i in index:\n",
    "        subset = data[data['DATE (YYYY-MM-DDTHH:MI:SSZ)']==i]\n",
    "        agg_data['float_number'].append(float_number)\n",
    "        agg_data['date'].append(i)\n",
    "        agg_data['latitude'].append(subset['LATITUDE (degree_north)'].iloc[0])\n",
    "        agg_data['longitude'].append(subset['LONGITUDE (degree_east)'].iloc[0])\n",
    "        q0 = min(subset['PRES (decibar)'])\n",
    "        q1 = min(subset['PRES (decibar)'], key=lambda x:abs(x-500))\n",
    "        q2 = min(subset['PRES (decibar)'], key=lambda x:abs(x-1000))\n",
    "        q3 = min(subset['PRES (decibar)'], key=lambda x:abs(x-1500))\n",
    "        q4 = max(subset['PRES (decibar)'])\n",
    "        agg_data['q0_psal'].append(subset[subset['PRES (decibar)']==q0]['PSAL (psu)'].iloc[0])\n",
    "        agg_data['q1_psal'].append(subset[subset['PRES (decibar)']==q1]['PSAL (psu)'].iloc[0])\n",
    "        agg_data['q2_psal'].append(subset[subset['PRES (decibar)']==q2]['PSAL (psu)'].iloc[0])\n",
    "        agg_data['q3_psal'].append(subset[subset['PRES (decibar)']==q3]['PSAL (psu)'].iloc[0])\n",
    "        agg_data['q4_psal'].append(subset[subset['PRES (decibar)']==q4]['PSAL (psu)'].iloc[0])\n",
    "        agg_data['q0_temp'].append(subset[subset['PRES (decibar)']==q0]['TEMP (degree_Celsius)'].iloc[0])\n",
    "        agg_data['q1_temp'].append(subset[subset['PRES (decibar)']==q1]['TEMP (degree_Celsius)'].iloc[0])\n",
    "        agg_data['q2_temp'].append(subset[subset['PRES (decibar)']==q2]['TEMP (degree_Celsius)'].iloc[0])\n",
    "        agg_data['q3_temp'].append(subset[subset['PRES (decibar)']==q3]['TEMP (degree_Celsius)'].iloc[0])\n",
    "        agg_data['q4_temp'].append(subset[subset['PRES (decibar)']==q4]['TEMP (degree_Celsius)'].iloc[0])\n",
    "    agg_data = pd.DataFrame(agg_data)\n",
    "    agg_data['date'] = pd.to_datetime(agg_data['date'])\n",
    "    agg_data['date'] = agg_data['date'].dt.strftime('%Y-%m-%d') \n",
    "\n",
    "    agg_data.to_csv('all_ocean_data.csv', index=False)"
   ]
  },
  {
   "cell_type": "code",
   "execution_count": null,
   "metadata": {},
   "outputs": [],
   "source": []
  }
 ],
 "metadata": {
  "kernelspec": {
   "display_name": "Python 3",
   "language": "python",
   "name": "python3"
  },
  "language_info": {
   "codemirror_mode": {
    "name": "ipython",
    "version": 3
   },
   "file_extension": ".py",
   "mimetype": "text/x-python",
   "name": "python",
   "nbconvert_exporter": "python",
   "pygments_lexer": "ipython3",
   "version": "3.11.9"
  }
 },
 "nbformat": 4,
 "nbformat_minor": 2
}
