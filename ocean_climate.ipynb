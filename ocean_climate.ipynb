{
 "cells": [
  {
   "cell_type": "code",
   "execution_count": 1,
   "metadata": {},
   "outputs": [],
   "source": [
    "import pandas as pd"
   ]
  },
  {
   "cell_type": "code",
   "execution_count": 3,
   "metadata": {},
   "outputs": [],
   "source": [
    "import os\n",
    "import glob\n",
    "\n",
    "def get_all_csv_files(directory):\n",
    "    # Join the directory path and the pattern for .csv files\n",
    "    csv_files = glob.glob(os.path.join(directory, \"*.csv\"))\n",
    "    \n",
    "    return csv_files\n",
    "\n",
    "\n",
    "\n"
   ]
  },
  {
   "cell_type": "code",
   "execution_count": null,
   "metadata": {},
   "outputs": [],
   "source": [
    "\n",
    "# Example usage:\n",
    "directory_path = '../data/'\n",
    "csv_files = get_all_csv_files(directory_path)\n",
    "count = 0\n",
    "total = len(csv_files)\n",
    "marker = 10\n",
    "for file in csv_files:\n",
    "    count += 1\n",
    "    percent = 100*count/total\n",
    "    if percent >= marker:\n",
    "        print('percent done: %', percent)\n",
    "        marker+=10\n",
    "    data = pd.read_csv(file)\n",
    "    data.dropna(inplace=True)\n",
    "    data = data.reset_index()\n",
    "    if not data.empty:\n",
    "        index = data['DATE (YYYY-MM-DDTHH:MI:SSZ)'].unique()\n",
    "        float_number = data['PLATFORM_CODE'].iloc[0]\n",
    "        \n",
    "        agg_data = {\n",
    "            'float_number': []\n",
    "            ,'date':[]\n",
    "            ,'latitude':[]\n",
    "            ,'longitude':[]\n",
    "            ,'q0_psal':[]\n",
    "            ,'q1_psal':[]\n",
    "            ,'q2_psal':[]\n",
    "            ,'q3_psal':[]\n",
    "            ,'q4_psal':[]\n",
    "            ,'q0_temp':[]\n",
    "            ,'q1_temp':[]\n",
    "            ,'q2_temp':[]\n",
    "            ,'q3_temp':[]\n",
    "            ,'q4_temp':[]\n",
    "        }\n",
    "\n",
    "        if 'PSAL (psu)' in data.columns and 'TEMP (degree_Celsius)' in data.columns:\n",
    "            for i in index:\n",
    "                subset = data[data['DATE (YYYY-MM-DDTHH:MI:SSZ)']==i]\n",
    "                agg_data['float_number'].append(float_number)\n",
    "                agg_data['date'].append(i)\n",
    "                agg_data['latitude'].append(subset['LATITUDE (degree_north)'].iloc[0])\n",
    "                agg_data['longitude'].append(subset['LONGITUDE (degree_east)'].iloc[0])\n",
    "                q0 = min(subset['PRES (decibar)'])\n",
    "                q1 = min(subset['PRES (decibar)'], key=lambda x:abs(x-500))\n",
    "                q2 = min(subset['PRES (decibar)'], key=lambda x:abs(x-1000))\n",
    "                q3 = min(subset['PRES (decibar)'], key=lambda x:abs(x-1500))\n",
    "                q4 = max(subset['PRES (decibar)'])\n",
    "                agg_data['q0_psal'].append(subset[subset['PRES (decibar)']==q0]['PSAL (psu)'].iloc[0])\n",
    "                agg_data['q1_psal'].append(subset[subset['PRES (decibar)']==q1]['PSAL (psu)'].iloc[0])\n",
    "                agg_data['q2_psal'].append(subset[subset['PRES (decibar)']==q2]['PSAL (psu)'].iloc[0])\n",
    "                agg_data['q3_psal'].append(subset[subset['PRES (decibar)']==q3]['PSAL (psu)'].iloc[0])\n",
    "                agg_data['q4_psal'].append(subset[subset['PRES (decibar)']==q4]['PSAL (psu)'].iloc[0])\n",
    "                agg_data['q0_temp'].append(subset[subset['PRES (decibar)']==q0]['TEMP (degree_Celsius)'].iloc[0])\n",
    "                agg_data['q1_temp'].append(subset[subset['PRES (decibar)']==q1]['TEMP (degree_Celsius)'].iloc[0])\n",
    "                agg_data['q2_temp'].append(subset[subset['PRES (decibar)']==q2]['TEMP (degree_Celsius)'].iloc[0])\n",
    "                agg_data['q3_temp'].append(subset[subset['PRES (decibar)']==q3]['TEMP (degree_Celsius)'].iloc[0])\n",
    "                agg_data['q4_temp'].append(subset[subset['PRES (decibar)']==q4]['TEMP (degree_Celsius)'].iloc[0])\n",
    "            agg_data = pd.DataFrame(agg_data)\n",
    "            agg_data['date'] = pd.to_datetime(agg_data['date'])\n",
    "            agg_data['date'] = agg_data['date'].dt.strftime('%Y-%m-%d') \n",
    "            \n",
    "            all_data = pd.concat([agg_data, all_data])\n",
    "            all_data.to_csv('all_ocean_data.csv', index=False)\n",
    "\n",
    "\n"
   ]
  },
  {
   "cell_type": "code",
   "execution_count": null,
   "metadata": {},
   "outputs": [],
   "source": []
  },
  {
   "cell_type": "code",
   "execution_count": null,
   "metadata": {},
   "outputs": [],
   "source": []
  },
  {
   "cell_type": "code",
   "execution_count": null,
   "metadata": {},
   "outputs": [],
   "source": []
  },
  {
   "cell_type": "code",
   "execution_count": null,
   "metadata": {},
   "outputs": [],
   "source": []
  },
  {
   "cell_type": "code",
   "execution_count": 2,
   "metadata": {},
   "outputs": [],
   "source": [
    "import pandas as pd\n",
    "all_data = pd.read_csv('all_ocean_data.csv')"
   ]
  },
  {
   "cell_type": "code",
   "execution_count": 3,
   "metadata": {},
   "outputs": [],
   "source": [
    "pd.set_option('display.min_rows', 70)\n",
    "pd.set_option('display.max_columns', None)"
   ]
  },
  {
   "cell_type": "code",
   "execution_count": 4,
   "metadata": {},
   "outputs": [],
   "source": [
    "sorted_data = all_data.sort_values(['date','float_number'], ascending=[True, True])"
   ]
  },
  {
   "cell_type": "code",
   "execution_count": 5,
   "metadata": {},
   "outputs": [
    {
     "data": {
      "text/plain": [
       "(681519, 14)"
      ]
     },
     "execution_count": 5,
     "metadata": {},
     "output_type": "execute_result"
    }
   ],
   "source": [
    "undup = sorted_data.drop_duplicates()\n",
    "undup.shape"
   ]
  },
  {
   "cell_type": "code",
   "execution_count": null,
   "metadata": {},
   "outputs": [],
   "source": [
    "for date in undup['date'].unique():\n",
    "\n",
    "    print(undup[undup['date']==date][['date', 'latitude','longitude']])"
   ]
  },
  {
   "cell_type": "code",
   "execution_count": 23,
   "metadata": {},
   "outputs": [
    {
     "name": "stderr",
     "output_type": "stream",
     "text": [
      "C:\\Users\\Jon\\AppData\\Local\\Temp\\ipykernel_39148\\3366570401.py:2: SettingWithCopyWarning: \n",
      "A value is trying to be set on a copy of a slice from a DataFrame.\n",
      "Try using .loc[row_indexer,col_indexer] = value instead\n",
      "\n",
      "See the caveats in the documentation: https://pandas.pydata.org/pandas-docs/stable/user_guide/indexing.html#returning-a-view-versus-a-copy\n",
      "  undup['date'] = pd.to_datetime(undup['date'])\n"
     ]
    }
   ],
   "source": [
    "import datetime as dt\n",
    "undup['date'] = pd.to_datetime(undup['date'])\n",
    "undup = undup[undup['date'].dt.year==2006]"
   ]
  },
  {
   "cell_type": "code",
   "execution_count": 24,
   "metadata": {},
   "outputs": [
    {
     "data": {
      "image/png": "[encoded data removed]",
      "text/plain": [
       "<Figure size 1000x600 with 1 Axes>"
      ]
     },
     "metadata": {},
     "output_type": "display_data"
    }
   ],
   "source": [
    "from netCDF4 import Dataset, num2date\n",
    "import time, calendar, datetime, numpy\n",
    "from mpl_toolkits.basemap import Basemap\n",
    "import matplotlib.pyplot as plt\n",
    "import os\n",
    "try:\n",
    "    from urllib.request import urlretrieve\n",
    "except ImportError:\n",
    "    from urllib import urlretrieve\n",
    "# data downloaded from the form at\n",
    "# http://coastwatch.pfeg.noaa.gov/erddap/tabledap/apdrcArgoAll.html\n",
    "\n",
    "lats = undup['latitude']\n",
    "lons = undup['longitude']\n",
    "time = undup['date']  # seconds since epoch\n",
    "times = time\n",
    "t1 = times.min(); t2 = times.max()\n",
    "date1 = t1\n",
    "date2 = t2\n",
    "\n",
    "# draw map with markers for float locations\n",
    "m = Basemap(projection='hammer',lon_0=180)\n",
    "x, y = m(lons,lats)\n",
    "m.drawmapboundary(fill_color='#99ffff')\n",
    "m.fillcontinents(color='#cc9966',lake_color='#99ffff')\n",
    "m.scatter(x,y,3,marker='o',color='k')\n",
    "plt.title('Locations of %s ARGO floats active between %s and %s' %\\\n",
    "        (len(lats),date1,date2),fontsize=12)\n",
    "plt.show()"
   ]
  },
  {
   "cell_type": "code",
   "execution_count": null,
   "metadata": {},
   "outputs": [],
   "source": []
  },
  {
   "cell_type": "code",
   "execution_count": null,
   "metadata": {},
   "outputs": [],
   "source": []
  },
  {
   "cell_type": "code",
   "execution_count": null,
   "metadata": {},
   "outputs": [],
   "source": []
  },
  {
   "cell_type": "markdown",
   "metadata": {},
   "source": [
    "## Making data for animated map"
   ]
  },
  {
   "cell_type": "code",
   "execution_count": 70,
   "metadata": {},
   "outputs": [],
   "source": [
    "import pandas as pd\n",
    "import numpy as np\n",
    "\n",
    "def generate_interpolated_rows(df):\n",
    "    # Sort the dataframe by 'id' and 'date' for each id\n",
    "    df['date'] = pd.to_datetime(df['date'])  # Ensure 'date' is a datetime object\n",
    "    df = df.sort_values(by=['float_number', 'date'])\n",
    "\n",
    "    new_rows = []\n",
    "\n",
    "    for idx in range(len(df) - 1):\n",
    "        current_row = df.iloc[idx]\n",
    "        next_row = df.iloc[idx + 1]\n",
    "\n",
    "        # Check if it's the same 'id'\n",
    "        if current_row['float_number'] == next_row['float_number']:\n",
    "            # Calculate the number of days between the two dates\n",
    "            days_diff = (next_row['date'] - current_row['date']).days\n",
    "            \n",
    "            if days_diff > 1 and days_diff<31:\n",
    "                # Generate evenly spaced latitudes, longitudes, and dates\n",
    "                latitudes = np.linspace(current_row['latitude'], next_row['latitude'], round((days_diff + 1)/2))\n",
    "                longitudes = np.linspace(current_row['longitude'], next_row['longitude'], round((days_diff + 1)/2))\n",
    "                dates = pd.date_range(current_row['date'], next_row['date'], periods=round((days_diff + 1)/2))\n",
    "                \n",
    "                # Add the interpolated rows (excluding the first one because it's already in df)\n",
    "                for i in range(1, round(days_diff/2)):\n",
    "                    new_row = {\n",
    "                        'float_number': current_row['float_number'],\n",
    "                        'latitude': latitudes[i],\n",
    "                        'longitude': longitudes[i],\n",
    "                        'date': dates[i]\n",
    "                    }\n",
    "                    new_rows.append(new_row)\n",
    "\n",
    "    # Convert the new_rows list into a DataFrame and append to the original DataFrame\n",
    "    new_rows_df = pd.DataFrame(new_rows)\n",
    "    df = pd.concat([df, new_rows_df]).sort_values(by=['float_number', 'date']).reset_index(drop=True)\n",
    "    \n",
    "    return df\n",
    "\n"
   ]
  },
  {
   "cell_type": "code",
   "execution_count": 71,
   "metadata": {},
   "outputs": [],
   "source": [
    "all_ocean = pd.read_csv('all_ocean_data.csv')[['float_number','date','longitude','latitude']]"
   ]
  },
  {
   "cell_type": "code",
   "execution_count": 72,
   "metadata": {},
   "outputs": [],
   "source": [
    "id_index = all_ocean['float_number'].unique()"
   ]
  },
  {
   "cell_type": "code",
   "execution_count": 73,
   "metadata": {},
   "outputs": [],
   "source": [
    "all_df = generate_interpolated_rows(all_ocean[all_ocean['float_number']==id_index[0]])\n",
    "all_df.to_csv('data_for_map.csv', index=False)"
   ]
  },
  {
   "cell_type": "code",
   "execution_count": 74,
   "metadata": {},
   "outputs": [
    {
     "data": {
      "text/html": [
       "<div>\n",
       "<style scoped>\n",
       "    .dataframe tbody tr th:only-of-type {\n",
       "        vertical-align: middle;\n",
       "    }\n",
       "\n",
       "    .dataframe tbody tr th {\n",
       "        vertical-align: top;\n",
       "    }\n",
       "\n",
       "    .dataframe thead th {\n",
       "        text-align: right;\n",
       "    }\n",
       "</style>\n",
       "<table border=\"1\" class=\"dataframe\">\n",
       "  <thead>\n",
       "    <tr style=\"text-align: right;\">\n",
       "      <th></th>\n",
       "      <th>float_number</th>\n",
       "      <th>date</th>\n",
       "      <th>longitude</th>\n",
       "      <th>latitude</th>\n",
       "    </tr>\n",
       "  </thead>\n",
       "  <tbody>\n",
       "  </tbody>\n",
       "</table>\n",
       "</div>"
      ],
      "text/plain": [
       "Empty DataFrame\n",
       "Columns: [float_number, date, longitude, latitude]\n",
       "Index: []"
      ]
     },
     "execution_count": 74,
     "metadata": {},
     "output_type": "execute_result"
    }
   ],
   "source": [
    "all_df = pd.read_csv('data_for_map.csv')\n",
    "all_df"
   ]
  },
  {
   "cell_type": "code",
   "execution_count": 11,
   "metadata": {},
   "outputs": [],
   "source": [
    "import warnings\n",
    "warnings.simplefilter('ignore')"
   ]
  },
  {
   "cell_type": "code",
   "execution_count": 75,
   "metadata": {},
   "outputs": [
    {
     "name": "stdout",
     "output_type": "stream",
     "text": [
      "percent done: % 0.008768853034023149\n",
      "percent done: % 10.005261311820414\n",
      "percent done: % 20.001753770606804\n",
      "percent done: % 30.00701508242722\n",
      "percent done: % 40.00350754121361\n",
      "percent done: % 50.0\n",
      "percent done: % 60.00526131182041\n",
      "percent done: % 70.00175377060681\n",
      "percent done: % 80.00701508242722\n",
      "percent done: % 90.00350754121361\n",
      "percent done: % 100.0\n"
     ]
    }
   ],
   "source": [
    "import warnings\n",
    "# Helpful for keeping the output clear\n",
    "warnings.simplefilter('ignore')\n",
    "all_df = pd.read_csv('data_for_map.csv')\n",
    "count = 0\n",
    "total = len(id_index)\n",
    "marker = 0\n",
    "\n",
    "\n",
    "for id in id_index:\n",
    "    count += 1\n",
    "    percent = 100*count/total\n",
    "    if percent >= marker:\n",
    "        print('percent done: %', percent)\n",
    "        marker+=10\n",
    "    new_df = generate_interpolated_rows(all_ocean[all_ocean['float_number']==id])\n",
    "    all_df = pd.concat([new_df, all_df])\n",
    "    # all_df.to_csv('data_for_map.csv', index=False) This significantly slowed down the process by like a factor of 1000\n",
    "    # And I think it was not correctly saving it either\n",
    "    \n"
   ]
  },
  {
   "cell_type": "code",
   "execution_count": 80,
   "metadata": {},
   "outputs": [],
   "source": [
    "all_df.to_csv('data_for_map.csv', index=False)"
   ]
  },
  {
   "cell_type": "code",
   "execution_count": 58,
   "metadata": {},
   "outputs": [
    {
     "data": {
      "text/plain": [
       "9534"
      ]
     },
     "execution_count": 58,
     "metadata": {},
     "output_type": "execute_result"
    }
   ],
   "source": [
    "len(id_index)"
   ]
  },
  {
   "cell_type": "code",
   "execution_count": 61,
   "metadata": {},
   "outputs": [],
   "source": [
    "data_map = pd.read_csv('data_for_map.csv')"
   ]
  },
  {
   "cell_type": "code",
   "execution_count": 62,
   "metadata": {},
   "outputs": [],
   "source": [
    "new_index = data_map['float_number'].unique()"
   ]
  },
  {
   "cell_type": "code",
   "execution_count": 63,
   "metadata": {},
   "outputs": [
    {
     "data": {
      "text/plain": [
       "11404"
      ]
     },
     "execution_count": 63,
     "metadata": {},
     "output_type": "execute_result"
    }
   ],
   "source": [
    "len(new_index)"
   ]
  },
  {
   "cell_type": "code",
   "execution_count": 55,
   "metadata": {},
   "outputs": [],
   "source": [
    "id_index = [item for item in id_index if item not in new_index]"
   ]
  },
  {
   "cell_type": "code",
   "execution_count": 16,
   "metadata": {},
   "outputs": [],
   "source": [
    "all_ocean = pd.read_csv('data_for_map.csv')"
   ]
  },
  {
   "cell_type": "code",
   "execution_count": 20,
   "metadata": {},
   "outputs": [
    {
     "data": {
      "text/html": [
       "<div>\n",
       "<style scoped>\n",
       "    .dataframe tbody tr th:only-of-type {\n",
       "        vertical-align: middle;\n",
       "    }\n",
       "\n",
       "    .dataframe tbody tr th {\n",
       "        vertical-align: top;\n",
       "    }\n",
       "\n",
       "    .dataframe thead th {\n",
       "        text-align: right;\n",
       "    }\n",
       "</style>\n",
       "<table border=\"1\" class=\"dataframe\">\n",
       "  <thead>\n",
       "    <tr style=\"text-align: right;\">\n",
       "      <th></th>\n",
       "      <th>float_number</th>\n",
       "      <th>date</th>\n",
       "      <th>longitude</th>\n",
       "      <th>latitude</th>\n",
       "    </tr>\n",
       "  </thead>\n",
       "  <tbody>\n",
       "    <tr>\n",
       "      <th>0</th>\n",
       "      <td>1900083</td>\n",
       "      <td>2001-08-26 00:00:00.000000000</td>\n",
       "      <td>34.71100</td>\n",
       "      <td>-29.67400</td>\n",
       "    </tr>\n",
       "    <tr>\n",
       "      <th>1</th>\n",
       "      <td>1900083</td>\n",
       "      <td>2001-08-26 00:00:00.000000000</td>\n",
       "      <td>34.71100</td>\n",
       "      <td>-29.67400</td>\n",
       "    </tr>\n",
       "    <tr>\n",
       "      <th>2</th>\n",
       "      <td>1900083</td>\n",
       "      <td>2001-08-26 00:00:00.000000000</td>\n",
       "      <td>34.71100</td>\n",
       "      <td>-29.67400</td>\n",
       "    </tr>\n",
       "    <tr>\n",
       "      <th>3</th>\n",
       "      <td>1900083</td>\n",
       "      <td>2001-08-28 00:00:00.000000000</td>\n",
       "      <td>34.68900</td>\n",
       "      <td>-29.59380</td>\n",
       "    </tr>\n",
       "    <tr>\n",
       "      <th>4</th>\n",
       "      <td>1900083</td>\n",
       "      <td>2001-08-30 00:00:00.000000000</td>\n",
       "      <td>34.66700</td>\n",
       "      <td>-29.51360</td>\n",
       "    </tr>\n",
       "    <tr>\n",
       "      <th>...</th>\n",
       "      <td>...</td>\n",
       "      <td>...</td>\n",
       "      <td>...</td>\n",
       "      <td>...</td>\n",
       "    </tr>\n",
       "    <tr>\n",
       "      <th>4480394</th>\n",
       "      <td>7902201</td>\n",
       "      <td>2024-09-08 00:00:00.000000000</td>\n",
       "      <td>60.88182</td>\n",
       "      <td>-2.82954</td>\n",
       "    </tr>\n",
       "    <tr>\n",
       "      <th>4480395</th>\n",
       "      <td>7902201</td>\n",
       "      <td>2024-09-10 00:00:00.000000000</td>\n",
       "      <td>60.92164</td>\n",
       "      <td>-2.81708</td>\n",
       "    </tr>\n",
       "    <tr>\n",
       "      <th>4480396</th>\n",
       "      <td>7902201</td>\n",
       "      <td>2024-09-12 00:00:00.000000000</td>\n",
       "      <td>60.96146</td>\n",
       "      <td>-2.80462</td>\n",
       "    </tr>\n",
       "    <tr>\n",
       "      <th>4480397</th>\n",
       "      <td>7902201</td>\n",
       "      <td>2024-09-14 00:00:00.000000000</td>\n",
       "      <td>61.00128</td>\n",
       "      <td>-2.79216</td>\n",
       "    </tr>\n",
       "    <tr>\n",
       "      <th>4480398</th>\n",
       "      <td>7902201</td>\n",
       "      <td>2024-09-16 00:00:00.000000000</td>\n",
       "      <td>61.04110</td>\n",
       "      <td>-2.77970</td>\n",
       "    </tr>\n",
       "  </tbody>\n",
       "</table>\n",
       "<p>4480399 rows × 4 columns</p>\n",
       "</div>"
      ],
      "text/plain": [
       "         float_number                           date  longitude  latitude\n",
       "0             1900083  2001-08-26 00:00:00.000000000   34.71100 -29.67400\n",
       "1             1900083  2001-08-26 00:00:00.000000000   34.71100 -29.67400\n",
       "2             1900083  2001-08-26 00:00:00.000000000   34.71100 -29.67400\n",
       "3             1900083  2001-08-28 00:00:00.000000000   34.68900 -29.59380\n",
       "4             1900083  2001-08-30 00:00:00.000000000   34.66700 -29.51360\n",
       "...               ...                            ...        ...       ...\n",
       "4480394       7902201  2024-09-08 00:00:00.000000000   60.88182  -2.82954\n",
       "4480395       7902201  2024-09-10 00:00:00.000000000   60.92164  -2.81708\n",
       "4480396       7902201  2024-09-12 00:00:00.000000000   60.96146  -2.80462\n",
       "4480397       7902201  2024-09-14 00:00:00.000000000   61.00128  -2.79216\n",
       "4480398       7902201  2024-09-16 00:00:00.000000000   61.04110  -2.77970\n",
       "\n",
       "[4480399 rows x 4 columns]"
      ]
     },
     "execution_count": 20,
     "metadata": {},
     "output_type": "execute_result"
    }
   ],
   "source": [
    "all_ocean"
   ]
  },
  {
   "cell_type": "code",
   "execution_count": 21,
   "metadata": {},
   "outputs": [
    {
     "data": {
      "text/html": [
       "<div>\n",
       "<style scoped>\n",
       "    .dataframe tbody tr th:only-of-type {\n",
       "        vertical-align: middle;\n",
       "    }\n",
       "\n",
       "    .dataframe tbody tr th {\n",
       "        vertical-align: top;\n",
       "    }\n",
       "\n",
       "    .dataframe thead th {\n",
       "        text-align: right;\n",
       "    }\n",
       "</style>\n",
       "<table border=\"1\" class=\"dataframe\">\n",
       "  <thead>\n",
       "    <tr style=\"text-align: right;\">\n",
       "      <th></th>\n",
       "      <th>float_number</th>\n",
       "      <th>date</th>\n",
       "      <th>longitude</th>\n",
       "      <th>latitude</th>\n",
       "    </tr>\n",
       "  </thead>\n",
       "  <tbody>\n",
       "    <tr>\n",
       "      <th>232260</th>\n",
       "      <td>1901604</td>\n",
       "      <td>2023-02-06 00:00:00.000000000</td>\n",
       "      <td>11.055000</td>\n",
       "      <td>-30.676000</td>\n",
       "    </tr>\n",
       "    <tr>\n",
       "      <th>232261</th>\n",
       "      <td>1901604</td>\n",
       "      <td>2023-02-06 00:00:00.000000000</td>\n",
       "      <td>11.055000</td>\n",
       "      <td>-30.676000</td>\n",
       "    </tr>\n",
       "    <tr>\n",
       "      <th>232262</th>\n",
       "      <td>1901604</td>\n",
       "      <td>2023-02-06 00:00:00.000000000</td>\n",
       "      <td>11.055000</td>\n",
       "      <td>-30.676000</td>\n",
       "    </tr>\n",
       "    <tr>\n",
       "      <th>291066</th>\n",
       "      <td>1901740</td>\n",
       "      <td>2023-01-02 18:40:00.000000000</td>\n",
       "      <td>76.341089</td>\n",
       "      <td>-31.248722</td>\n",
       "    </tr>\n",
       "    <tr>\n",
       "      <th>291067</th>\n",
       "      <td>1901740</td>\n",
       "      <td>2023-01-05 00:00:00.000000000</td>\n",
       "      <td>76.295700</td>\n",
       "      <td>-31.174600</td>\n",
       "    </tr>\n",
       "    <tr>\n",
       "      <th>...</th>\n",
       "      <td>...</td>\n",
       "      <td>...</td>\n",
       "      <td>...</td>\n",
       "      <td>...</td>\n",
       "    </tr>\n",
       "    <tr>\n",
       "      <th>4479414</th>\n",
       "      <td>7901128</td>\n",
       "      <td>2023-12-12 08:00:00.000000000</td>\n",
       "      <td>66.405557</td>\n",
       "      <td>19.283333</td>\n",
       "    </tr>\n",
       "    <tr>\n",
       "      <th>4479415</th>\n",
       "      <td>7901128</td>\n",
       "      <td>2023-12-14 13:20:00.000000000</td>\n",
       "      <td>66.409261</td>\n",
       "      <td>19.255556</td>\n",
       "    </tr>\n",
       "    <tr>\n",
       "      <th>4479416</th>\n",
       "      <td>7901128</td>\n",
       "      <td>2023-12-16 18:40:00.000000000</td>\n",
       "      <td>66.412966</td>\n",
       "      <td>19.227778</td>\n",
       "    </tr>\n",
       "    <tr>\n",
       "      <th>4479417</th>\n",
       "      <td>7901128</td>\n",
       "      <td>2023-12-19 00:00:00.000000000</td>\n",
       "      <td>66.416670</td>\n",
       "      <td>19.200000</td>\n",
       "    </tr>\n",
       "    <tr>\n",
       "      <th>4479418</th>\n",
       "      <td>7901128</td>\n",
       "      <td>2023-12-19 00:00:00.000000000</td>\n",
       "      <td>66.416670</td>\n",
       "      <td>19.200000</td>\n",
       "    </tr>\n",
       "  </tbody>\n",
       "</table>\n",
       "<p>291818 rows × 4 columns</p>\n",
       "</div>"
      ],
      "text/plain": [
       "         float_number                           date  longitude   latitude\n",
       "232260        1901604  2023-02-06 00:00:00.000000000  11.055000 -30.676000\n",
       "232261        1901604  2023-02-06 00:00:00.000000000  11.055000 -30.676000\n",
       "232262        1901604  2023-02-06 00:00:00.000000000  11.055000 -30.676000\n",
       "291066        1901740  2023-01-02 18:40:00.000000000  76.341089 -31.248722\n",
       "291067        1901740  2023-01-05 00:00:00.000000000  76.295700 -31.174600\n",
       "...               ...                            ...        ...        ...\n",
       "4479414       7901128  2023-12-12 08:00:00.000000000  66.405557  19.283333\n",
       "4479415       7901128  2023-12-14 13:20:00.000000000  66.409261  19.255556\n",
       "4479416       7901128  2023-12-16 18:40:00.000000000  66.412966  19.227778\n",
       "4479417       7901128  2023-12-19 00:00:00.000000000  66.416670  19.200000\n",
       "4479418       7901128  2023-12-19 00:00:00.000000000  66.416670  19.200000\n",
       "\n",
       "[291818 rows x 4 columns]"
      ]
     },
     "execution_count": 21,
     "metadata": {},
     "output_type": "execute_result"
    }
   ],
   "source": [
    "all_ocean[all_ocean['date'].str[:4]=='2023']"
   ]
  },
  {
   "cell_type": "code",
   "execution_count": 22,
   "metadata": {},
   "outputs": [],
   "source": [
    "subset = pd.concat([all_ocean[all_ocean['date'].str[:4]=='2022'],all_ocean[all_ocean['date'].str[:4]=='2023']])"
   ]
  },
  {
   "cell_type": "code",
   "execution_count": 23,
   "metadata": {},
   "outputs": [],
   "source": [
    "subset.to_csv('data_for_map_2023.csv')"
   ]
  },
  {
   "cell_type": "code",
   "execution_count": null,
   "metadata": {},
   "outputs": [],
   "source": []
  },
  {
   "cell_type": "markdown",
   "metadata": {},
   "source": [
    "## Make data for lstm"
   ]
  },
  {
   "cell_type": "code",
   "execution_count": 77,
   "metadata": {},
   "outputs": [],
   "source": []
  },
  {
   "cell_type": "code",
   "execution_count": 78,
   "metadata": {},
   "outputs": [],
   "source": [
    "id_index = all_ocean['float_number'].unique()"
   ]
  },
  {
   "cell_type": "code",
   "execution_count": 21,
   "metadata": {},
   "outputs": [
    {
     "name": "stdout",
     "output_type": "stream",
     "text": [
      "percent done: % 0.008768853034023149\n",
      "percent done: % 10.005261311820414\n",
      "percent done: % 20.001753770606804\n",
      "percent done: % 30.00701508242722\n",
      "percent done: % 40.00350754121361\n",
      "percent done: % 50.0\n",
      "percent done: % 60.00526131182041\n",
      "percent done: % 70.00175377060681\n",
      "percent done: % 80.00701508242722\n",
      "percent done: % 90.00350754121361\n",
      "percent done: % 100.0\n"
     ]
    }
   ],
   "source": [
    "import numpy as np\n",
    "all_ocean = pd.read_csv('all_ocean_data.csv')\n",
    "all_ocean['date'] = pd.to_datetime(all_ocean['date'])  # Ensure 'date' is a datetime object\n",
    "all_ocean = all_ocean.sort_values(by=['float_number', 'date'], ascending=True)\n",
    "id_index = all_ocean['float_number'].unique()\n",
    "last_index = id_index[0]\n",
    "recent = all_ocean[all_ocean['float_number']==last_index]\n",
    "recent['distance'] = 0\n",
    "lstm_df = recent\n",
    "\n",
    "count = 0\n",
    "total = len(id_index)\n",
    "marker = 0\n",
    "\n",
    "\n",
    "for _ in range(len(id_index)):\n",
    "    count += 1\n",
    "    percent = 100*count/total\n",
    "    if percent >= marker:\n",
    "        print('percent done: %', percent)\n",
    "        marker+=10\n",
    "    last_lat, last_long = recent['latitude'].iloc[-1], recent['longitude'].iloc[-1]\n",
    "    id_index = [item for item in id_index if item != last_index]\n",
    "    best = np.inf\n",
    "    for id in id_index:\n",
    "        next_lat, next_long = all_ocean[all_ocean['float_number']==id]['latitude'].iloc[0], all_ocean[all_ocean['float_number']==id]['longitude'].iloc[0]\n",
    "        distance = (((next_lat-last_lat)**2) + ((next_long - last_long)**2))**0.5\n",
    "        if distance < best:\n",
    "            last_index = id\n",
    "            best = distance\n",
    "    recent = all_ocean[all_ocean['float_number']==last_index] \n",
    "    recent['distance'] = best\n",
    "    lstm_df = pd.concat([lstm_df, recent])\n",
    "\n",
    "\n"
   ]
  },
  {
   "cell_type": "code",
   "execution_count": 22,
   "metadata": {},
   "outputs": [],
   "source": [
    "lstm_df.to_csv('lstm_data.csv', index=False)"
   ]
  },
  {
   "cell_type": "code",
   "execution_count": 3,
   "metadata": {},
   "outputs": [],
   "source": [
    "lstm_df = pd.read_csv('lstm_data.csv')"
   ]
  },
  {
   "cell_type": "markdown",
   "metadata": {},
   "source": []
  },
  {
   "cell_type": "code",
   "execution_count": 5,
   "metadata": {},
   "outputs": [],
   "source": [
    "lstm_for_map = pd.concat([\n",
    "    lstm_df.iloc[:5000],\n",
    "    lstm_df.iloc[300000:305000],\n",
    "    lstm_df.iloc[500000:505000],\n",
    "    lstm_df.iloc[650000:655000],\n",
    "\n",
    "])"
   ]
  },
  {
   "cell_type": "code",
   "execution_count": 7,
   "metadata": {},
   "outputs": [],
   "source": [
    "lstm_for_map.to_csv('lstm_for_map.csv')"
   ]
  },
  {
   "cell_type": "code",
   "execution_count": 8,
   "metadata": {},
   "outputs": [],
   "source": [
    "index = lstm_for_map.index.tolist()"
   ]
  },
  {
   "cell_type": "code",
   "execution_count": 15,
   "metadata": {},
   "outputs": [
    {
     "data": {
      "text/html": [
       "<div>\n",
       "<style scoped>\n",
       "    .dataframe tbody tr th:only-of-type {\n",
       "        vertical-align: middle;\n",
       "    }\n",
       "\n",
       "    .dataframe tbody tr th {\n",
       "        vertical-align: top;\n",
       "    }\n",
       "\n",
       "    .dataframe thead th {\n",
       "        text-align: right;\n",
       "    }\n",
       "</style>\n",
       "<table border=\"1\" class=\"dataframe\">\n",
       "  <thead>\n",
       "    <tr style=\"text-align: right;\">\n",
       "      <th></th>\n",
       "      <th>Unnamed: 0</th>\n",
       "      <th>float_number</th>\n",
       "      <th>date</th>\n",
       "      <th>latitude</th>\n",
       "      <th>longitude</th>\n",
       "      <th>q0_psal</th>\n",
       "      <th>q1_psal</th>\n",
       "      <th>q2_psal</th>\n",
       "      <th>q3_psal</th>\n",
       "      <th>q4_psal</th>\n",
       "      <th>q0_temp</th>\n",
       "      <th>q1_temp</th>\n",
       "      <th>q2_temp</th>\n",
       "      <th>q3_temp</th>\n",
       "      <th>q4_temp</th>\n",
       "      <th>distance</th>\n",
       "    </tr>\n",
       "  </thead>\n",
       "  <tbody>\n",
       "    <tr>\n",
       "      <th>650001</th>\n",
       "      <td>656983</td>\n",
       "      <td>1901612</td>\n",
       "      <td>2015-11-01</td>\n",
       "      <td>-58.4870</td>\n",
       "      <td>135.0110</td>\n",
       "      <td>33.844</td>\n",
       "      <td>34.484</td>\n",
       "      <td>34.686</td>\n",
       "      <td>34.740</td>\n",
       "      <td>34.735</td>\n",
       "      <td>1.399</td>\n",
       "      <td>2.430</td>\n",
       "      <td>2.267</td>\n",
       "      <td>1.907</td>\n",
       "      <td>1.435</td>\n",
       "      <td>32.632727</td>\n",
       "    </tr>\n",
       "    <tr>\n",
       "      <th>650002</th>\n",
       "      <td>1073</td>\n",
       "      <td>7900900</td>\n",
       "      <td>2020-02-22</td>\n",
       "      <td>-59.9406</td>\n",
       "      <td>139.9241</td>\n",
       "      <td>33.817</td>\n",
       "      <td>34.650</td>\n",
       "      <td>34.730</td>\n",
       "      <td>34.740</td>\n",
       "      <td>34.723</td>\n",
       "      <td>3.558</td>\n",
       "      <td>2.178</td>\n",
       "      <td>1.864</td>\n",
       "      <td>1.525</td>\n",
       "      <td>1.132</td>\n",
       "      <td>5.123622</td>\n",
       "    </tr>\n",
       "    <tr>\n",
       "      <th>650003</th>\n",
       "      <td>1074</td>\n",
       "      <td>7900900</td>\n",
       "      <td>2020-03-03</td>\n",
       "      <td>-60.1830</td>\n",
       "      <td>140.4060</td>\n",
       "      <td>33.814</td>\n",
       "      <td>34.651</td>\n",
       "      <td>34.736</td>\n",
       "      <td>34.739</td>\n",
       "      <td>34.723</td>\n",
       "      <td>3.457</td>\n",
       "      <td>2.148</td>\n",
       "      <td>1.872</td>\n",
       "      <td>1.489</td>\n",
       "      <td>1.110</td>\n",
       "      <td>5.123622</td>\n",
       "    </tr>\n",
       "    <tr>\n",
       "      <th>650004</th>\n",
       "      <td>1075</td>\n",
       "      <td>7900900</td>\n",
       "      <td>2020-03-13</td>\n",
       "      <td>-60.5501</td>\n",
       "      <td>140.0715</td>\n",
       "      <td>33.815</td>\n",
       "      <td>34.640</td>\n",
       "      <td>34.731</td>\n",
       "      <td>34.741</td>\n",
       "      <td>34.724</td>\n",
       "      <td>3.514</td>\n",
       "      <td>2.173</td>\n",
       "      <td>1.882</td>\n",
       "      <td>1.523</td>\n",
       "      <td>1.125</td>\n",
       "      <td>5.123622</td>\n",
       "    </tr>\n",
       "  </tbody>\n",
       "</table>\n",
       "</div>"
      ],
      "text/plain": [
       "        Unnamed: 0  float_number        date  latitude  longitude  q0_psal  \\\n",
       "650001      656983       1901612  2015-11-01  -58.4870   135.0110   33.844   \n",
       "650002        1073       7900900  2020-02-22  -59.9406   139.9241   33.817   \n",
       "650003        1074       7900900  2020-03-03  -60.1830   140.4060   33.814   \n",
       "650004        1075       7900900  2020-03-13  -60.5501   140.0715   33.815   \n",
       "\n",
       "        q1_psal  q2_psal  q3_psal  q4_psal  q0_temp  q1_temp  q2_temp  \\\n",
       "650001   34.484   34.686   34.740   34.735    1.399    2.430    2.267   \n",
       "650002   34.650   34.730   34.740   34.723    3.558    2.178    1.864   \n",
       "650003   34.651   34.736   34.739   34.723    3.457    2.148    1.872   \n",
       "650004   34.640   34.731   34.741   34.724    3.514    2.173    1.882   \n",
       "\n",
       "        q3_temp  q4_temp   distance  \n",
       "650001    1.907    1.435  32.632727  \n",
       "650002    1.525    1.132   5.123622  \n",
       "650003    1.489    1.110   5.123622  \n",
       "650004    1.523    1.125   5.123622  "
      ]
     },
     "execution_count": 15,
     "metadata": {},
     "output_type": "execute_result"
    }
   ],
   "source": [
    "lstm_for_map.loc[index[15001:15005]]"
   ]
  },
  {
   "cell_type": "code",
   "execution_count": null,
   "metadata": {},
   "outputs": [],
   "source": []
  },
  {
   "cell_type": "code",
   "execution_count": null,
   "metadata": {},
   "outputs": [],
   "source": []
  },
  {
   "cell_type": "code",
   "execution_count": null,
   "metadata": {},
   "outputs": [],
   "source": []
  },
  {
   "cell_type": "markdown",
   "metadata": {},
   "source": [
    "## LSTM Model"
   ]
  },
  {
   "cell_type": "code",
   "execution_count": 1,
   "metadata": {},
   "outputs": [],
   "source": [
    "import tensorflow as tf\n",
    "import os\n",
    "import pandas as pd\n",
    "import numpy as np"
   ]
  },
  {
   "cell_type": "code",
   "execution_count": 2,
   "metadata": {},
   "outputs": [],
   "source": [
    "df = pd.read_csv('lstm_data.csv')"
   ]
  },
  {
   "cell_type": "code",
   "execution_count": 3,
   "metadata": {},
   "outputs": [
    {
     "data": {
      "text/html": [
       "<div>\n",
       "<style scoped>\n",
       "    .dataframe tbody tr th:only-of-type {\n",
       "        vertical-align: middle;\n",
       "    }\n",
       "\n",
       "    .dataframe tbody tr th {\n",
       "        vertical-align: top;\n",
       "    }\n",
       "\n",
       "    .dataframe thead th {\n",
       "        text-align: right;\n",
       "    }\n",
       "</style>\n",
       "<table border=\"1\" class=\"dataframe\">\n",
       "  <thead>\n",
       "    <tr style=\"text-align: right;\">\n",
       "      <th></th>\n",
       "      <th>Unnamed: 0</th>\n",
       "      <th>float_number</th>\n",
       "      <th>date</th>\n",
       "      <th>latitude</th>\n",
       "      <th>longitude</th>\n",
       "      <th>q0_psal</th>\n",
       "      <th>q1_psal</th>\n",
       "      <th>q2_psal</th>\n",
       "      <th>q3_psal</th>\n",
       "      <th>q4_psal</th>\n",
       "      <th>q0_temp</th>\n",
       "      <th>q1_temp</th>\n",
       "      <th>q2_temp</th>\n",
       "      <th>q3_temp</th>\n",
       "      <th>q4_temp</th>\n",
       "      <th>distance</th>\n",
       "    </tr>\n",
       "  </thead>\n",
       "  <tbody>\n",
       "    <tr>\n",
       "      <th>0</th>\n",
       "      <td>527182</td>\n",
       "      <td>29034</td>\n",
       "      <td>2000-11-09</td>\n",
       "      <td>29.541</td>\n",
       "      <td>144.013</td>\n",
       "      <td>34.637</td>\n",
       "      <td>34.545</td>\n",
       "      <td>34.216</td>\n",
       "      <td>34.472</td>\n",
       "      <td>34.585</td>\n",
       "      <td>26.977</td>\n",
       "      <td>14.051</td>\n",
       "      <td>4.273</td>\n",
       "      <td>2.675</td>\n",
       "      <td>2.040</td>\n",
       "      <td>0.0</td>\n",
       "    </tr>\n",
       "    <tr>\n",
       "      <th>1</th>\n",
       "      <td>527183</td>\n",
       "      <td>29034</td>\n",
       "      <td>2000-12-09</td>\n",
       "      <td>28.980</td>\n",
       "      <td>143.237</td>\n",
       "      <td>34.718</td>\n",
       "      <td>34.475</td>\n",
       "      <td>34.270</td>\n",
       "      <td>34.473</td>\n",
       "      <td>34.583</td>\n",
       "      <td>24.441</td>\n",
       "      <td>13.197</td>\n",
       "      <td>4.491</td>\n",
       "      <td>2.730</td>\n",
       "      <td>2.038</td>\n",
       "      <td>0.0</td>\n",
       "    </tr>\n",
       "    <tr>\n",
       "      <th>2</th>\n",
       "      <td>527184</td>\n",
       "      <td>29034</td>\n",
       "      <td>2000-12-19</td>\n",
       "      <td>28.880</td>\n",
       "      <td>143.215</td>\n",
       "      <td>34.658</td>\n",
       "      <td>34.522</td>\n",
       "      <td>34.257</td>\n",
       "      <td>34.485</td>\n",
       "      <td>34.591</td>\n",
       "      <td>23.377</td>\n",
       "      <td>13.794</td>\n",
       "      <td>4.709</td>\n",
       "      <td>2.609</td>\n",
       "      <td>2.005</td>\n",
       "      <td>0.0</td>\n",
       "    </tr>\n",
       "    <tr>\n",
       "      <th>3</th>\n",
       "      <td>527185</td>\n",
       "      <td>29034</td>\n",
       "      <td>2000-12-29</td>\n",
       "      <td>28.709</td>\n",
       "      <td>143.096</td>\n",
       "      <td>34.685</td>\n",
       "      <td>34.502</td>\n",
       "      <td>34.293</td>\n",
       "      <td>34.487</td>\n",
       "      <td>34.590</td>\n",
       "      <td>22.036</td>\n",
       "      <td>13.525</td>\n",
       "      <td>4.520</td>\n",
       "      <td>2.637</td>\n",
       "      <td>2.029</td>\n",
       "      <td>0.0</td>\n",
       "    </tr>\n",
       "    <tr>\n",
       "      <th>4</th>\n",
       "      <td>527186</td>\n",
       "      <td>29034</td>\n",
       "      <td>2001-01-08</td>\n",
       "      <td>28.504</td>\n",
       "      <td>143.012</td>\n",
       "      <td>34.762</td>\n",
       "      <td>34.447</td>\n",
       "      <td>34.296</td>\n",
       "      <td>34.493</td>\n",
       "      <td>34.596</td>\n",
       "      <td>21.855</td>\n",
       "      <td>12.802</td>\n",
       "      <td>4.298</td>\n",
       "      <td>2.591</td>\n",
       "      <td>1.986</td>\n",
       "      <td>0.0</td>\n",
       "    </tr>\n",
       "    <tr>\n",
       "      <th>...</th>\n",
       "      <td>...</td>\n",
       "      <td>...</td>\n",
       "      <td>...</td>\n",
       "      <td>...</td>\n",
       "      <td>...</td>\n",
       "      <td>...</td>\n",
       "      <td>...</td>\n",
       "      <td>...</td>\n",
       "      <td>...</td>\n",
       "      <td>...</td>\n",
       "      <td>...</td>\n",
       "      <td>...</td>\n",
       "      <td>...</td>\n",
       "      <td>...</td>\n",
       "      <td>...</td>\n",
       "      <td>...</td>\n",
       "    </tr>\n",
       "    <tr>\n",
       "      <th>681535</th>\n",
       "      <td>420272</td>\n",
       "      <td>4900946</td>\n",
       "      <td>2013-06-09</td>\n",
       "      <td>45.865</td>\n",
       "      <td>-175.566</td>\n",
       "      <td>33.165</td>\n",
       "      <td>34.102</td>\n",
       "      <td>34.367</td>\n",
       "      <td>34.501</td>\n",
       "      <td>34.578</td>\n",
       "      <td>8.213</td>\n",
       "      <td>3.900</td>\n",
       "      <td>2.868</td>\n",
       "      <td>2.289</td>\n",
       "      <td>1.942</td>\n",
       "      <td>inf</td>\n",
       "    </tr>\n",
       "    <tr>\n",
       "      <th>681536</th>\n",
       "      <td>420273</td>\n",
       "      <td>4900946</td>\n",
       "      <td>2013-07-19</td>\n",
       "      <td>46.202</td>\n",
       "      <td>-175.465</td>\n",
       "      <td>32.923</td>\n",
       "      <td>34.073</td>\n",
       "      <td>34.375</td>\n",
       "      <td>34.498</td>\n",
       "      <td>34.573</td>\n",
       "      <td>11.690</td>\n",
       "      <td>3.750</td>\n",
       "      <td>2.887</td>\n",
       "      <td>2.312</td>\n",
       "      <td>1.961</td>\n",
       "      <td>inf</td>\n",
       "    </tr>\n",
       "    <tr>\n",
       "      <th>681537</th>\n",
       "      <td>420274</td>\n",
       "      <td>4900946</td>\n",
       "      <td>2013-08-08</td>\n",
       "      <td>46.298</td>\n",
       "      <td>-175.172</td>\n",
       "      <td>32.876</td>\n",
       "      <td>34.086</td>\n",
       "      <td>34.367</td>\n",
       "      <td>34.499</td>\n",
       "      <td>34.575</td>\n",
       "      <td>12.810</td>\n",
       "      <td>3.766</td>\n",
       "      <td>2.874</td>\n",
       "      <td>2.306</td>\n",
       "      <td>1.956</td>\n",
       "      <td>inf</td>\n",
       "    </tr>\n",
       "    <tr>\n",
       "      <th>681538</th>\n",
       "      <td>420275</td>\n",
       "      <td>4900946</td>\n",
       "      <td>2013-09-17</td>\n",
       "      <td>46.102</td>\n",
       "      <td>-173.380</td>\n",
       "      <td>32.888</td>\n",
       "      <td>34.059</td>\n",
       "      <td>34.369</td>\n",
       "      <td>34.496</td>\n",
       "      <td>34.578</td>\n",
       "      <td>12.274</td>\n",
       "      <td>3.831</td>\n",
       "      <td>2.914</td>\n",
       "      <td>2.320</td>\n",
       "      <td>1.946</td>\n",
       "      <td>inf</td>\n",
       "    </tr>\n",
       "    <tr>\n",
       "      <th>681539</th>\n",
       "      <td>420276</td>\n",
       "      <td>4900946</td>\n",
       "      <td>2013-10-27</td>\n",
       "      <td>45.997</td>\n",
       "      <td>-171.759</td>\n",
       "      <td>32.789</td>\n",
       "      <td>34.082</td>\n",
       "      <td>34.355</td>\n",
       "      <td>34.496</td>\n",
       "      <td>34.572</td>\n",
       "      <td>10.100</td>\n",
       "      <td>3.853</td>\n",
       "      <td>2.935</td>\n",
       "      <td>2.329</td>\n",
       "      <td>1.976</td>\n",
       "      <td>inf</td>\n",
       "    </tr>\n",
       "  </tbody>\n",
       "</table>\n",
       "<p>681540 rows × 16 columns</p>\n",
       "</div>"
      ],
      "text/plain": [
       "        Unnamed: 0  float_number        date  latitude  longitude  q0_psal  \\\n",
       "0           527182         29034  2000-11-09    29.541    144.013   34.637   \n",
       "1           527183         29034  2000-12-09    28.980    143.237   34.718   \n",
       "2           527184         29034  2000-12-19    28.880    143.215   34.658   \n",
       "3           527185         29034  2000-12-29    28.709    143.096   34.685   \n",
       "4           527186         29034  2001-01-08    28.504    143.012   34.762   \n",
       "...            ...           ...         ...       ...        ...      ...   \n",
       "681535      420272       4900946  2013-06-09    45.865   -175.566   33.165   \n",
       "681536      420273       4900946  2013-07-19    46.202   -175.465   32.923   \n",
       "681537      420274       4900946  2013-08-08    46.298   -175.172   32.876   \n",
       "681538      420275       4900946  2013-09-17    46.102   -173.380   32.888   \n",
       "681539      420276       4900946  2013-10-27    45.997   -171.759   32.789   \n",
       "\n",
       "        q1_psal  q2_psal  q3_psal  q4_psal  q0_temp  q1_temp  q2_temp  \\\n",
       "0        34.545   34.216   34.472   34.585   26.977   14.051    4.273   \n",
       "1        34.475   34.270   34.473   34.583   24.441   13.197    4.491   \n",
       "2        34.522   34.257   34.485   34.591   23.377   13.794    4.709   \n",
       "3        34.502   34.293   34.487   34.590   22.036   13.525    4.520   \n",
       "4        34.447   34.296   34.493   34.596   21.855   12.802    4.298   \n",
       "...         ...      ...      ...      ...      ...      ...      ...   \n",
       "681535   34.102   34.367   34.501   34.578    8.213    3.900    2.868   \n",
       "681536   34.073   34.375   34.498   34.573   11.690    3.750    2.887   \n",
       "681537   34.086   34.367   34.499   34.575   12.810    3.766    2.874   \n",
       "681538   34.059   34.369   34.496   34.578   12.274    3.831    2.914   \n",
       "681539   34.082   34.355   34.496   34.572   10.100    3.853    2.935   \n",
       "\n",
       "        q3_temp  q4_temp  distance  \n",
       "0         2.675    2.040       0.0  \n",
       "1         2.730    2.038       0.0  \n",
       "2         2.609    2.005       0.0  \n",
       "3         2.637    2.029       0.0  \n",
       "4         2.591    1.986       0.0  \n",
       "...         ...      ...       ...  \n",
       "681535    2.289    1.942       inf  \n",
       "681536    2.312    1.961       inf  \n",
       "681537    2.306    1.956       inf  \n",
       "681538    2.320    1.946       inf  \n",
       "681539    2.329    1.976       inf  \n",
       "\n",
       "[681540 rows x 16 columns]"
      ]
     },
     "execution_count": 3,
     "metadata": {},
     "output_type": "execute_result"
    }
   ],
   "source": [
    "df"
   ]
  },
  {
   "cell_type": "code",
   "execution_count": 6,
   "metadata": {},
   "outputs": [
    {
     "data": {
      "text/plain": [
       "<Axes: >"
      ]
     },
     "execution_count": 6,
     "metadata": {},
     "output_type": "execute_result"
    },
    {
     "data": {
      "image/png": "[encoded data removed]",
      "text/plain": [
       "<Figure size 640x480 with 1 Axes>"
      ]
     },
     "metadata": {},
     "output_type": "display_data"
    }
   ],
   "source": [
    "temp = df['q0_temp']\n",
    "temp.plot()"
   ]
  },
  {
   "cell_type": "code",
   "execution_count": 7,
   "metadata": {},
   "outputs": [
    {
     "data": {
      "text/plain": [
       "<Axes: >"
      ]
     },
     "execution_count": 7,
     "metadata": {},
     "output_type": "execute_result"
    },
    {
     "data": {
      "image/png": "[encoded data removed]",
      "text/plain": [
       "<Figure size 640x480 with 1 Axes>"
      ]
     },
     "metadata": {},
     "output_type": "display_data"
    }
   ],
   "source": [
    "temp[:100].plot()"
   ]
  },
  {
   "cell_type": "code",
   "execution_count": 8,
   "metadata": {},
   "outputs": [],
   "source": [
    "def df_to_X_y(df, window_size=5):\n",
    "  df_as_np = df.to_numpy()\n",
    "  X = []\n",
    "  y = []\n",
    "  for i in range(len(df_as_np)-window_size):\n",
    "    row = [[a] for a in df_as_np[i:i+window_size]]\n",
    "    X.append(row)\n",
    "    label = df_as_np[i+window_size]\n",
    "    y.append(label)\n",
    "  return np.array(X), np.array(y)"
   ]
  },
  {
   "cell_type": "code",
   "execution_count": 9,
   "metadata": {},
   "outputs": [
    {
     "data": {
      "text/plain": [
       "((681535, 5, 1), (681535,))"
      ]
     },
     "execution_count": 9,
     "metadata": {},
     "output_type": "execute_result"
    }
   ],
   "source": [
    "WINDOW_SIZE = 5\n",
    "X1, y1 = df_to_X_y(temp, WINDOW_SIZE)\n",
    "X1.shape, y1.shape"
   ]
  },
  {
   "cell_type": "code",
   "execution_count": 10,
   "metadata": {},
   "outputs": [
    {
     "data": {
      "text/plain": [
       "array([[[26.977],\n",
       "        [24.441],\n",
       "        [23.377],\n",
       "        [22.036],\n",
       "        [21.855]],\n",
       "\n",
       "       [[24.441],\n",
       "        [23.377],\n",
       "        [22.036],\n",
       "        [21.855],\n",
       "        [20.904]],\n",
       "\n",
       "       [[23.377],\n",
       "        [22.036],\n",
       "        [21.855],\n",
       "        [20.904],\n",
       "        [20.542]],\n",
       "\n",
       "       ...,\n",
       "\n",
       "       [[ 5.773],\n",
       "        [ 5.948],\n",
       "        [ 6.765],\n",
       "        [ 8.213],\n",
       "        [11.69 ]],\n",
       "\n",
       "       [[ 5.948],\n",
       "        [ 6.765],\n",
       "        [ 8.213],\n",
       "        [11.69 ],\n",
       "        [12.81 ]],\n",
       "\n",
       "       [[ 6.765],\n",
       "        [ 8.213],\n",
       "        [11.69 ],\n",
       "        [12.81 ],\n",
       "        [12.274]]])"
      ]
     },
     "execution_count": 10,
     "metadata": {},
     "output_type": "execute_result"
    }
   ],
   "source": [
    "X1"
   ]
  },
  {
   "cell_type": "code",
   "execution_count": 11,
   "metadata": {},
   "outputs": [
    {
     "data": {
      "text/plain": [
       "((408921, 5, 1), (408921,), (204460, 5, 1), (204460,), (68154, 5, 1), (68154,))"
      ]
     },
     "execution_count": 11,
     "metadata": {},
     "output_type": "execute_result"
    }
   ],
   "source": [
    "train_size = round(0.6*(len(X1)))\n",
    "val_size = round(0.3*(len(X1)))\n",
    "\n",
    "X_train1, y_train1 = X1[:train_size], y1[:train_size]\n",
    "X_val1, y_val1 = X1[train_size:train_size+val_size], y1[train_size:train_size+val_size]\n",
    "X_test1, y_test1 = X1[train_size+val_size:], y1[train_size+val_size:]\n",
    "X_train1.shape, y_train1.shape, X_val1.shape, y_val1.shape, X_test1.shape, y_test1.shape"
   ]
  },
  {
   "cell_type": "code",
   "execution_count": 2,
   "metadata": {},
   "outputs": [
    {
     "name": "stdout",
     "output_type": "stream",
     "text": [
      "Collecting tensorflow==2.14.0\n",
      "  Downloading tensorflow-2.14.0-cp310-cp310-win_amd64.whl.metadata (3.3 kB)\n",
      "Collecting tensorflow-intel==2.14.0 (from tensorflow==2.14.0)\n",
      "  Downloading tensorflow_intel-2.14.0-cp310-cp310-win_amd64.whl.metadata (4.8 kB)\n",
      "Requirement already satisfied: absl-py>=1.0.0 in c:\\users\\jonpg\\appdata\\local\\programs\\python\\python310\\lib\\site-packages (from tensorflow-intel==2.14.0->tensorflow==2.14.0) (2.1.0)\n",
      "Requirement already satisfied: astunparse>=1.6.0 in c:\\users\\jonpg\\appdata\\local\\programs\\python\\python310\\lib\\site-packages (from tensorflow-intel==2.14.0->tensorflow==2.14.0) (1.6.3)\n",
      "Requirement already satisfied: flatbuffers>=23.5.26 in c:\\users\\jonpg\\appdata\\local\\programs\\python\\python310\\lib\\site-packages (from tensorflow-intel==2.14.0->tensorflow==2.14.0) (24.3.25)\n",
      "Requirement already satisfied: gast!=0.5.0,!=0.5.1,!=0.5.2,>=0.2.1 in c:\\users\\jonpg\\appdata\\local\\programs\\python\\python310\\lib\\site-packages (from tensorflow-intel==2.14.0->tensorflow==2.14.0) (0.6.0)\n",
      "Requirement already satisfied: google-pasta>=0.1.1 in c:\\users\\jonpg\\appdata\\local\\programs\\python\\python310\\lib\\site-packages (from tensorflow-intel==2.14.0->tensorflow==2.14.0) (0.2.0)\n",
      "Requirement already satisfied: h5py>=2.9.0 in c:\\users\\jonpg\\appdata\\local\\programs\\python\\python310\\lib\\site-packages (from tensorflow-intel==2.14.0->tensorflow==2.14.0) (3.11.0)\n",
      "Requirement already satisfied: libclang>=13.0.0 in c:\\users\\jonpg\\appdata\\local\\programs\\python\\python310\\lib\\site-packages (from tensorflow-intel==2.14.0->tensorflow==2.14.0) (18.1.1)\n",
      "Collecting ml-dtypes==0.2.0 (from tensorflow-intel==2.14.0->tensorflow==2.14.0)\n",
      "  Downloading ml_dtypes-0.2.0-cp310-cp310-win_amd64.whl.metadata (20 kB)\n",
      "Requirement already satisfied: numpy>=1.23.5 in c:\\users\\jonpg\\appdata\\local\\programs\\python\\python310\\lib\\site-packages (from tensorflow-intel==2.14.0->tensorflow==2.14.0) (1.26.4)\n",
      "Requirement already satisfied: opt-einsum>=2.3.2 in c:\\users\\jonpg\\appdata\\local\\programs\\python\\python310\\lib\\site-packages (from tensorflow-intel==2.14.0->tensorflow==2.14.0) (3.3.0)\n",
      "Requirement already satisfied: packaging in c:\\users\\jonpg\\appdata\\roaming\\python\\python310\\site-packages (from tensorflow-intel==2.14.0->tensorflow==2.14.0) (24.1)\n",
      "Requirement already satisfied: protobuf!=4.21.0,!=4.21.1,!=4.21.2,!=4.21.3,!=4.21.4,!=4.21.5,<5.0.0dev,>=3.20.3 in c:\\users\\jonpg\\appdata\\local\\programs\\python\\python310\\lib\\site-packages (from tensorflow-intel==2.14.0->tensorflow==2.14.0) (4.25.4)\n",
      "Requirement already satisfied: setuptools in c:\\users\\jonpg\\appdata\\local\\programs\\python\\python310\\lib\\site-packages (from tensorflow-intel==2.14.0->tensorflow==2.14.0) (65.5.0)\n",
      "Requirement already satisfied: six>=1.12.0 in c:\\users\\jonpg\\appdata\\roaming\\python\\python310\\site-packages (from tensorflow-intel==2.14.0->tensorflow==2.14.0) (1.16.0)\n",
      "Requirement already satisfied: termcolor>=1.1.0 in c:\\users\\jonpg\\appdata\\local\\programs\\python\\python310\\lib\\site-packages (from tensorflow-intel==2.14.0->tensorflow==2.14.0) (2.4.0)\n",
      "Requirement already satisfied: typing-extensions>=3.6.6 in c:\\users\\jonpg\\appdata\\roaming\\python\\python310\\site-packages (from tensorflow-intel==2.14.0->tensorflow==2.14.0) (4.12.2)\n",
      "Collecting wrapt<1.15,>=1.11.0 (from tensorflow-intel==2.14.0->tensorflow==2.14.0)\n",
      "  Downloading wrapt-1.14.1-cp310-cp310-win_amd64.whl.metadata (6.7 kB)\n",
      "Requirement already satisfied: tensorflow-io-gcs-filesystem>=0.23.1 in c:\\users\\jonpg\\appdata\\local\\programs\\python\\python310\\lib\\site-packages (from tensorflow-intel==2.14.0->tensorflow==2.14.0) (0.31.0)\n",
      "Requirement already satisfied: grpcio<2.0,>=1.24.3 in c:\\users\\jonpg\\appdata\\local\\programs\\python\\python310\\lib\\site-packages (from tensorflow-intel==2.14.0->tensorflow==2.14.0) (1.65.1)\n",
      "Collecting tensorboard<2.15,>=2.14 (from tensorflow-intel==2.14.0->tensorflow==2.14.0)\n",
      "  Downloading tensorboard-2.14.1-py3-none-any.whl.metadata (1.7 kB)\n",
      "Collecting tensorflow-estimator<2.15,>=2.14.0 (from tensorflow-intel==2.14.0->tensorflow==2.14.0)\n",
      "  Downloading tensorflow_estimator-2.14.0-py2.py3-none-any.whl.metadata (1.3 kB)\n",
      "Collecting keras<2.15,>=2.14.0 (from tensorflow-intel==2.14.0->tensorflow==2.14.0)\n",
      "  Downloading keras-2.14.0-py3-none-any.whl.metadata (2.4 kB)\n",
      "Requirement already satisfied: wheel<1.0,>=0.23.0 in c:\\users\\jonpg\\appdata\\local\\programs\\python\\python310\\lib\\site-packages (from astunparse>=1.6.0->tensorflow-intel==2.14.0->tensorflow==2.14.0) (0.43.0)\n",
      "Collecting google-auth<3,>=1.6.3 (from tensorboard<2.15,>=2.14->tensorflow-intel==2.14.0->tensorflow==2.14.0)\n",
      "  Downloading google_auth-2.35.0-py2.py3-none-any.whl.metadata (4.7 kB)\n",
      "Collecting google-auth-oauthlib<1.1,>=0.5 (from tensorboard<2.15,>=2.14->tensorflow-intel==2.14.0->tensorflow==2.14.0)\n",
      "  Downloading google_auth_oauthlib-1.0.0-py2.py3-none-any.whl.metadata (2.7 kB)\n",
      "Requirement already satisfied: markdown>=2.6.8 in c:\\users\\jonpg\\appdata\\local\\programs\\python\\python310\\lib\\site-packages (from tensorboard<2.15,>=2.14->tensorflow-intel==2.14.0->tensorflow==2.14.0) (3.6)\n",
      "Requirement already satisfied: requests<3,>=2.21.0 in c:\\users\\jonpg\\appdata\\local\\programs\\python\\python310\\lib\\site-packages (from tensorboard<2.15,>=2.14->tensorflow-intel==2.14.0->tensorflow==2.14.0) (2.32.3)\n",
      "Requirement already satisfied: tensorboard-data-server<0.8.0,>=0.7.0 in c:\\users\\jonpg\\appdata\\local\\programs\\python\\python310\\lib\\site-packages (from tensorboard<2.15,>=2.14->tensorflow-intel==2.14.0->tensorflow==2.14.0) (0.7.2)\n",
      "Requirement already satisfied: werkzeug>=1.0.1 in c:\\users\\jonpg\\appdata\\local\\programs\\python\\python310\\lib\\site-packages (from tensorboard<2.15,>=2.14->tensorflow-intel==2.14.0->tensorflow==2.14.0) (3.0.3)\n",
      "Requirement already satisfied: cachetools<6.0,>=2.0.0 in c:\\users\\jonpg\\appdata\\local\\programs\\python\\python310\\lib\\site-packages (from google-auth<3,>=1.6.3->tensorboard<2.15,>=2.14->tensorflow-intel==2.14.0->tensorflow==2.14.0) (5.5.0)\n",
      "Collecting pyasn1-modules>=0.2.1 (from google-auth<3,>=1.6.3->tensorboard<2.15,>=2.14->tensorflow-intel==2.14.0->tensorflow==2.14.0)\n",
      "  Downloading pyasn1_modules-0.4.1-py3-none-any.whl.metadata (3.5 kB)\n",
      "Collecting rsa<5,>=3.1.4 (from google-auth<3,>=1.6.3->tensorboard<2.15,>=2.14->tensorflow-intel==2.14.0->tensorflow==2.14.0)\n",
      "  Downloading rsa-4.9-py3-none-any.whl.metadata (4.2 kB)\n",
      "Collecting requests-oauthlib>=0.7.0 (from google-auth-oauthlib<1.1,>=0.5->tensorboard<2.15,>=2.14->tensorflow-intel==2.14.0->tensorflow==2.14.0)\n",
      "  Downloading requests_oauthlib-2.0.0-py2.py3-none-any.whl.metadata (11 kB)\n",
      "Requirement already satisfied: charset-normalizer<4,>=2 in c:\\users\\jonpg\\appdata\\local\\programs\\python\\python310\\lib\\site-packages (from requests<3,>=2.21.0->tensorboard<2.15,>=2.14->tensorflow-intel==2.14.0->tensorflow==2.14.0) (3.3.2)\n",
      "Requirement already satisfied: idna<4,>=2.5 in c:\\users\\jonpg\\appdata\\local\\programs\\python\\python310\\lib\\site-packages (from requests<3,>=2.21.0->tensorboard<2.15,>=2.14->tensorflow-intel==2.14.0->tensorflow==2.14.0) (3.7)\n",
      "Requirement already satisfied: urllib3<3,>=1.21.1 in c:\\users\\jonpg\\appdata\\local\\programs\\python\\python310\\lib\\site-packages (from requests<3,>=2.21.0->tensorboard<2.15,>=2.14->tensorflow-intel==2.14.0->tensorflow==2.14.0) (2.2.2)\n",
      "Requirement already satisfied: certifi>=2017.4.17 in c:\\users\\jonpg\\appdata\\local\\programs\\python\\python310\\lib\\site-packages (from requests<3,>=2.21.0->tensorboard<2.15,>=2.14->tensorflow-intel==2.14.0->tensorflow==2.14.0) (2024.6.2)\n",
      "Requirement already satisfied: MarkupSafe>=2.1.1 in c:\\users\\jonpg\\appdata\\local\\programs\\python\\python310\\lib\\site-packages (from werkzeug>=1.0.1->tensorboard<2.15,>=2.14->tensorflow-intel==2.14.0->tensorflow==2.14.0) (2.1.5)\n",
      "Collecting pyasn1<0.7.0,>=0.4.6 (from pyasn1-modules>=0.2.1->google-auth<3,>=1.6.3->tensorboard<2.15,>=2.14->tensorflow-intel==2.14.0->tensorflow==2.14.0)\n",
      "  Downloading pyasn1-0.6.1-py3-none-any.whl.metadata (8.4 kB)\n",
      "Collecting oauthlib>=3.0.0 (from requests-oauthlib>=0.7.0->google-auth-oauthlib<1.1,>=0.5->tensorboard<2.15,>=2.14->tensorflow-intel==2.14.0->tensorflow==2.14.0)\n",
      "  Downloading oauthlib-3.2.2-py3-none-any.whl.metadata (7.5 kB)\n",
      "Downloading tensorflow-2.14.0-cp310-cp310-win_amd64.whl (2.1 kB)\n",
      "Downloading tensorflow_intel-2.14.0-cp310-cp310-win_amd64.whl (284.1 MB)\n",
      "   ---------------------------------------- 0.0/284.1 MB ? eta -:--:--\n",
      "   ---------------------------------------- 0.2/284.1 MB 6.3 MB/s eta 0:00:46\n",
      "   ---------------------------------------- 0.6/284.1 MB 7.1 MB/s eta 0:00:40\n",
      "   ---------------------------------------- 1.1/284.1 MB 8.9 MB/s eta 0:00:32\n",
      "   ---------------------------------------- 1.6/284.1 MB 9.5 MB/s eta 0:00:30\n",
      "   ---------------------------------------- 1.9/284.1 MB 9.5 MB/s eta 0:00:30\n",
      "   ---------------------------------------- 2.7/284.1 MB 10.9 MB/s eta 0:00:26\n",
      "   ---------------------------------------- 3.3/284.1 MB 11.7 MB/s eta 0:00:25\n",
      "    --------------------------------------- 3.9/284.1 MB 11.8 MB/s eta 0:00:24\n",
      "    --------------------------------------- 4.7/284.1 MB 12.1 MB/s eta 0:00:24\n",
      "    --------------------------------------- 5.1/284.1 MB 12.2 MB/s eta 0:00:23\n",
      "    --------------------------------------- 5.8/284.1 MB 12.8 MB/s eta 0:00:22\n",
      "    --------------------------------------- 6.5/284.1 MB 12.9 MB/s eta 0:00:22\n",
      "    --------------------------------------- 6.5/284.1 MB 12.9 MB/s eta 0:00:22\n",
      "    --------------------------------------- 6.6/284.1 MB 11.3 MB/s eta 0:00:25\n",
      "    --------------------------------------- 6.6/284.1 MB 10.3 MB/s eta 0:00:27\n",
      "    --------------------------------------- 6.6/284.1 MB 10.1 MB/s eta 0:00:28\n",
      "    --------------------------------------- 6.8/284.1 MB 9.2 MB/s eta 0:00:31\n",
      "    --------------------------------------- 7.0/284.1 MB 8.7 MB/s eta 0:00:32\n",
      "    --------------------------------------- 7.0/284.1 MB 8.7 MB/s eta 0:00:32\n",
      "   - -------------------------------------- 7.1/284.1 MB 8.1 MB/s eta 0:00:35\n",
      "   - -------------------------------------- 7.2/284.1 MB 7.7 MB/s eta 0:00:36\n",
      "   - -------------------------------------- 7.3/284.1 MB 7.6 MB/s eta 0:00:37\n",
      "   - -------------------------------------- 7.7/284.1 MB 7.4 MB/s eta 0:00:38\n",
      "   - -------------------------------------- 7.7/284.1 MB 7.3 MB/s eta 0:00:39\n",
      "   - -------------------------------------- 7.8/284.1 MB 7.2 MB/s eta 0:00:39\n",
      "   - -------------------------------------- 7.9/284.1 MB 6.8 MB/s eta 0:00:41\n",
      "   - -------------------------------------- 7.9/284.1 MB 6.6 MB/s eta 0:00:42\n",
      "   - -------------------------------------- 8.2/284.1 MB 6.6 MB/s eta 0:00:42\n",
      "   - -------------------------------------- 8.3/284.1 MB 6.4 MB/s eta 0:00:43\n",
      "   - -------------------------------------- 8.3/284.1 MB 6.4 MB/s eta 0:00:43\n",
      "   - -------------------------------------- 8.6/284.1 MB 6.3 MB/s eta 0:00:44\n",
      "   - -------------------------------------- 8.7/284.1 MB 6.2 MB/s eta 0:00:45\n",
      "   - -------------------------------------- 8.8/284.1 MB 6.1 MB/s eta 0:00:45\n",
      "   - -------------------------------------- 9.0/284.1 MB 6.0 MB/s eta 0:00:47\n",
      "   - -------------------------------------- 9.0/284.1 MB 6.0 MB/s eta 0:00:47\n",
      "   - -------------------------------------- 9.2/284.1 MB 5.9 MB/s eta 0:00:47\n",
      "   - -------------------------------------- 9.2/284.1 MB 5.9 MB/s eta 0:00:47\n",
      "   - -------------------------------------- 9.2/284.1 MB 5.9 MB/s eta 0:00:47\n",
      "   - -------------------------------------- 9.2/284.1 MB 5.9 MB/s eta 0:00:47\n",
      "   - -------------------------------------- 9.2/284.1 MB 5.9 MB/s eta 0:00:47\n",
      "   - -------------------------------------- 9.7/284.1 MB 5.5 MB/s eta 0:00:50\n",
      "   - -------------------------------------- 9.8/284.1 MB 5.3 MB/s eta 0:00:52\n",
      "   - -------------------------------------- 9.8/284.1 MB 5.3 MB/s eta 0:00:52\n",
      "   - -------------------------------------- 10.0/284.1 MB 5.2 MB/s eta 0:00:53\n",
      "   - -------------------------------------- 10.1/284.1 MB 5.1 MB/s eta 0:00:54\n",
      "   - -------------------------------------- 10.1/284.1 MB 5.2 MB/s eta 0:00:53\n",
      "   - -------------------------------------- 10.1/284.1 MB 5.0 MB/s eta 0:00:55\n",
      "   - -------------------------------------- 10.2/284.1 MB 5.0 MB/s eta 0:00:56\n",
      "   - -------------------------------------- 10.4/284.1 MB 4.9 MB/s eta 0:00:56\n",
      "   - -------------------------------------- 10.5/284.1 MB 4.9 MB/s eta 0:00:57\n",
      "   - -------------------------------------- 10.5/284.1 MB 4.9 MB/s eta 0:00:57\n",
      "   - -------------------------------------- 10.6/284.1 MB 4.7 MB/s eta 0:00:59\n",
      "   - -------------------------------------- 10.6/284.1 MB 4.7 MB/s eta 0:00:59\n",
      "   - -------------------------------------- 10.7/284.1 MB 4.6 MB/s eta 0:01:00\n",
      "   - -------------------------------------- 10.8/284.1 MB 4.5 MB/s eta 0:01:02\n",
      "   - -------------------------------------- 10.8/284.1 MB 4.5 MB/s eta 0:01:01\n",
      "   - -------------------------------------- 10.9/284.1 MB 4.3 MB/s eta 0:01:04\n",
      "   - -------------------------------------- 11.0/284.1 MB 4.3 MB/s eta 0:01:05\n",
      "   - -------------------------------------- 11.1/284.1 MB 4.2 MB/s eta 0:01:06\n",
      "   - -------------------------------------- 11.3/284.1 MB 4.2 MB/s eta 0:01:06\n",
      "   - -------------------------------------- 11.4/284.1 MB 4.1 MB/s eta 0:01:07\n",
      "   - -------------------------------------- 11.5/284.1 MB 4.1 MB/s eta 0:01:08\n",
      "   - -------------------------------------- 11.6/284.1 MB 4.0 MB/s eta 0:01:09\n",
      "   - -------------------------------------- 11.7/284.1 MB 3.9 MB/s eta 0:01:10\n",
      "   - -------------------------------------- 11.8/284.1 MB 3.9 MB/s eta 0:01:11\n",
      "   - -------------------------------------- 12.0/284.1 MB 3.8 MB/s eta 0:01:12\n",
      "   - -------------------------------------- 12.0/284.1 MB 3.8 MB/s eta 0:01:12\n",
      "   - -------------------------------------- 12.1/284.1 MB 3.8 MB/s eta 0:01:13\n",
      "   - -------------------------------------- 12.2/284.1 MB 3.7 MB/s eta 0:01:14\n",
      "   - -------------------------------------- 12.3/284.1 MB 3.7 MB/s eta 0:01:15\n",
      "   - -------------------------------------- 12.4/284.1 MB 3.6 MB/s eta 0:01:16\n",
      "   - -------------------------------------- 12.5/284.1 MB 3.5 MB/s eta 0:01:17\n",
      "   - -------------------------------------- 12.6/284.1 MB 3.5 MB/s eta 0:01:18\n",
      "   - -------------------------------------- 12.7/284.1 MB 3.5 MB/s eta 0:01:19\n",
      "   - -------------------------------------- 12.8/284.1 MB 3.4 MB/s eta 0:01:20\n",
      "   - -------------------------------------- 13.0/284.1 MB 3.4 MB/s eta 0:01:21\n",
      "   - -------------------------------------- 13.1/284.1 MB 3.3 MB/s eta 0:01:22\n",
      "   - -------------------------------------- 13.2/284.1 MB 3.3 MB/s eta 0:01:23\n",
      "   - -------------------------------------- 13.3/284.1 MB 3.2 MB/s eta 0:01:24\n",
      "   - -------------------------------------- 13.3/284.1 MB 3.2 MB/s eta 0:01:25\n",
      "   - -------------------------------------- 13.4/284.1 MB 3.2 MB/s eta 0:01:26\n",
      "   - -------------------------------------- 13.5/284.1 MB 3.1 MB/s eta 0:01:26\n",
      "   - -------------------------------------- 13.6/284.1 MB 3.1 MB/s eta 0:01:28\n",
      "   - -------------------------------------- 13.7/284.1 MB 3.1 MB/s eta 0:01:28\n",
      "   - -------------------------------------- 13.9/284.1 MB 3.0 MB/s eta 0:01:29\n",
      "   - -------------------------------------- 14.0/284.1 MB 3.0 MB/s eta 0:01:30\n",
      "   - -------------------------------------- 14.2/284.1 MB 3.0 MB/s eta 0:01:30\n",
      "   -- ------------------------------------- 14.3/284.1 MB 3.0 MB/s eta 0:01:32\n",
      "   -- ------------------------------------- 14.5/284.1 MB 2.9 MB/s eta 0:01:32\n",
      "   -- ------------------------------------- 14.6/284.1 MB 2.9 MB/s eta 0:01:33\n",
      "   -- ------------------------------------- 14.9/284.1 MB 2.9 MB/s eta 0:01:34\n",
      "   -- ------------------------------------- 15.1/284.1 MB 2.9 MB/s eta 0:01:34\n",
      "   -- ------------------------------------- 15.3/284.1 MB 2.8 MB/s eta 0:01:35\n",
      "   -- ------------------------------------- 15.5/284.1 MB 2.8 MB/s eta 0:01:36\n",
      "   -- ------------------------------------- 15.7/284.1 MB 2.8 MB/s eta 0:01:36\n",
      "   -- ------------------------------------- 15.9/284.1 MB 2.8 MB/s eta 0:01:37\n",
      "   -- ------------------------------------- 16.1/284.1 MB 2.8 MB/s eta 0:01:38\n",
      "   -- ------------------------------------- 16.3/284.1 MB 2.8 MB/s eta 0:01:38\n",
      "   -- ------------------------------------- 16.6/284.1 MB 2.7 MB/s eta 0:01:38\n",
      "   -- ------------------------------------- 16.9/284.1 MB 2.9 MB/s eta 0:01:34\n",
      "   -- ------------------------------------- 17.2/284.1 MB 2.9 MB/s eta 0:01:33\n",
      "   -- ------------------------------------- 17.4/284.1 MB 3.0 MB/s eta 0:01:31\n",
      "   -- ------------------------------------- 17.7/284.1 MB 3.0 MB/s eta 0:01:29\n",
      "   -- ------------------------------------- 18.0/284.1 MB 3.0 MB/s eta 0:01:28\n",
      "   -- ------------------------------------- 18.3/284.1 MB 3.1 MB/s eta 0:01:26\n",
      "   -- ------------------------------------- 18.5/284.1 MB 3.2 MB/s eta 0:01:24\n",
      "   -- ------------------------------------- 18.9/284.1 MB 3.2 MB/s eta 0:01:23\n",
      "   -- ------------------------------------- 19.2/284.1 MB 3.2 MB/s eta 0:01:22\n",
      "   -- ------------------------------------- 19.4/284.1 MB 3.3 MB/s eta 0:01:21\n",
      "   -- ------------------------------------- 19.7/284.1 MB 3.4 MB/s eta 0:01:17\n",
      "   -- ------------------------------------- 20.0/284.1 MB 3.6 MB/s eta 0:01:14\n",
      "   -- ------------------------------------- 20.3/284.1 MB 3.6 MB/s eta 0:01:14\n",
      "   -- ------------------------------------- 20.5/284.1 MB 3.7 MB/s eta 0:01:11\n",
      "   -- ------------------------------------- 20.9/284.1 MB 4.0 MB/s eta 0:01:06\n",
      "   -- ------------------------------------- 21.2/284.1 MB 4.2 MB/s eta 0:01:03\n",
      "   --- ------------------------------------ 21.5/284.1 MB 4.3 MB/s eta 0:01:02\n",
      "   --- ------------------------------------ 21.7/284.1 MB 4.4 MB/s eta 0:01:00\n",
      "   --- ------------------------------------ 22.0/284.1 MB 4.5 MB/s eta 0:00:59\n",
      "   --- ------------------------------------ 22.3/284.1 MB 4.7 MB/s eta 0:00:56\n",
      "   --- ------------------------------------ 22.6/284.1 MB 4.9 MB/s eta 0:00:54\n",
      "   --- ------------------------------------ 22.9/284.1 MB 5.2 MB/s eta 0:00:51\n",
      "   --- ------------------------------------ 23.2/284.1 MB 5.4 MB/s eta 0:00:49\n",
      "   --- ------------------------------------ 23.6/284.1 MB 5.8 MB/s eta 0:00:45\n",
      "   --- ------------------------------------ 23.8/284.1 MB 6.1 MB/s eta 0:00:43\n",
      "   --- ------------------------------------ 24.2/284.1 MB 6.2 MB/s eta 0:00:42\n",
      "   --- ------------------------------------ 24.5/284.1 MB 6.4 MB/s eta 0:00:41\n",
      "   --- ------------------------------------ 24.8/284.1 MB 6.6 MB/s eta 0:00:40\n",
      "   --- ------------------------------------ 25.1/284.1 MB 6.7 MB/s eta 0:00:39\n",
      "   --- ------------------------------------ 25.4/284.1 MB 6.9 MB/s eta 0:00:38\n",
      "   --- ------------------------------------ 25.7/284.1 MB 6.9 MB/s eta 0:00:38\n",
      "   --- ------------------------------------ 26.1/284.1 MB 7.0 MB/s eta 0:00:38\n",
      "   --- ------------------------------------ 26.4/284.1 MB 7.1 MB/s eta 0:00:37\n",
      "   --- ------------------------------------ 26.7/284.1 MB 7.1 MB/s eta 0:00:37\n",
      "   --- ------------------------------------ 27.1/284.1 MB 7.3 MB/s eta 0:00:36\n",
      "   --- ------------------------------------ 27.4/284.1 MB 7.4 MB/s eta 0:00:35\n",
      "   --- ------------------------------------ 27.8/284.1 MB 7.4 MB/s eta 0:00:35\n",
      "   --- ------------------------------------ 28.1/284.1 MB 7.4 MB/s eta 0:00:35\n",
      "   --- ------------------------------------ 28.4/284.1 MB 7.4 MB/s eta 0:00:35\n",
      "   ---- ----------------------------------- 28.8/284.1 MB 7.5 MB/s eta 0:00:34\n",
      "   ---- ----------------------------------- 29.1/284.1 MB 7.6 MB/s eta 0:00:34\n",
      "   ---- ----------------------------------- 29.4/284.1 MB 7.6 MB/s eta 0:00:34\n",
      "   ---- ----------------------------------- 29.7/284.1 MB 7.5 MB/s eta 0:00:34\n",
      "   ---- ----------------------------------- 30.0/284.1 MB 7.5 MB/s eta 0:00:34\n",
      "   ---- ----------------------------------- 30.3/284.1 MB 7.6 MB/s eta 0:00:34\n",
      "   ---- ----------------------------------- 30.6/284.1 MB 7.7 MB/s eta 0:00:33\n",
      "   ---- ----------------------------------- 30.9/284.1 MB 7.6 MB/s eta 0:00:34\n",
      "   ---- ----------------------------------- 31.2/284.1 MB 7.7 MB/s eta 0:00:33\n",
      "   ---- ----------------------------------- 31.5/284.1 MB 7.7 MB/s eta 0:00:33\n",
      "   ---- ----------------------------------- 31.8/284.1 MB 7.7 MB/s eta 0:00:33\n",
      "   ---- ----------------------------------- 32.2/284.1 MB 7.8 MB/s eta 0:00:33\n",
      "   ---- ----------------------------------- 32.5/284.1 MB 7.8 MB/s eta 0:00:33\n",
      "   ---- ----------------------------------- 32.9/284.1 MB 7.9 MB/s eta 0:00:32\n",
      "   ---- ----------------------------------- 33.2/284.1 MB 7.8 MB/s eta 0:00:33\n",
      "   ---- ----------------------------------- 33.4/284.1 MB 7.7 MB/s eta 0:00:33\n",
      "   ---- ----------------------------------- 33.7/284.1 MB 7.8 MB/s eta 0:00:33\n",
      "   ---- ----------------------------------- 34.0/284.1 MB 7.9 MB/s eta 0:00:32\n",
      "   ---- ----------------------------------- 34.4/284.1 MB 7.9 MB/s eta 0:00:32\n",
      "   ---- ----------------------------------- 34.6/284.1 MB 7.9 MB/s eta 0:00:32\n",
      "   ---- ----------------------------------- 35.0/284.1 MB 7.8 MB/s eta 0:00:32\n",
      "   ---- ----------------------------------- 35.3/284.1 MB 7.7 MB/s eta 0:00:33\n",
      "   ----- ---------------------------------- 35.6/284.1 MB 7.8 MB/s eta 0:00:32\n",
      "   ----- ---------------------------------- 35.8/284.1 MB 7.7 MB/s eta 0:00:33\n",
      "   ----- ---------------------------------- 36.1/284.1 MB 7.7 MB/s eta 0:00:33\n",
      "   ----- ---------------------------------- 36.4/284.1 MB 7.6 MB/s eta 0:00:33\n",
      "   ----- ---------------------------------- 36.7/284.1 MB 7.6 MB/s eta 0:00:33\n",
      "   ----- ---------------------------------- 37.0/284.1 MB 7.6 MB/s eta 0:00:33\n",
      "   ----- ---------------------------------- 37.3/284.1 MB 7.6 MB/s eta 0:00:33\n",
      "   ----- ---------------------------------- 37.6/284.1 MB 7.5 MB/s eta 0:00:33\n",
      "   ----- ---------------------------------- 37.9/284.1 MB 7.4 MB/s eta 0:00:34\n",
      "   ----- ---------------------------------- 38.2/284.1 MB 7.4 MB/s eta 0:00:34\n",
      "   ----- ---------------------------------- 38.5/284.1 MB 7.5 MB/s eta 0:00:33\n",
      "   ----- ---------------------------------- 38.9/284.1 MB 7.5 MB/s eta 0:00:33\n",
      "   ----- ---------------------------------- 39.3/284.1 MB 7.5 MB/s eta 0:00:33\n",
      "   ----- ---------------------------------- 39.6/284.1 MB 7.4 MB/s eta 0:00:33\n",
      "   ----- ---------------------------------- 40.0/284.1 MB 7.7 MB/s eta 0:00:32\n",
      "   ----- ---------------------------------- 40.3/284.1 MB 7.7 MB/s eta 0:00:32\n",
      "   ----- ---------------------------------- 40.7/284.1 MB 7.7 MB/s eta 0:00:32\n",
      "   ----- ---------------------------------- 41.1/284.1 MB 7.8 MB/s eta 0:00:32\n",
      "   ----- ---------------------------------- 41.6/284.1 MB 8.0 MB/s eta 0:00:31\n",
      "   ----- ---------------------------------- 41.9/284.1 MB 7.8 MB/s eta 0:00:32\n",
      "   ----- ---------------------------------- 42.3/284.1 MB 7.9 MB/s eta 0:00:31\n",
      "   ------ --------------------------------- 42.7/284.1 MB 7.9 MB/s eta 0:00:31\n",
      "   ------ --------------------------------- 43.1/284.1 MB 8.0 MB/s eta 0:00:31\n",
      "   ------ --------------------------------- 43.5/284.1 MB 8.1 MB/s eta 0:00:30\n",
      "   ------ --------------------------------- 43.9/284.1 MB 8.1 MB/s eta 0:00:30\n",
      "   ------ --------------------------------- 44.3/284.1 MB 8.2 MB/s eta 0:00:30\n",
      "   ------ --------------------------------- 44.7/284.1 MB 8.3 MB/s eta 0:00:29\n",
      "   ------ --------------------------------- 45.0/284.1 MB 8.3 MB/s eta 0:00:29\n",
      "   ------ --------------------------------- 45.4/284.1 MB 8.3 MB/s eta 0:00:29\n",
      "   ------ --------------------------------- 45.7/284.1 MB 8.4 MB/s eta 0:00:29\n",
      "   ------ --------------------------------- 46.1/284.1 MB 8.5 MB/s eta 0:00:29\n",
      "   ------ --------------------------------- 46.5/284.1 MB 8.6 MB/s eta 0:00:28\n",
      "   ------ --------------------------------- 46.9/284.1 MB 8.6 MB/s eta 0:00:28\n",
      "   ------ --------------------------------- 47.3/284.1 MB 8.7 MB/s eta 0:00:28\n",
      "   ------ --------------------------------- 47.7/284.1 MB 8.8 MB/s eta 0:00:27\n",
      "   ------ --------------------------------- 48.1/284.1 MB 8.8 MB/s eta 0:00:27\n",
      "   ------ --------------------------------- 48.4/284.1 MB 8.7 MB/s eta 0:00:27\n",
      "   ------ --------------------------------- 48.7/284.1 MB 8.8 MB/s eta 0:00:27\n",
      "   ------ --------------------------------- 49.0/284.1 MB 8.7 MB/s eta 0:00:27\n",
      "   ------ --------------------------------- 49.3/284.1 MB 8.7 MB/s eta 0:00:27\n",
      "   ------ --------------------------------- 49.6/284.1 MB 8.7 MB/s eta 0:00:27\n",
      "   ------- -------------------------------- 49.9/284.1 MB 8.7 MB/s eta 0:00:27\n",
      "   ------- -------------------------------- 50.2/284.1 MB 8.6 MB/s eta 0:00:28\n",
      "   ------- -------------------------------- 50.4/284.1 MB 8.4 MB/s eta 0:00:28\n",
      "   ------- -------------------------------- 50.7/284.1 MB 8.5 MB/s eta 0:00:28\n",
      "   ------- -------------------------------- 51.0/284.1 MB 8.3 MB/s eta 0:00:29\n",
      "   ------- -------------------------------- 51.3/284.1 MB 8.2 MB/s eta 0:00:29\n",
      "   ------- -------------------------------- 51.5/284.1 MB 8.0 MB/s eta 0:00:30\n",
      "   ------- -------------------------------- 51.8/284.1 MB 8.0 MB/s eta 0:00:30\n",
      "   ------- -------------------------------- 52.0/284.1 MB 8.0 MB/s eta 0:00:30\n",
      "   ------- -------------------------------- 52.3/284.1 MB 7.9 MB/s eta 0:00:30\n",
      "   ------- -------------------------------- 52.6/284.1 MB 7.8 MB/s eta 0:00:30\n",
      "   ------- -------------------------------- 52.9/284.1 MB 7.7 MB/s eta 0:00:31\n",
      "   ------- -------------------------------- 53.1/284.1 MB 7.6 MB/s eta 0:00:31\n",
      "   ------- -------------------------------- 53.4/284.1 MB 7.6 MB/s eta 0:00:31\n",
      "   ------- -------------------------------- 53.8/284.1 MB 7.5 MB/s eta 0:00:31\n",
      "   ------- -------------------------------- 54.0/284.1 MB 7.5 MB/s eta 0:00:31\n",
      "   ------- -------------------------------- 54.3/284.1 MB 7.4 MB/s eta 0:00:31\n",
      "   ------- -------------------------------- 54.6/284.1 MB 7.4 MB/s eta 0:00:32\n",
      "   ------- -------------------------------- 54.9/284.1 MB 7.4 MB/s eta 0:00:32\n",
      "   ------- -------------------------------- 55.3/284.1 MB 7.4 MB/s eta 0:00:32\n",
      "   ------- -------------------------------- 55.7/284.1 MB 7.4 MB/s eta 0:00:31\n",
      "   ------- -------------------------------- 56.0/284.1 MB 7.4 MB/s eta 0:00:31\n",
      "   ------- -------------------------------- 56.4/284.1 MB 7.5 MB/s eta 0:00:31\n",
      "   ------- -------------------------------- 56.7/284.1 MB 7.4 MB/s eta 0:00:31\n",
      "   -------- ------------------------------- 57.1/284.1 MB 7.4 MB/s eta 0:00:31\n",
      "   -------- ------------------------------- 57.5/284.1 MB 7.4 MB/s eta 0:00:31\n",
      "   -------- ------------------------------- 57.8/284.1 MB 7.4 MB/s eta 0:00:31\n",
      "   -------- ------------------------------- 58.3/284.1 MB 7.5 MB/s eta 0:00:31\n",
      "   -------- ------------------------------- 58.7/284.1 MB 7.6 MB/s eta 0:00:30\n",
      "   -------- ------------------------------- 59.0/284.1 MB 7.6 MB/s eta 0:00:30\n",
      "   -------- ------------------------------- 59.4/284.1 MB 7.7 MB/s eta 0:00:30\n",
      "   -------- ------------------------------- 59.8/284.1 MB 7.8 MB/s eta 0:00:29\n",
      "   -------- ------------------------------- 60.1/284.1 MB 7.7 MB/s eta 0:00:30\n",
      "   -------- ------------------------------- 60.6/284.1 MB 7.9 MB/s eta 0:00:29\n",
      "   -------- ------------------------------- 60.9/284.1 MB 8.0 MB/s eta 0:00:28\n",
      "   -------- ------------------------------- 61.3/284.1 MB 8.2 MB/s eta 0:00:28\n",
      "   -------- ------------------------------- 61.7/284.1 MB 8.3 MB/s eta 0:00:27\n",
      "   -------- ------------------------------- 62.1/284.1 MB 8.5 MB/s eta 0:00:27\n",
      "   -------- ------------------------------- 62.5/284.1 MB 8.6 MB/s eta 0:00:26\n",
      "   -------- ------------------------------- 62.9/284.1 MB 8.7 MB/s eta 0:00:26\n",
      "   -------- ------------------------------- 63.3/284.1 MB 8.8 MB/s eta 0:00:25\n",
      "   -------- ------------------------------- 63.6/284.1 MB 9.0 MB/s eta 0:00:25\n",
      "   --------- ------------------------------ 64.0/284.1 MB 9.0 MB/s eta 0:00:25\n",
      "   --------- ------------------------------ 64.3/284.1 MB 9.1 MB/s eta 0:00:25\n",
      "   --------- ------------------------------ 64.7/284.1 MB 9.2 MB/s eta 0:00:24\n",
      "   --------- ------------------------------ 65.1/284.1 MB 9.2 MB/s eta 0:00:24\n",
      "   --------- ------------------------------ 65.5/284.1 MB 9.4 MB/s eta 0:00:24\n",
      "   --------- ------------------------------ 65.9/284.1 MB 9.2 MB/s eta 0:00:24\n",
      "   --------- ------------------------------ 66.2/284.1 MB 9.4 MB/s eta 0:00:24\n",
      "   --------- ------------------------------ 66.5/284.1 MB 9.2 MB/s eta 0:00:24\n",
      "   --------- ------------------------------ 66.9/284.1 MB 9.2 MB/s eta 0:00:24\n",
      "   --------- ------------------------------ 67.2/284.1 MB 9.1 MB/s eta 0:00:24\n",
      "   --------- ------------------------------ 67.4/284.1 MB 9.2 MB/s eta 0:00:24\n",
      "   --------- ------------------------------ 67.8/284.1 MB 9.1 MB/s eta 0:00:24\n",
      "   --------- ------------------------------ 68.2/284.1 MB 9.1 MB/s eta 0:00:24\n",
      "   --------- ------------------------------ 68.5/284.1 MB 9.1 MB/s eta 0:00:24\n",
      "   --------- ------------------------------ 69.0/284.1 MB 9.1 MB/s eta 0:00:24\n",
      "   --------- ------------------------------ 69.3/284.1 MB 9.1 MB/s eta 0:00:24\n",
      "   --------- ------------------------------ 69.7/284.1 MB 9.1 MB/s eta 0:00:24\n",
      "   --------- ------------------------------ 70.1/284.1 MB 9.2 MB/s eta 0:00:24\n",
      "   --------- ------------------------------ 70.5/284.1 MB 9.2 MB/s eta 0:00:24\n",
      "   --------- ------------------------------ 70.9/284.1 MB 9.2 MB/s eta 0:00:24\n",
      "   ---------- ----------------------------- 71.3/284.1 MB 9.2 MB/s eta 0:00:24\n",
      "   ---------- ----------------------------- 71.7/284.1 MB 9.1 MB/s eta 0:00:24\n",
      "   ---------- ----------------------------- 72.1/284.1 MB 9.2 MB/s eta 0:00:23\n",
      "   ---------- ----------------------------- 72.4/284.1 MB 9.1 MB/s eta 0:00:24\n",
      "   ---------- ----------------------------- 72.8/284.1 MB 9.2 MB/s eta 0:00:23\n",
      "   ---------- ----------------------------- 73.2/284.1 MB 9.1 MB/s eta 0:00:24\n",
      "   ---------- ----------------------------- 73.5/284.1 MB 9.0 MB/s eta 0:00:24\n",
      "   ---------- ----------------------------- 73.8/284.1 MB 8.8 MB/s eta 0:00:24\n",
      "   ---------- ----------------------------- 74.1/284.1 MB 8.8 MB/s eta 0:00:24\n",
      "   ---------- ----------------------------- 74.4/284.1 MB 8.7 MB/s eta 0:00:25\n",
      "   ---------- ----------------------------- 74.7/284.1 MB 8.7 MB/s eta 0:00:24\n",
      "   ---------- ----------------------------- 75.1/284.1 MB 8.7 MB/s eta 0:00:24\n",
      "   ---------- ----------------------------- 75.5/284.1 MB 8.6 MB/s eta 0:00:25\n",
      "   ---------- ----------------------------- 76.0/284.1 MB 8.7 MB/s eta 0:00:24\n",
      "   ---------- ----------------------------- 76.3/284.1 MB 8.7 MB/s eta 0:00:24\n",
      "   ---------- ----------------------------- 76.6/284.1 MB 8.7 MB/s eta 0:00:24\n",
      "   ---------- ----------------------------- 77.0/284.1 MB 8.7 MB/s eta 0:00:24\n",
      "   ---------- ----------------------------- 77.3/284.1 MB 8.7 MB/s eta 0:00:24\n",
      "   ---------- ----------------------------- 77.7/284.1 MB 8.8 MB/s eta 0:00:24\n",
      "   ---------- ----------------------------- 78.1/284.1 MB 8.7 MB/s eta 0:00:24\n",
      "   ----------- ---------------------------- 78.4/284.1 MB 8.8 MB/s eta 0:00:24\n",
      "   ----------- ---------------------------- 78.8/284.1 MB 9.0 MB/s eta 0:00:23\n",
      "   ----------- ---------------------------- 79.2/284.1 MB 8.8 MB/s eta 0:00:24\n",
      "   ----------- ---------------------------- 79.6/284.1 MB 8.8 MB/s eta 0:00:24\n",
      "   ----------- ---------------------------- 80.0/284.1 MB 8.8 MB/s eta 0:00:24\n",
      "   ----------- ---------------------------- 80.4/284.1 MB 8.8 MB/s eta 0:00:24\n",
      "   ----------- ---------------------------- 80.8/284.1 MB 8.8 MB/s eta 0:00:23\n",
      "   ----------- ---------------------------- 81.2/284.1 MB 8.8 MB/s eta 0:00:23\n",
      "   ----------- ---------------------------- 81.6/284.1 MB 8.7 MB/s eta 0:00:24\n",
      "   ----------- ---------------------------- 82.0/284.1 MB 8.8 MB/s eta 0:00:23\n",
      "   ----------- ---------------------------- 82.4/284.1 MB 8.8 MB/s eta 0:00:23\n",
      "   ----------- ---------------------------- 82.8/284.1 MB 9.0 MB/s eta 0:00:23\n",
      "   ----------- ---------------------------- 83.3/284.1 MB 8.8 MB/s eta 0:00:23\n",
      "   ----------- ---------------------------- 83.6/284.1 MB 9.1 MB/s eta 0:00:23\n",
      "   ----------- ---------------------------- 84.0/284.1 MB 9.2 MB/s eta 0:00:22\n",
      "   ----------- ---------------------------- 84.4/284.1 MB 9.2 MB/s eta 0:00:22\n",
      "   ----------- ---------------------------- 84.8/284.1 MB 9.4 MB/s eta 0:00:22\n",
      "   ----------- ---------------------------- 85.2/284.1 MB 9.5 MB/s eta 0:00:21\n",
      "   ------------ --------------------------- 85.6/284.1 MB 9.5 MB/s eta 0:00:21\n",
      "   ------------ --------------------------- 86.0/284.1 MB 9.6 MB/s eta 0:00:21\n",
      "   ------------ --------------------------- 86.5/284.1 MB 9.6 MB/s eta 0:00:21\n",
      "   ------------ --------------------------- 86.9/284.1 MB 9.6 MB/s eta 0:00:21\n",
      "   ------------ --------------------------- 87.3/284.1 MB 9.6 MB/s eta 0:00:21\n",
      "   ------------ --------------------------- 87.7/284.1 MB 9.8 MB/s eta 0:00:21\n",
      "   ------------ --------------------------- 88.1/284.1 MB 9.8 MB/s eta 0:00:21\n",
      "   ------------ --------------------------- 88.5/284.1 MB 9.8 MB/s eta 0:00:21\n",
      "   ------------ --------------------------- 88.9/284.1 MB 9.9 MB/s eta 0:00:20\n",
      "   ------------ --------------------------- 89.3/284.1 MB 9.8 MB/s eta 0:00:20\n",
      "   ------------ --------------------------- 89.8/284.1 MB 9.8 MB/s eta 0:00:20\n",
      "   ------------ --------------------------- 90.3/284.1 MB 10.1 MB/s eta 0:00:20\n",
      "   ------------ --------------------------- 90.8/284.1 MB 10.1 MB/s eta 0:00:20\n",
      "   ------------ --------------------------- 91.2/284.1 MB 9.9 MB/s eta 0:00:20\n",
      "   ------------ --------------------------- 91.6/284.1 MB 10.1 MB/s eta 0:00:20\n",
      "   ------------ --------------------------- 92.0/284.1 MB 10.1 MB/s eta 0:00:20\n",
      "   ------------- -------------------------- 92.4/284.1 MB 10.1 MB/s eta 0:00:20\n",
      "   ------------- -------------------------- 92.9/284.1 MB 10.1 MB/s eta 0:00:19\n",
      "   ------------- -------------------------- 93.3/284.1 MB 10.2 MB/s eta 0:00:19\n",
      "   ------------- -------------------------- 93.7/284.1 MB 10.1 MB/s eta 0:00:19\n",
      "   ------------- -------------------------- 94.2/284.1 MB 10.4 MB/s eta 0:00:19\n",
      "   ------------- -------------------------- 94.7/284.1 MB 10.4 MB/s eta 0:00:19\n",
      "   ------------- -------------------------- 95.2/284.1 MB 10.6 MB/s eta 0:00:18\n",
      "   ------------- -------------------------- 95.6/284.1 MB 10.4 MB/s eta 0:00:19\n",
      "   ------------- -------------------------- 96.1/284.1 MB 10.6 MB/s eta 0:00:18\n",
      "   ------------- -------------------------- 96.5/284.1 MB 10.7 MB/s eta 0:00:18\n",
      "   ------------- -------------------------- 97.0/284.1 MB 10.7 MB/s eta 0:00:18\n",
      "   ------------- -------------------------- 97.6/284.1 MB 10.7 MB/s eta 0:00:18\n",
      "   ------------- -------------------------- 98.1/284.1 MB 10.9 MB/s eta 0:00:18\n",
      "   ------------- -------------------------- 98.6/284.1 MB 11.1 MB/s eta 0:00:17\n",
      "   ------------- -------------------------- 99.0/284.1 MB 11.1 MB/s eta 0:00:17\n",
      "   -------------- ------------------------- 99.5/284.1 MB 11.3 MB/s eta 0:00:17\n",
      "   ------------- ------------------------- 100.1/284.1 MB 11.3 MB/s eta 0:00:17\n",
      "   ------------- ------------------------- 100.5/284.1 MB 11.3 MB/s eta 0:00:17\n",
      "   ------------- ------------------------- 100.9/284.1 MB 11.3 MB/s eta 0:00:17\n",
      "   ------------- ------------------------- 101.5/284.1 MB 11.5 MB/s eta 0:00:16\n",
      "   -------------- ------------------------ 102.0/284.1 MB 11.7 MB/s eta 0:00:16\n",
      "   -------------- ------------------------ 102.5/284.1 MB 11.7 MB/s eta 0:00:16\n",
      "   -------------- ------------------------ 102.7/284.1 MB 11.3 MB/s eta 0:00:17\n",
      "   -------------- ------------------------ 103.3/284.1 MB 11.7 MB/s eta 0:00:16\n",
      "   -------------- ------------------------ 103.8/284.1 MB 11.7 MB/s eta 0:00:16\n",
      "   -------------- ------------------------ 104.3/284.1 MB 11.7 MB/s eta 0:00:16\n",
      "   -------------- ------------------------ 104.8/284.1 MB 11.7 MB/s eta 0:00:16\n",
      "   -------------- ------------------------ 105.3/284.1 MB 11.5 MB/s eta 0:00:16\n",
      "   -------------- ------------------------ 105.7/284.1 MB 11.3 MB/s eta 0:00:16\n",
      "   -------------- ------------------------ 106.5/284.1 MB 11.7 MB/s eta 0:00:16\n",
      "   -------------- ------------------------ 107.1/284.1 MB 11.9 MB/s eta 0:00:15\n",
      "   -------------- ------------------------ 107.6/284.1 MB 11.9 MB/s eta 0:00:15\n",
      "   -------------- ------------------------ 108.1/284.1 MB 11.9 MB/s eta 0:00:15\n",
      "   -------------- ------------------------ 108.7/284.1 MB 11.9 MB/s eta 0:00:15\n",
      "   -------------- ------------------------ 109.0/284.1 MB 11.7 MB/s eta 0:00:15\n",
      "   --------------- ----------------------- 109.5/284.1 MB 11.7 MB/s eta 0:00:15\n",
      "   --------------- ----------------------- 110.1/284.1 MB 11.7 MB/s eta 0:00:15\n",
      "   --------------- ----------------------- 110.8/284.1 MB 11.9 MB/s eta 0:00:15\n",
      "   --------------- ----------------------- 111.5/284.1 MB 12.1 MB/s eta 0:00:15\n",
      "   --------------- ----------------------- 112.2/284.1 MB 12.1 MB/s eta 0:00:15\n",
      "   --------------- ----------------------- 112.6/284.1 MB 11.9 MB/s eta 0:00:15\n",
      "   --------------- ----------------------- 113.1/284.1 MB 12.6 MB/s eta 0:00:14\n",
      "   --------------- ----------------------- 113.6/284.1 MB 12.6 MB/s eta 0:00:14\n",
      "   --------------- ----------------------- 113.9/284.1 MB 12.4 MB/s eta 0:00:14\n",
      "   --------------- ----------------------- 114.5/284.1 MB 12.1 MB/s eta 0:00:14\n",
      "   --------------- ----------------------- 115.2/284.1 MB 12.4 MB/s eta 0:00:14\n",
      "   --------------- ----------------------- 115.8/284.1 MB 12.6 MB/s eta 0:00:14\n",
      "   --------------- ----------------------- 116.4/284.1 MB 12.4 MB/s eta 0:00:14\n",
      "   ---------------- ---------------------- 116.9/284.1 MB 12.6 MB/s eta 0:00:14\n",
      "   ---------------- ---------------------- 117.4/284.1 MB 12.6 MB/s eta 0:00:14\n",
      "   ---------------- ---------------------- 117.8/284.1 MB 12.4 MB/s eta 0:00:14\n",
      "   ---------------- ---------------------- 118.3/284.1 MB 12.1 MB/s eta 0:00:14\n",
      "   ---------------- ---------------------- 118.9/284.1 MB 12.4 MB/s eta 0:00:14\n",
      "   ---------------- ---------------------- 119.5/284.1 MB 13.1 MB/s eta 0:00:13\n",
      "   ---------------- ---------------------- 120.2/284.1 MB 13.1 MB/s eta 0:00:13\n",
      "   ---------------- ---------------------- 120.5/284.1 MB 12.8 MB/s eta 0:00:13\n",
      "   ---------------- ---------------------- 121.0/284.1 MB 12.8 MB/s eta 0:00:13\n",
      "   ---------------- ---------------------- 121.6/284.1 MB 12.9 MB/s eta 0:00:13\n",
      "   ---------------- ---------------------- 122.0/284.1 MB 12.6 MB/s eta 0:00:13\n",
      "   ---------------- ---------------------- 122.5/284.1 MB 12.3 MB/s eta 0:00:14\n",
      "   ---------------- ---------------------- 122.9/284.1 MB 12.8 MB/s eta 0:00:13\n",
      "   ---------------- ---------------------- 123.4/284.1 MB 12.6 MB/s eta 0:00:13\n",
      "   ----------------- --------------------- 124.0/284.1 MB 12.8 MB/s eta 0:00:13\n",
      "   ----------------- --------------------- 124.7/284.1 MB 12.9 MB/s eta 0:00:13\n",
      "   ----------------- --------------------- 125.3/284.1 MB 13.1 MB/s eta 0:00:13\n",
      "   ----------------- --------------------- 125.8/284.1 MB 12.8 MB/s eta 0:00:13\n",
      "   ----------------- --------------------- 126.5/284.1 MB 13.1 MB/s eta 0:00:13\n",
      "   ----------------- --------------------- 127.1/284.1 MB 12.8 MB/s eta 0:00:13\n",
      "   ----------------- --------------------- 127.5/284.1 MB 13.1 MB/s eta 0:00:12\n",
      "   ----------------- --------------------- 128.2/284.1 MB 13.1 MB/s eta 0:00:12\n",
      "   ----------------- --------------------- 128.8/284.1 MB 13.1 MB/s eta 0:00:12\n",
      "   ----------------- --------------------- 129.5/284.1 MB 13.1 MB/s eta 0:00:12\n",
      "   ----------------- --------------------- 130.2/284.1 MB 13.4 MB/s eta 0:00:12\n",
      "   ----------------- --------------------- 130.8/284.1 MB 13.6 MB/s eta 0:00:12\n",
      "   ------------------ -------------------- 131.4/284.1 MB 13.6 MB/s eta 0:00:12\n",
      "   ------------------ -------------------- 132.1/284.1 MB 13.6 MB/s eta 0:00:12\n",
      "   ------------------ -------------------- 132.9/284.1 MB 13.9 MB/s eta 0:00:11\n",
      "   ------------------ -------------------- 133.6/284.1 MB 14.6 MB/s eta 0:00:11\n",
      "   ------------------ -------------------- 134.2/284.1 MB 14.6 MB/s eta 0:00:11\n",
      "   ------------------ -------------------- 134.5/284.1 MB 13.9 MB/s eta 0:00:11\n",
      "   ------------------ -------------------- 135.3/284.1 MB 13.9 MB/s eta 0:00:11\n",
      "   ------------------ -------------------- 135.7/284.1 MB 13.6 MB/s eta 0:00:11\n",
      "   ------------------ -------------------- 136.3/284.1 MB 14.2 MB/s eta 0:00:11\n",
      "   ------------------ -------------------- 136.9/284.1 MB 13.9 MB/s eta 0:00:11\n",
      "   ------------------ -------------------- 137.5/284.1 MB 13.9 MB/s eta 0:00:11\n",
      "   ------------------ -------------------- 138.1/284.1 MB 14.2 MB/s eta 0:00:11\n",
      "   ------------------- ------------------- 138.4/284.1 MB 13.9 MB/s eta 0:00:11\n",
      "   ------------------- ------------------- 139.0/284.1 MB 13.9 MB/s eta 0:00:11\n",
      "   ------------------- ------------------- 139.5/284.1 MB 13.6 MB/s eta 0:00:11\n",
      "   ------------------- ------------------- 140.0/284.1 MB 13.4 MB/s eta 0:00:11\n",
      "   ------------------- ------------------- 140.7/284.1 MB 13.4 MB/s eta 0:00:11\n",
      "   ------------------- ------------------- 141.2/284.1 MB 13.1 MB/s eta 0:00:11\n",
      "   ------------------- ------------------- 141.8/284.1 MB 13.4 MB/s eta 0:00:11\n",
      "   ------------------- ------------------- 142.4/284.1 MB 13.4 MB/s eta 0:00:11\n",
      "   ------------------- ------------------- 143.0/284.1 MB 13.4 MB/s eta 0:00:11\n",
      "   ------------------- ------------------- 143.6/284.1 MB 13.1 MB/s eta 0:00:11\n",
      "   ------------------- ------------------- 144.2/284.1 MB 13.4 MB/s eta 0:00:11\n",
      "   ------------------- ------------------- 144.8/284.1 MB 13.9 MB/s eta 0:00:10\n",
      "   ------------------- ------------------- 145.4/284.1 MB 13.9 MB/s eta 0:00:10\n",
      "   -------------------- ------------------ 146.0/284.1 MB 13.9 MB/s eta 0:00:10\n",
      "   -------------------- ------------------ 146.7/284.1 MB 14.2 MB/s eta 0:00:10\n",
      "   -------------------- ------------------ 147.1/284.1 MB 13.9 MB/s eta 0:00:10\n",
      "   -------------------- ------------------ 147.8/284.1 MB 14.2 MB/s eta 0:00:10\n",
      "   -------------------- ------------------ 148.4/284.1 MB 14.2 MB/s eta 0:00:10\n",
      "   -------------------- ------------------ 149.0/284.1 MB 14.9 MB/s eta 0:00:10\n",
      "   -------------------- ------------------ 149.6/284.1 MB 14.9 MB/s eta 0:00:10\n",
      "   -------------------- ------------------ 150.1/284.1 MB 14.6 MB/s eta 0:00:10\n",
      "   -------------------- ------------------ 150.9/284.1 MB 14.9 MB/s eta 0:00:09\n",
      "   -------------------- ------------------ 151.5/284.1 MB 14.6 MB/s eta 0:00:10\n",
      "   -------------------- ------------------ 152.2/284.1 MB 14.6 MB/s eta 0:00:10\n",
      "   -------------------- ------------------ 152.9/284.1 MB 14.6 MB/s eta 0:00:10\n",
      "   --------------------- ----------------- 153.4/284.1 MB 14.2 MB/s eta 0:00:10\n",
      "   --------------------- ----------------- 153.8/284.1 MB 14.2 MB/s eta 0:00:10\n",
      "   --------------------- ----------------- 154.2/284.1 MB 13.6 MB/s eta 0:00:10\n",
      "   --------------------- ----------------- 154.5/284.1 MB 13.4 MB/s eta 0:00:10\n",
      "   --------------------- ----------------- 155.1/284.1 MB 13.4 MB/s eta 0:00:10\n",
      "   --------------------- ----------------- 155.6/284.1 MB 13.4 MB/s eta 0:00:10\n",
      "   --------------------- ----------------- 156.2/284.1 MB 13.4 MB/s eta 0:00:10\n",
      "   --------------------- ----------------- 156.7/284.1 MB 13.4 MB/s eta 0:00:10\n",
      "   --------------------- ----------------- 157.3/284.1 MB 13.4 MB/s eta 0:00:10\n",
      "   --------------------- ----------------- 157.8/284.1 MB 13.1 MB/s eta 0:00:10\n",
      "   --------------------- ----------------- 158.5/284.1 MB 13.1 MB/s eta 0:00:10\n",
      "   --------------------- ----------------- 158.8/284.1 MB 12.9 MB/s eta 0:00:10\n",
      "   --------------------- ----------------- 159.5/284.1 MB 12.8 MB/s eta 0:00:10\n",
      "   --------------------- ----------------- 160.1/284.1 MB 12.8 MB/s eta 0:00:10\n",
      "   ---------------------- ---------------- 160.9/284.1 MB 13.1 MB/s eta 0:00:10\n",
      "   ---------------------- ---------------- 161.5/284.1 MB 12.8 MB/s eta 0:00:10\n",
      "   ---------------------- ---------------- 162.1/284.1 MB 13.1 MB/s eta 0:00:10\n",
      "   ---------------------- ---------------- 162.7/284.1 MB 13.4 MB/s eta 0:00:10\n",
      "   ---------------------- ---------------- 163.3/284.1 MB 13.4 MB/s eta 0:00:10\n",
      "   ---------------------- ---------------- 164.0/284.1 MB 13.9 MB/s eta 0:00:09\n",
      "   ---------------------- ---------------- 164.5/284.1 MB 13.9 MB/s eta 0:00:09\n",
      "   ---------------------- ---------------- 165.1/284.1 MB 13.9 MB/s eta 0:00:09\n",
      "   ---------------------- ---------------- 165.8/284.1 MB 14.2 MB/s eta 0:00:09\n",
      "   ---------------------- ---------------- 166.4/284.1 MB 14.2 MB/s eta 0:00:09\n",
      "   ---------------------- ---------------- 166.8/284.1 MB 14.2 MB/s eta 0:00:09\n",
      "   ---------------------- ---------------- 167.5/284.1 MB 14.6 MB/s eta 0:00:09\n",
      "   ----------------------- --------------- 168.3/284.1 MB 14.6 MB/s eta 0:00:08\n",
      "   ----------------------- --------------- 168.9/284.1 MB 14.9 MB/s eta 0:00:08\n",
      "   ----------------------- --------------- 169.5/284.1 MB 14.6 MB/s eta 0:00:08\n",
      "   ----------------------- --------------- 170.1/284.1 MB 14.6 MB/s eta 0:00:08\n",
      "   ----------------------- --------------- 170.7/284.1 MB 14.6 MB/s eta 0:00:08\n",
      "   ----------------------- --------------- 171.4/284.1 MB 14.6 MB/s eta 0:00:08\n",
      "   ----------------------- --------------- 172.0/284.1 MB 14.9 MB/s eta 0:00:08\n",
      "   ----------------------- --------------- 172.6/284.1 MB 14.6 MB/s eta 0:00:08\n",
      "   ----------------------- --------------- 173.2/284.1 MB 14.2 MB/s eta 0:00:08\n",
      "   ----------------------- --------------- 173.8/284.1 MB 14.2 MB/s eta 0:00:08\n",
      "   ----------------------- --------------- 174.4/284.1 MB 14.6 MB/s eta 0:00:08\n",
      "   ------------------------ -------------- 175.1/284.1 MB 14.6 MB/s eta 0:00:08\n",
      "   ------------------------ -------------- 175.9/284.1 MB 14.9 MB/s eta 0:00:08\n",
      "   ------------------------ -------------- 176.2/284.1 MB 14.6 MB/s eta 0:00:08\n",
      "   ------------------------ -------------- 176.9/284.1 MB 14.9 MB/s eta 0:00:08\n",
      "   ------------------------ -------------- 177.5/284.1 MB 15.2 MB/s eta 0:00:08\n",
      "   ------------------------ -------------- 178.2/284.1 MB 14.9 MB/s eta 0:00:08\n",
      "   ------------------------ -------------- 178.9/284.1 MB 14.9 MB/s eta 0:00:08\n",
      "   ------------------------ -------------- 179.5/284.1 MB 15.2 MB/s eta 0:00:07\n",
      "   ------------------------ -------------- 180.2/284.1 MB 14.9 MB/s eta 0:00:07\n",
      "   ------------------------ -------------- 180.8/284.1 MB 15.2 MB/s eta 0:00:07\n",
      "   ------------------------ -------------- 181.4/284.1 MB 14.9 MB/s eta 0:00:07\n",
      "   ------------------------ -------------- 182.0/284.1 MB 14.9 MB/s eta 0:00:07\n",
      "   ------------------------- ------------- 182.8/284.1 MB 14.9 MB/s eta 0:00:07\n",
      "   ------------------------- ------------- 183.4/284.1 MB 15.2 MB/s eta 0:00:07\n",
      "   ------------------------- ------------- 184.1/284.1 MB 15.2 MB/s eta 0:00:07\n",
      "   ------------------------- ------------- 184.5/284.1 MB 14.9 MB/s eta 0:00:07\n",
      "   ------------------------- ------------- 185.3/284.1 MB 15.2 MB/s eta 0:00:07\n",
      "   ------------------------- ------------- 186.0/284.1 MB 14.9 MB/s eta 0:00:07\n",
      "   ------------------------- ------------- 186.6/284.1 MB 15.2 MB/s eta 0:00:07\n",
      "   ------------------------- ------------- 187.2/284.1 MB 14.9 MB/s eta 0:00:07\n",
      "   ------------------------- ------------- 187.8/284.1 MB 15.2 MB/s eta 0:00:07\n",
      "   ------------------------- ------------- 188.6/284.1 MB 15.2 MB/s eta 0:00:07\n",
      "   ------------------------- ------------- 189.0/284.1 MB 15.2 MB/s eta 0:00:07\n",
      "   -------------------------- ------------ 189.9/284.1 MB 15.2 MB/s eta 0:00:07\n",
      "   -------------------------- ------------ 190.5/284.1 MB 15.2 MB/s eta 0:00:07\n",
      "   -------------------------- ------------ 191.1/284.1 MB 15.2 MB/s eta 0:00:07\n",
      "   -------------------------- ------------ 191.7/284.1 MB 14.9 MB/s eta 0:00:07\n",
      "   -------------------------- ------------ 192.4/284.1 MB 15.2 MB/s eta 0:00:07\n",
      "   -------------------------- ------------ 193.1/284.1 MB 15.2 MB/s eta 0:00:06\n",
      "   -------------------------- ------------ 193.7/284.1 MB 15.2 MB/s eta 0:00:06\n",
      "   -------------------------- ------------ 194.3/284.1 MB 15.2 MB/s eta 0:00:06\n",
      "   -------------------------- ------------ 194.9/284.1 MB 15.2 MB/s eta 0:00:06\n",
      "   -------------------------- ------------ 195.6/284.1 MB 14.9 MB/s eta 0:00:06\n",
      "   -------------------------- ------------ 196.2/284.1 MB 15.2 MB/s eta 0:00:06\n",
      "   -------------------------- ------------ 196.7/284.1 MB 14.9 MB/s eta 0:00:06\n",
      "   --------------------------- ----------- 197.3/284.1 MB 14.9 MB/s eta 0:00:06\n",
      "   --------------------------- ----------- 197.9/284.1 MB 15.2 MB/s eta 0:00:06\n",
      "   --------------------------- ----------- 198.7/284.1 MB 15.2 MB/s eta 0:00:06\n",
      "   --------------------------- ----------- 199.4/284.1 MB 15.2 MB/s eta 0:00:06\n",
      "   --------------------------- ----------- 200.0/284.1 MB 15.2 MB/s eta 0:00:06\n",
      "   --------------------------- ----------- 200.6/284.1 MB 15.2 MB/s eta 0:00:06\n",
      "   --------------------------- ----------- 201.0/284.1 MB 14.9 MB/s eta 0:00:06\n",
      "   --------------------------- ----------- 201.3/284.1 MB 14.6 MB/s eta 0:00:06\n",
      "   --------------------------- ----------- 201.6/284.1 MB 13.6 MB/s eta 0:00:07\n",
      "   --------------------------- ----------- 202.5/284.1 MB 14.2 MB/s eta 0:00:06\n",
      "   --------------------------- ----------- 202.9/284.1 MB 13.9 MB/s eta 0:00:06\n",
      "   --------------------------- ----------- 203.4/284.1 MB 13.6 MB/s eta 0:00:06\n",
      "   --------------------------- ----------- 204.0/284.1 MB 13.1 MB/s eta 0:00:07\n",
      "   ---------------------------- ---------- 204.4/284.1 MB 13.1 MB/s eta 0:00:07\n",
      "   ---------------------------- ---------- 204.9/284.1 MB 12.8 MB/s eta 0:00:07\n",
      "   ---------------------------- ---------- 205.4/284.1 MB 12.6 MB/s eta 0:00:07\n",
      "   ---------------------------- ---------- 205.8/284.1 MB 12.6 MB/s eta 0:00:07\n",
      "   ---------------------------- ---------- 206.3/284.1 MB 12.4 MB/s eta 0:00:07\n",
      "   ---------------------------- ---------- 206.8/284.1 MB 12.4 MB/s eta 0:00:07\n",
      "   ---------------------------- ---------- 207.4/284.1 MB 12.6 MB/s eta 0:00:07\n",
      "   ---------------------------- ---------- 207.8/284.1 MB 11.9 MB/s eta 0:00:07\n",
      "   ---------------------------- ---------- 208.4/284.1 MB 12.1 MB/s eta 0:00:07\n",
      "   ---------------------------- ---------- 209.2/284.1 MB 12.1 MB/s eta 0:00:07\n",
      "   ---------------------------- ---------- 209.8/284.1 MB 12.1 MB/s eta 0:00:07\n",
      "   ---------------------------- ---------- 210.5/284.1 MB 11.9 MB/s eta 0:00:07\n",
      "   ---------------------------- ---------- 210.9/284.1 MB 11.9 MB/s eta 0:00:07\n",
      "   ----------------------------- --------- 211.7/284.1 MB 13.1 MB/s eta 0:00:06\n",
      "   ----------------------------- --------- 212.3/284.1 MB 13.1 MB/s eta 0:00:06\n",
      "   ----------------------------- --------- 212.9/284.1 MB 12.8 MB/s eta 0:00:06\n",
      "   ----------------------------- --------- 213.5/284.1 MB 12.8 MB/s eta 0:00:06\n",
      "   ----------------------------- --------- 214.0/284.1 MB 13.1 MB/s eta 0:00:06\n",
      "   ----------------------------- --------- 214.7/284.1 MB 13.4 MB/s eta 0:00:06\n",
      "   ----------------------------- --------- 215.3/284.1 MB 13.9 MB/s eta 0:00:05\n",
      "   ----------------------------- --------- 216.0/284.1 MB 14.2 MB/s eta 0:00:05\n",
      "   ----------------------------- --------- 216.3/284.1 MB 13.6 MB/s eta 0:00:05\n",
      "   ----------------------------- --------- 216.9/284.1 MB 13.6 MB/s eta 0:00:05\n",
      "   ----------------------------- --------- 217.5/284.1 MB 13.9 MB/s eta 0:00:05\n",
      "   ----------------------------- --------- 218.4/284.1 MB 14.2 MB/s eta 0:00:05\n",
      "   ------------------------------ -------- 219.0/284.1 MB 14.6 MB/s eta 0:00:05\n",
      "   ------------------------------ -------- 219.6/284.1 MB 14.2 MB/s eta 0:00:05\n",
      "   ------------------------------ -------- 220.2/284.1 MB 14.6 MB/s eta 0:00:05\n",
      "   ------------------------------ -------- 220.7/284.1 MB 14.2 MB/s eta 0:00:05\n",
      "   ------------------------------ -------- 221.4/284.1 MB 14.9 MB/s eta 0:00:05\n",
      "   ------------------------------ -------- 222.0/284.1 MB 14.9 MB/s eta 0:00:05\n",
      "   ------------------------------ -------- 222.6/284.1 MB 14.6 MB/s eta 0:00:05\n",
      "   ------------------------------ -------- 223.3/284.1 MB 14.9 MB/s eta 0:00:05\n",
      "   ------------------------------ -------- 223.6/284.1 MB 14.6 MB/s eta 0:00:05\n",
      "   ------------------------------ -------- 224.3/284.1 MB 14.2 MB/s eta 0:00:05\n",
      "   ------------------------------ -------- 224.9/284.1 MB 14.6 MB/s eta 0:00:05\n",
      "   ------------------------------ -------- 225.5/284.1 MB 14.6 MB/s eta 0:00:05\n",
      "   ------------------------------- ------- 226.0/284.1 MB 14.5 MB/s eta 0:00:04\n",
      "   ------------------------------- ------- 226.7/284.1 MB 15.2 MB/s eta 0:00:04\n",
      "   ------------------------------- ------- 227.3/284.1 MB 14.9 MB/s eta 0:00:04\n",
      "   ------------------------------- ------- 227.9/284.1 MB 14.9 MB/s eta 0:00:04\n",
      "   ------------------------------- ------- 228.3/284.1 MB 14.6 MB/s eta 0:00:04\n",
      "   ------------------------------- ------- 228.8/284.1 MB 14.6 MB/s eta 0:00:04\n",
      "   ------------------------------- ------- 229.4/284.1 MB 14.2 MB/s eta 0:00:04\n",
      "   ------------------------------- ------- 229.8/284.1 MB 13.9 MB/s eta 0:00:04\n",
      "   ------------------------------- ------- 230.3/284.1 MB 13.9 MB/s eta 0:00:04\n",
      "   ------------------------------- ------- 231.0/284.1 MB 13.6 MB/s eta 0:00:04\n",
      "   ------------------------------- ------- 231.5/284.1 MB 13.4 MB/s eta 0:00:04\n",
      "   ------------------------------- ------- 232.0/284.1 MB 13.1 MB/s eta 0:00:04\n",
      "   ------------------------------- ------- 232.5/284.1 MB 13.1 MB/s eta 0:00:04\n",
      "   ------------------------------- ------- 233.0/284.1 MB 13.4 MB/s eta 0:00:04\n",
      "   -------------------------------- ------ 233.5/284.1 MB 12.8 MB/s eta 0:00:04\n",
      "   -------------------------------- ------ 234.0/284.1 MB 13.1 MB/s eta 0:00:04\n",
      "   -------------------------------- ------ 234.6/284.1 MB 12.8 MB/s eta 0:00:04\n",
      "   -------------------------------- ------ 235.3/284.1 MB 12.8 MB/s eta 0:00:04\n",
      "   -------------------------------- ------ 235.9/284.1 MB 12.6 MB/s eta 0:00:04\n",
      "   -------------------------------- ------ 236.4/284.1 MB 12.4 MB/s eta 0:00:04\n",
      "   -------------------------------- ------ 236.9/284.1 MB 12.6 MB/s eta 0:00:04\n",
      "   -------------------------------- ------ 237.4/284.1 MB 12.4 MB/s eta 0:00:04\n",
      "   -------------------------------- ------ 237.9/284.1 MB 12.4 MB/s eta 0:00:04\n",
      "   -------------------------------- ------ 238.3/284.1 MB 12.4 MB/s eta 0:00:04\n",
      "   -------------------------------- ------ 238.7/284.1 MB 11.9 MB/s eta 0:00:04\n",
      "   -------------------------------- ------ 239.3/284.1 MB 12.1 MB/s eta 0:00:04\n",
      "   -------------------------------- ------ 239.8/284.1 MB 12.1 MB/s eta 0:00:04\n",
      "   -------------------------------- ------ 240.3/284.1 MB 12.1 MB/s eta 0:00:04\n",
      "   --------------------------------- ----- 240.6/284.1 MB 12.1 MB/s eta 0:00:04\n",
      "   --------------------------------- ----- 241.0/284.1 MB 11.9 MB/s eta 0:00:04\n",
      "   --------------------------------- ----- 241.5/284.1 MB 11.7 MB/s eta 0:00:04\n",
      "   --------------------------------- ----- 242.1/284.1 MB 12.1 MB/s eta 0:00:04\n",
      "   --------------------------------- ----- 242.5/284.1 MB 11.7 MB/s eta 0:00:04\n",
      "   --------------------------------- ----- 242.9/284.1 MB 11.7 MB/s eta 0:00:04\n",
      "   --------------------------------- ----- 243.4/284.1 MB 11.7 MB/s eta 0:00:04\n",
      "   --------------------------------- ----- 244.0/284.1 MB 11.9 MB/s eta 0:00:04\n",
      "   --------------------------------- ----- 244.4/284.1 MB 11.7 MB/s eta 0:00:04\n",
      "   --------------------------------- ----- 245.0/284.1 MB 11.7 MB/s eta 0:00:04\n",
      "   --------------------------------- ----- 245.6/284.1 MB 11.7 MB/s eta 0:00:04\n",
      "   --------------------------------- ----- 246.2/284.1 MB 11.7 MB/s eta 0:00:04\n",
      "   --------------------------------- ----- 246.9/284.1 MB 11.7 MB/s eta 0:00:04\n",
      "   --------------------------------- ----- 247.4/284.1 MB 11.9 MB/s eta 0:00:04\n",
      "   ---------------------------------- ---- 248.0/284.1 MB 11.9 MB/s eta 0:00:04\n",
      "   ---------------------------------- ---- 248.7/284.1 MB 12.4 MB/s eta 0:00:03\n",
      "   ---------------------------------- ---- 249.3/284.1 MB 12.4 MB/s eta 0:00:03\n",
      "   ---------------------------------- ---- 250.0/284.1 MB 12.6 MB/s eta 0:00:03\n",
      "   ---------------------------------- ---- 250.7/284.1 MB 12.6 MB/s eta 0:00:03\n",
      "   ---------------------------------- ---- 251.3/284.1 MB 13.1 MB/s eta 0:00:03\n",
      "   ---------------------------------- ---- 251.9/284.1 MB 13.4 MB/s eta 0:00:03\n",
      "   ---------------------------------- ---- 252.6/284.1 MB 13.4 MB/s eta 0:00:03\n",
      "   ---------------------------------- ---- 253.2/284.1 MB 13.6 MB/s eta 0:00:03\n",
      "   ---------------------------------- ---- 253.8/284.1 MB 13.9 MB/s eta 0:00:03\n",
      "   ---------------------------------- ---- 254.4/284.1 MB 13.9 MB/s eta 0:00:03\n",
      "   ---------------------------------- ---- 254.9/284.1 MB 13.9 MB/s eta 0:00:03\n",
      "   ----------------------------------- --- 255.3/284.1 MB 13.9 MB/s eta 0:00:03\n",
      "   ----------------------------------- --- 255.7/284.1 MB 13.6 MB/s eta 0:00:03\n",
      "   ----------------------------------- --- 256.1/284.1 MB 13.4 MB/s eta 0:00:03\n",
      "   ----------------------------------- --- 256.5/284.1 MB 13.4 MB/s eta 0:00:03\n",
      "   ----------------------------------- --- 256.9/284.1 MB 13.1 MB/s eta 0:00:03\n",
      "   ----------------------------------- --- 257.4/284.1 MB 12.8 MB/s eta 0:00:03\n",
      "   ----------------------------------- --- 257.8/284.1 MB 12.6 MB/s eta 0:00:03\n",
      "   ----------------------------------- --- 258.3/284.1 MB 12.6 MB/s eta 0:00:03\n",
      "   ----------------------------------- --- 258.7/284.1 MB 12.4 MB/s eta 0:00:03\n",
      "   ----------------------------------- --- 259.2/284.1 MB 12.4 MB/s eta 0:00:03\n",
      "   ----------------------------------- --- 259.7/284.1 MB 12.4 MB/s eta 0:00:02\n",
      "   ----------------------------------- --- 260.2/284.1 MB 12.1 MB/s eta 0:00:02\n",
      "   ----------------------------------- --- 260.6/284.1 MB 11.7 MB/s eta 0:00:03\n",
      "   ----------------------------------- --- 261.2/284.1 MB 11.7 MB/s eta 0:00:02\n",
      "   ----------------------------------- --- 261.8/284.1 MB 11.5 MB/s eta 0:00:02\n",
      "   ------------------------------------ -- 262.4/284.1 MB 11.7 MB/s eta 0:00:02\n",
      "   ------------------------------------ -- 262.9/284.1 MB 11.5 MB/s eta 0:00:02\n",
      "   ------------------------------------ -- 263.4/284.1 MB 11.5 MB/s eta 0:00:02\n",
      "   ------------------------------------ -- 263.9/284.1 MB 11.3 MB/s eta 0:00:02\n",
      "   ------------------------------------ -- 264.4/284.1 MB 11.5 MB/s eta 0:00:02\n",
      "   ------------------------------------ -- 264.9/284.1 MB 11.3 MB/s eta 0:00:02\n",
      "   ------------------------------------ -- 265.6/284.1 MB 11.7 MB/s eta 0:00:02\n",
      "   ------------------------------------ -- 266.2/284.1 MB 11.9 MB/s eta 0:00:02\n",
      "   ------------------------------------ -- 266.8/284.1 MB 12.1 MB/s eta 0:00:02\n",
      "   ------------------------------------ -- 267.3/284.1 MB 12.1 MB/s eta 0:00:02\n",
      "   ------------------------------------ -- 268.0/284.1 MB 12.4 MB/s eta 0:00:02\n",
      "   ------------------------------------ -- 268.4/284.1 MB 12.4 MB/s eta 0:00:02\n",
      "   ------------------------------------ -- 269.1/284.1 MB 12.6 MB/s eta 0:00:02\n",
      "   ------------------------------------- - 269.7/284.1 MB 12.8 MB/s eta 0:00:02\n",
      "   ------------------------------------- - 270.3/284.1 MB 13.1 MB/s eta 0:00:02\n",
      "   ------------------------------------- - 271.0/284.1 MB 13.6 MB/s eta 0:00:01\n",
      "   ------------------------------------- - 271.4/284.1 MB 13.4 MB/s eta 0:00:01\n",
      "   ------------------------------------- - 272.2/284.1 MB 13.4 MB/s eta 0:00:01\n",
      "   ------------------------------------- - 272.8/284.1 MB 13.6 MB/s eta 0:00:01\n",
      "   ------------------------------------- - 273.4/284.1 MB 13.6 MB/s eta 0:00:01\n",
      "   ------------------------------------- - 274.1/284.1 MB 14.2 MB/s eta 0:00:01\n",
      "   ------------------------------------- - 274.7/284.1 MB 13.9 MB/s eta 0:00:01\n",
      "   ------------------------------------- - 275.3/284.1 MB 14.6 MB/s eta 0:00:01\n",
      "   ------------------------------------- - 275.9/284.1 MB 14.2 MB/s eta 0:00:01\n",
      "   ------------------------------------- - 276.2/284.1 MB 13.6 MB/s eta 0:00:01\n",
      "   ------------------------------------- - 276.8/284.1 MB 13.9 MB/s eta 0:00:01\n",
      "   --------------------------------------  277.2/284.1 MB 13.9 MB/s eta 0:00:01\n",
      "   --------------------------------------  277.7/284.1 MB 14.2 MB/s eta 0:00:01\n",
      "   --------------------------------------  278.4/284.1 MB 13.9 MB/s eta 0:00:01\n",
      "   --------------------------------------  278.8/284.1 MB 13.9 MB/s eta 0:00:01\n",
      "   --------------------------------------  279.4/284.1 MB 13.9 MB/s eta 0:00:01\n",
      "   --------------------------------------  280.0/284.1 MB 13.9 MB/s eta 0:00:01\n",
      "   --------------------------------------  280.6/284.1 MB 13.6 MB/s eta 0:00:01\n",
      "   --------------------------------------  281.3/284.1 MB 13.9 MB/s eta 0:00:01\n",
      "   --------------------------------------  281.8/284.1 MB 14.2 MB/s eta 0:00:01\n",
      "   --------------------------------------  282.5/284.1 MB 14.2 MB/s eta 0:00:01\n",
      "   --------------------------------------  283.2/284.1 MB 14.2 MB/s eta 0:00:01\n",
      "   --------------------------------------  283.8/284.1 MB 14.2 MB/s eta 0:00:01\n",
      "   --------------------------------------  284.1/284.1 MB 14.2 MB/s eta 0:00:01\n",
      "   --------------------------------------  284.1/284.1 MB 14.2 MB/s eta 0:00:01\n",
      "   --------------------------------------  284.1/284.1 MB 14.2 MB/s eta 0:00:01\n",
      "   --------------------------------------  284.1/284.1 MB 14.2 MB/s eta 0:00:01\n",
      "   --------------------------------------  284.1/284.1 MB 14.2 MB/s eta 0:00:01\n",
      "   --------------------------------------  284.1/284.1 MB 14.2 MB/s eta 0:00:01\n",
      "   --------------------------------------  284.1/284.1 MB 14.2 MB/s eta 0:00:01\n",
      "   --------------------------------------  284.1/284.1 MB 14.2 MB/s eta 0:00:01\n",
      "   --------------------------------------  284.1/284.1 MB 14.2 MB/s eta 0:00:01\n",
      "   --------------------------------------  284.1/284.1 MB 14.2 MB/s eta 0:00:01\n",
      "   --------------------------------------  284.1/284.1 MB 14.2 MB/s eta 0:00:01\n",
      "   --------------------------------------  284.1/284.1 MB 14.2 MB/s eta 0:00:01\n",
      "   --------------------------------------  284.1/284.1 MB 14.2 MB/s eta 0:00:01\n",
      "   --------------------------------------  284.1/284.1 MB 14.2 MB/s eta 0:00:01\n",
      "   --------------------------------------  284.1/284.1 MB 14.2 MB/s eta 0:00:01\n",
      "   --------------------------------------  284.1/284.1 MB 14.2 MB/s eta 0:00:01\n",
      "   --------------------------------------  284.1/284.1 MB 14.2 MB/s eta 0:00:01\n",
      "   --------------------------------------  284.1/284.1 MB 14.2 MB/s eta 0:00:01\n",
      "   --------------------------------------  284.1/284.1 MB 14.2 MB/s eta 0:00:01\n",
      "   ---------------------------------------- 284.1/284.1 MB 6.4 MB/s eta 0:00:00\n",
      "Downloading ml_dtypes-0.2.0-cp310-cp310-win_amd64.whl (938 kB)\n",
      "   ---------------------------------------- 0.0/938.6 kB ? eta -:--:--\n",
      "   -------------------------- ------------ 634.9/938.6 kB 20.1 MB/s eta 0:00:01\n",
      "   --------------------------------------- 938.6/938.6 kB 11.9 MB/s eta 0:00:00\n",
      "Downloading keras-2.14.0-py3-none-any.whl (1.7 MB)\n",
      "   ---------------------------------------- 0.0/1.7 MB ? eta -:--:--\n",
      "   ----------------- ---------------------- 0.7/1.7 MB 15.3 MB/s eta 0:00:01\n",
      "   ------------------------------- -------- 1.4/1.7 MB 17.3 MB/s eta 0:00:01\n",
      "   ---------------------------------------  1.7/1.7 MB 15.5 MB/s eta 0:00:01\n",
      "   ---------------------------------------- 1.7/1.7 MB 12.0 MB/s eta 0:00:00\n",
      "Downloading tensorboard-2.14.1-py3-none-any.whl (5.5 MB)\n",
      "   ---------------------------------------- 0.0/5.5 MB ? eta -:--:--\n",
      "   ----- ---------------------------------- 0.7/5.5 MB 22.5 MB/s eta 0:00:01\n",
      "   --------- ------------------------------ 1.3/5.5 MB 16.5 MB/s eta 0:00:01\n",
      "   ------------- -------------------------- 1.9/5.5 MB 15.3 MB/s eta 0:00:01\n",
      "   ------------------ --------------------- 2.5/5.5 MB 16.3 MB/s eta 0:00:01\n",
      "   ---------------------- ----------------- 3.1/5.5 MB 15.4 MB/s eta 0:00:01\n",
      "   --------------------------- ------------ 3.8/5.5 MB 16.1 MB/s eta 0:00:01\n",
      "   -------------------------------- ------- 4.4/5.5 MB 15.7 MB/s eta 0:00:01\n",
      "   ------------------------------------ --- 5.0/5.5 MB 15.2 MB/s eta 0:00:01\n",
      "   ---------------------------------------  5.5/5.5 MB 15.3 MB/s eta 0:00:01\n",
      "   ---------------------------------------- 5.5/5.5 MB 14.7 MB/s eta 0:00:00\n",
      "Downloading tensorflow_estimator-2.14.0-py2.py3-none-any.whl (440 kB)\n",
      "   ---------------------------------------- 0.0/440.7 kB ? eta -:--:--\n",
      "   --------------------------------------- 440.7/440.7 kB 13.9 MB/s eta 0:00:00\n",
      "Downloading wrapt-1.14.1-cp310-cp310-win_amd64.whl (35 kB)\n",
      "Downloading google_auth-2.35.0-py2.py3-none-any.whl (208 kB)\n",
      "   ---------------------------------------- 0.0/209.0 kB ? eta -:--:--\n",
      "   --------------------------------------- 209.0/209.0 kB 13.2 MB/s eta 0:00:00\n",
      "Downloading google_auth_oauthlib-1.0.0-py2.py3-none-any.whl (18 kB)\n",
      "Downloading pyasn1_modules-0.4.1-py3-none-any.whl (181 kB)\n",
      "   ---------------------------------------- 0.0/181.5 kB ? eta -:--:--\n",
      "   ---------------------------------------- 181.5/181.5 kB ? eta 0:00:00\n",
      "Downloading requests_oauthlib-2.0.0-py2.py3-none-any.whl (24 kB)\n",
      "Downloading rsa-4.9-py3-none-any.whl (34 kB)\n",
      "Downloading oauthlib-3.2.2-py3-none-any.whl (151 kB)\n",
      "   ---------------------------------------- 0.0/151.7 kB ? eta -:--:--\n",
      "   ---------------------------------------- 151.7/151.7 kB 4.6 MB/s eta 0:00:00\n",
      "Downloading pyasn1-0.6.1-py3-none-any.whl (83 kB)\n",
      "   ---------------------------------------- 0.0/83.1 kB ? eta -:--:--\n",
      "   ---------------------------------------- 83.1/83.1 kB ? eta 0:00:00\n",
      "Installing collected packages: wrapt, tensorflow-estimator, pyasn1, oauthlib, ml-dtypes, keras, rsa, requests-oauthlib, pyasn1-modules, google-auth, google-auth-oauthlib, tensorboard, tensorflow-intel, tensorflow\n",
      "  Attempting uninstall: wrapt\n",
      "    Found existing installation: wrapt 1.16.0\n",
      "    Uninstalling wrapt-1.16.0:\n",
      "      Successfully uninstalled wrapt-1.16.0\n",
      "  Attempting uninstall: ml-dtypes\n",
      "    Found existing installation: ml-dtypes 0.4.0\n",
      "    Uninstalling ml-dtypes-0.4.0:\n",
      "      Successfully uninstalled ml-dtypes-0.4.0\n",
      "  Attempting uninstall: keras\n",
      "    Found existing installation: keras 2.9.0\n",
      "    Uninstalling keras-2.9.0:\n",
      "      Successfully uninstalled keras-2.9.0\n",
      "  Attempting uninstall: tensorboard\n",
      "    Found existing installation: tensorboard 2.17.0\n",
      "    Uninstalling tensorboard-2.17.0:\n",
      "      Successfully uninstalled tensorboard-2.17.0\n",
      "  Attempting uninstall: tensorflow-intel\n",
      "    Found existing installation: tensorflow-intel 2.17.0\n",
      "    Uninstalling tensorflow-intel-2.17.0:\n",
      "      Successfully uninstalled tensorflow-intel-2.17.0\n",
      "  Attempting uninstall: tensorflow\n",
      "    Found existing installation: tensorflow 2.17.0\n",
      "    Uninstalling tensorflow-2.17.0:\n",
      "      Successfully uninstalled tensorflow-2.17.0\n",
      "Successfully installed google-auth-2.35.0 google-auth-oauthlib-1.0.0 keras-2.14.0 ml-dtypes-0.2.0 oauthlib-3.2.2 pyasn1-0.6.1 pyasn1-modules-0.4.1 requests-oauthlib-2.0.0 rsa-4.9 tensorboard-2.14.1 tensorflow-2.14.0 tensorflow-estimator-2.14.0 tensorflow-intel-2.14.0 wrapt-1.14.1\n",
      "Note: you may need to restart the kernel to use updated packages.\n"
     ]
    },
    {
     "name": "stderr",
     "output_type": "stream",
     "text": [
      "WARNING: Ignoring invalid distribution -eras (c:\\users\\jonpg\\appdata\\local\\programs\\python\\python310\\lib\\site-packages)\n",
      "WARNING: Ignoring invalid distribution -eras (c:\\users\\jonpg\\appdata\\local\\programs\\python\\python310\\lib\\site-packages)\n",
      "  WARNING: Failed to remove contents in a temporary directory 'C:\\Users\\jonpg\\AppData\\Local\\Programs\\Python\\Python310\\Lib\\site-packages\\~rapt'.\n",
      "  You can safely remove it manually.\n",
      "  WARNING: Failed to remove contents in a temporary directory 'C:\\Users\\jonpg\\AppData\\Local\\Programs\\Python\\Python310\\Lib\\site-packages\\~l_dtypes'.\n",
      "  You can safely remove it manually.\n",
      "  WARNING: The scripts pyrsa-decrypt.exe, pyrsa-encrypt.exe, pyrsa-keygen.exe, pyrsa-priv2pub.exe, pyrsa-sign.exe and pyrsa-verify.exe are installed in 'c:\\Users\\jonpg\\AppData\\Local\\Programs\\Python\\Python310\\Scripts' which is not on PATH.\n",
      "  Consider adding this directory to PATH or, if you prefer to suppress this warning, use --no-warn-script-location.\n",
      "  WARNING: The script google-oauthlib-tool.exe is installed in 'c:\\Users\\jonpg\\AppData\\Local\\Programs\\Python\\Python310\\Scripts' which is not on PATH.\n",
      "  Consider adding this directory to PATH or, if you prefer to suppress this warning, use --no-warn-script-location.\n",
      "  WARNING: The script tensorboard.exe is installed in 'c:\\Users\\jonpg\\AppData\\Local\\Programs\\Python\\Python310\\Scripts' which is not on PATH.\n",
      "  Consider adding this directory to PATH or, if you prefer to suppress this warning, use --no-warn-script-location.\n",
      "  WARNING: The scripts estimator_ckpt_converter.exe, import_pb_to_tensorboard.exe, saved_model_cli.exe, tensorboard.exe, tf_upgrade_v2.exe, tflite_convert.exe, toco.exe and toco_from_protos.exe are installed in 'c:\\Users\\jonpg\\AppData\\Local\\Programs\\Python\\Python310\\Scripts' which is not on PATH.\n",
      "  Consider adding this directory to PATH or, if you prefer to suppress this warning, use --no-warn-script-location.\n",
      "  WARNING: Failed to remove contents in a temporary directory 'C:\\Users\\jonpg\\AppData\\Local\\Programs\\Python\\Python310\\Lib\\site-packages\\~ensorflow'.\n",
      "  You can safely remove it manually.\n",
      "\n",
      "[notice] A new release of pip is available: 24.1.2 -> 24.2\n",
      "[notice] To update, run: python.exe -m pip install --upgrade pip\n"
     ]
    }
   ],
   "source": [
    "%pip install tensorflow==2.14.0"
   ]
  },
  {
   "cell_type": "code",
   "execution_count": 12,
   "metadata": {},
   "outputs": [
    {
     "name": "stdout",
     "output_type": "stream",
     "text": [
      "Model: \"sequential\"\n",
      "_________________________________________________________________\n",
      " Layer (type)                Output Shape              Param #   \n",
      "=================================================================\n",
      " lstm (LSTM)                 (None, 64)                16896     \n",
      "                                                                 \n",
      " dense (Dense)               (None, 8)                 520       \n",
      "                                                                 \n",
      " dense_1 (Dense)             (None, 1)                 9         \n",
      "                                                                 \n",
      "=================================================================\n",
      "Total params: 17425 (68.07 KB)\n",
      "Trainable params: 17425 (68.07 KB)\n",
      "Non-trainable params: 0 (0.00 Byte)\n",
      "_________________________________________________________________\n"
     ]
    }
   ],
   "source": [
    "from tensorflow.keras.models import Sequential\n",
    "from tensorflow.keras.layers import *\n",
    "from tensorflow.keras.callbacks import ModelCheckpoint\n",
    "from tensorflow.keras.losses import MeanSquaredError\n",
    "from tensorflow.keras.metrics import RootMeanSquaredError\n",
    "from tensorflow.keras.optimizers import Adam\n",
    "\n",
    "model1 = Sequential()\n",
    "model1.add(InputLayer((5, 1)))\n",
    "model1.add(LSTM(64))\n",
    "model1.add(Dense(8, 'relu'))\n",
    "model1.add(Dense(1, 'linear'))\n",
    "\n",
    "model1.summary()"
   ]
  },
  {
   "cell_type": "code",
   "execution_count": 13,
   "metadata": {},
   "outputs": [],
   "source": [
    "cp1 = ModelCheckpoint('model1/', save_best_only=True)\n",
    "model1.compile(loss=MeanSquaredError(), optimizer=Adam(learning_rate=0.0001), metrics=[RootMeanSquaredError()])"
   ]
  },
  {
   "cell_type": "code",
   "execution_count": 14,
   "metadata": {},
   "outputs": [
    {
     "name": "stdout",
     "output_type": "stream",
     "text": [
      "Epoch 1/10\n",
      "12773/12779 [============================>.] - ETA: 0s - loss: 20.4053 - root_mean_squared_error: 4.5172INFO:tensorflow:Assets written to: model1\\assets\n"
     ]
    },
    {
     "name": "stderr",
     "output_type": "stream",
     "text": [
      "INFO:tensorflow:Assets written to: model1\\assets\n"
     ]
    },
    {
     "name": "stdout",
     "output_type": "stream",
     "text": [
      "12779/12779 [==============================] - 93s 7ms/step - loss: 20.3981 - root_mean_squared_error: 4.5164 - val_loss: 3.0880 - val_root_mean_squared_error: 1.7573\n",
      "Epoch 2/10\n",
      "12775/12779 [============================>.] - ETA: 0s - loss: 2.3308 - root_mean_squared_error: 1.5267INFO:tensorflow:Assets written to: model1\\assets\n"
     ]
    },
    {
     "name": "stderr",
     "output_type": "stream",
     "text": [
      "INFO:tensorflow:Assets written to: model1\\assets\n"
     ]
    },
    {
     "name": "stdout",
     "output_type": "stream",
     "text": [
      "12779/12779 [==============================] - 154s 12ms/step - loss: 2.3307 - root_mean_squared_error: 1.5267 - val_loss: 3.0678 - val_root_mean_squared_error: 1.7515\n",
      "Epoch 3/10\n",
      "12773/12779 [============================>.] - ETA: 0s - loss: 2.3087 - root_mean_squared_error: 1.5194INFO:tensorflow:Assets written to: model1\\assets\n"
     ]
    },
    {
     "name": "stderr",
     "output_type": "stream",
     "text": [
      "INFO:tensorflow:Assets written to: model1\\assets\n"
     ]
    },
    {
     "name": "stdout",
     "output_type": "stream",
     "text": [
      "12779/12779 [==============================] - 164s 13ms/step - loss: 2.3081 - root_mean_squared_error: 1.5192 - val_loss: 3.0392 - val_root_mean_squared_error: 1.7433\n",
      "Epoch 4/10\n",
      "12779/12779 [==============================] - 152s 12ms/step - loss: 2.2961 - root_mean_squared_error: 1.5153 - val_loss: 3.0432 - val_root_mean_squared_error: 1.7445\n",
      "Epoch 5/10\n",
      "12775/12779 [============================>.] - ETA: 0s - loss: 2.2882 - root_mean_squared_error: 1.5127INFO:tensorflow:Assets written to: model1\\assets\n"
     ]
    },
    {
     "name": "stderr",
     "output_type": "stream",
     "text": [
      "INFO:tensorflow:Assets written to: model1\\assets\n"
     ]
    },
    {
     "name": "stdout",
     "output_type": "stream",
     "text": [
      "12779/12779 [==============================] - 168s 13ms/step - loss: 2.2878 - root_mean_squared_error: 1.5126 - val_loss: 3.0292 - val_root_mean_squared_error: 1.7405\n",
      "Epoch 6/10\n",
      " 6302/12779 [=============>................] - ETA: 1:02 - loss: 2.2723 - root_mean_squared_error: 1.5074"
     ]
    },
    {
     "ename": "KeyboardInterrupt",
     "evalue": "",
     "output_type": "error",
     "traceback": [
      "\u001b[1;31m---------------------------------------------------------------------------\u001b[0m",
      "\u001b[1;31mKeyboardInterrupt\u001b[0m                         Traceback (most recent call last)",
      "Cell \u001b[1;32mIn[14], line 1\u001b[0m\n\u001b[1;32m----> 1\u001b[0m \u001b[43mmodel1\u001b[49m\u001b[38;5;241;43m.\u001b[39;49m\u001b[43mfit\u001b[49m\u001b[43m(\u001b[49m\u001b[43mX_train1\u001b[49m\u001b[43m,\u001b[49m\u001b[43m \u001b[49m\u001b[43my_train1\u001b[49m\u001b[43m,\u001b[49m\u001b[43m \u001b[49m\u001b[43mvalidation_data\u001b[49m\u001b[38;5;241;43m=\u001b[39;49m\u001b[43m(\u001b[49m\u001b[43mX_val1\u001b[49m\u001b[43m,\u001b[49m\u001b[43m \u001b[49m\u001b[43my_val1\u001b[49m\u001b[43m)\u001b[49m\u001b[43m,\u001b[49m\u001b[43m \u001b[49m\u001b[43mepochs\u001b[49m\u001b[38;5;241;43m=\u001b[39;49m\u001b[38;5;241;43m10\u001b[39;49m\u001b[43m,\u001b[49m\u001b[43m \u001b[49m\u001b[43mcallbacks\u001b[49m\u001b[38;5;241;43m=\u001b[39;49m\u001b[43m[\u001b[49m\u001b[43mcp1\u001b[49m\u001b[43m]\u001b[49m\u001b[43m)\u001b[49m\n",
      "File \u001b[1;32mc:\\Users\\jonpg\\AppData\\Local\\Programs\\Python\\Python310\\lib\\site-packages\\keras\\src\\utils\\traceback_utils.py:65\u001b[0m, in \u001b[0;36mfilter_traceback.<locals>.error_handler\u001b[1;34m(*args, **kwargs)\u001b[0m\n\u001b[0;32m     63\u001b[0m filtered_tb \u001b[38;5;241m=\u001b[39m \u001b[38;5;28;01mNone\u001b[39;00m\n\u001b[0;32m     64\u001b[0m \u001b[38;5;28;01mtry\u001b[39;00m:\n\u001b[1;32m---> 65\u001b[0m     \u001b[38;5;28;01mreturn\u001b[39;00m fn(\u001b[38;5;241m*\u001b[39margs, \u001b[38;5;241m*\u001b[39m\u001b[38;5;241m*\u001b[39mkwargs)\n\u001b[0;32m     66\u001b[0m \u001b[38;5;28;01mexcept\u001b[39;00m \u001b[38;5;167;01mException\u001b[39;00m \u001b[38;5;28;01mas\u001b[39;00m e:\n\u001b[0;32m     67\u001b[0m     filtered_tb \u001b[38;5;241m=\u001b[39m _process_traceback_frames(e\u001b[38;5;241m.\u001b[39m__traceback__)\n",
      "File \u001b[1;32mc:\\Users\\jonpg\\AppData\\Local\\Programs\\Python\\Python310\\lib\\site-packages\\keras\\src\\engine\\training.py:1783\u001b[0m, in \u001b[0;36mModel.fit\u001b[1;34m(self, x, y, batch_size, epochs, verbose, callbacks, validation_split, validation_data, shuffle, class_weight, sample_weight, initial_epoch, steps_per_epoch, validation_steps, validation_batch_size, validation_freq, max_queue_size, workers, use_multiprocessing)\u001b[0m\n\u001b[0;32m   1775\u001b[0m \u001b[38;5;28;01mwith\u001b[39;00m tf\u001b[38;5;241m.\u001b[39mprofiler\u001b[38;5;241m.\u001b[39mexperimental\u001b[38;5;241m.\u001b[39mTrace(\n\u001b[0;32m   1776\u001b[0m     \u001b[38;5;124m\"\u001b[39m\u001b[38;5;124mtrain\u001b[39m\u001b[38;5;124m\"\u001b[39m,\n\u001b[0;32m   1777\u001b[0m     epoch_num\u001b[38;5;241m=\u001b[39mepoch,\n\u001b[1;32m   (...)\u001b[0m\n\u001b[0;32m   1780\u001b[0m     _r\u001b[38;5;241m=\u001b[39m\u001b[38;5;241m1\u001b[39m,\n\u001b[0;32m   1781\u001b[0m ):\n\u001b[0;32m   1782\u001b[0m     callbacks\u001b[38;5;241m.\u001b[39mon_train_batch_begin(step)\n\u001b[1;32m-> 1783\u001b[0m     tmp_logs \u001b[38;5;241m=\u001b[39m \u001b[38;5;28;43mself\u001b[39;49m\u001b[38;5;241;43m.\u001b[39;49m\u001b[43mtrain_function\u001b[49m\u001b[43m(\u001b[49m\u001b[43miterator\u001b[49m\u001b[43m)\u001b[49m\n\u001b[0;32m   1784\u001b[0m     \u001b[38;5;28;01mif\u001b[39;00m data_handler\u001b[38;5;241m.\u001b[39mshould_sync:\n\u001b[0;32m   1785\u001b[0m         context\u001b[38;5;241m.\u001b[39masync_wait()\n",
      "File \u001b[1;32mc:\\Users\\jonpg\\AppData\\Local\\Programs\\Python\\Python310\\lib\\site-packages\\tensorflow\\python\\util\\traceback_utils.py:150\u001b[0m, in \u001b[0;36mfilter_traceback.<locals>.error_handler\u001b[1;34m(*args, **kwargs)\u001b[0m\n\u001b[0;32m    148\u001b[0m filtered_tb \u001b[38;5;241m=\u001b[39m \u001b[38;5;28;01mNone\u001b[39;00m\n\u001b[0;32m    149\u001b[0m \u001b[38;5;28;01mtry\u001b[39;00m:\n\u001b[1;32m--> 150\u001b[0m   \u001b[38;5;28;01mreturn\u001b[39;00m fn(\u001b[38;5;241m*\u001b[39margs, \u001b[38;5;241m*\u001b[39m\u001b[38;5;241m*\u001b[39mkwargs)\n\u001b[0;32m    151\u001b[0m \u001b[38;5;28;01mexcept\u001b[39;00m \u001b[38;5;167;01mException\u001b[39;00m \u001b[38;5;28;01mas\u001b[39;00m e:\n\u001b[0;32m    152\u001b[0m   filtered_tb \u001b[38;5;241m=\u001b[39m _process_traceback_frames(e\u001b[38;5;241m.\u001b[39m__traceback__)\n",
      "File \u001b[1;32mc:\\Users\\jonpg\\AppData\\Local\\Programs\\Python\\Python310\\lib\\site-packages\\tensorflow\\python\\eager\\polymorphic_function\\polymorphic_function.py:831\u001b[0m, in \u001b[0;36mFunction.__call__\u001b[1;34m(self, *args, **kwds)\u001b[0m\n\u001b[0;32m    828\u001b[0m compiler \u001b[38;5;241m=\u001b[39m \u001b[38;5;124m\"\u001b[39m\u001b[38;5;124mxla\u001b[39m\u001b[38;5;124m\"\u001b[39m \u001b[38;5;28;01mif\u001b[39;00m \u001b[38;5;28mself\u001b[39m\u001b[38;5;241m.\u001b[39m_jit_compile \u001b[38;5;28;01melse\u001b[39;00m \u001b[38;5;124m\"\u001b[39m\u001b[38;5;124mnonXla\u001b[39m\u001b[38;5;124m\"\u001b[39m\n\u001b[0;32m    830\u001b[0m \u001b[38;5;28;01mwith\u001b[39;00m OptionalXlaContext(\u001b[38;5;28mself\u001b[39m\u001b[38;5;241m.\u001b[39m_jit_compile):\n\u001b[1;32m--> 831\u001b[0m   result \u001b[38;5;241m=\u001b[39m \u001b[38;5;28mself\u001b[39m\u001b[38;5;241m.\u001b[39m_call(\u001b[38;5;241m*\u001b[39margs, \u001b[38;5;241m*\u001b[39m\u001b[38;5;241m*\u001b[39mkwds)\n\u001b[0;32m    833\u001b[0m new_tracing_count \u001b[38;5;241m=\u001b[39m \u001b[38;5;28mself\u001b[39m\u001b[38;5;241m.\u001b[39mexperimental_get_tracing_count()\n\u001b[0;32m    834\u001b[0m without_tracing \u001b[38;5;241m=\u001b[39m (tracing_count \u001b[38;5;241m==\u001b[39m new_tracing_count)\n",
      "File \u001b[1;32mc:\\Users\\jonpg\\AppData\\Local\\Programs\\Python\\Python310\\lib\\site-packages\\tensorflow\\python\\eager\\polymorphic_function\\polymorphic_function.py:867\u001b[0m, in \u001b[0;36mFunction._call\u001b[1;34m(self, *args, **kwds)\u001b[0m\n\u001b[0;32m    864\u001b[0m   \u001b[38;5;28mself\u001b[39m\u001b[38;5;241m.\u001b[39m_lock\u001b[38;5;241m.\u001b[39mrelease()\n\u001b[0;32m    865\u001b[0m   \u001b[38;5;66;03m# In this case we have created variables on the first call, so we run the\u001b[39;00m\n\u001b[0;32m    866\u001b[0m   \u001b[38;5;66;03m# defunned version which is guaranteed to never create variables.\u001b[39;00m\n\u001b[1;32m--> 867\u001b[0m   \u001b[38;5;28;01mreturn\u001b[39;00m \u001b[43mtracing_compilation\u001b[49m\u001b[38;5;241;43m.\u001b[39;49m\u001b[43mcall_function\u001b[49m\u001b[43m(\u001b[49m\n\u001b[0;32m    868\u001b[0m \u001b[43m      \u001b[49m\u001b[43margs\u001b[49m\u001b[43m,\u001b[49m\u001b[43m \u001b[49m\u001b[43mkwds\u001b[49m\u001b[43m,\u001b[49m\u001b[43m \u001b[49m\u001b[38;5;28;43mself\u001b[39;49m\u001b[38;5;241;43m.\u001b[39;49m\u001b[43m_no_variable_creation_config\u001b[49m\n\u001b[0;32m    869\u001b[0m \u001b[43m  \u001b[49m\u001b[43m)\u001b[49m\n\u001b[0;32m    870\u001b[0m \u001b[38;5;28;01melif\u001b[39;00m \u001b[38;5;28mself\u001b[39m\u001b[38;5;241m.\u001b[39m_variable_creation_config \u001b[38;5;129;01mis\u001b[39;00m \u001b[38;5;129;01mnot\u001b[39;00m \u001b[38;5;28;01mNone\u001b[39;00m:\n\u001b[0;32m    871\u001b[0m   \u001b[38;5;66;03m# Release the lock early so that multiple threads can perform the call\u001b[39;00m\n\u001b[0;32m    872\u001b[0m   \u001b[38;5;66;03m# in parallel.\u001b[39;00m\n\u001b[0;32m    873\u001b[0m   \u001b[38;5;28mself\u001b[39m\u001b[38;5;241m.\u001b[39m_lock\u001b[38;5;241m.\u001b[39mrelease()\n",
      "File \u001b[1;32mc:\\Users\\jonpg\\AppData\\Local\\Programs\\Python\\Python310\\lib\\site-packages\\tensorflow\\python\\eager\\polymorphic_function\\tracing_compilation.py:139\u001b[0m, in \u001b[0;36mcall_function\u001b[1;34m(args, kwargs, tracing_options)\u001b[0m\n\u001b[0;32m    137\u001b[0m bound_args \u001b[38;5;241m=\u001b[39m function\u001b[38;5;241m.\u001b[39mfunction_type\u001b[38;5;241m.\u001b[39mbind(\u001b[38;5;241m*\u001b[39margs, \u001b[38;5;241m*\u001b[39m\u001b[38;5;241m*\u001b[39mkwargs)\n\u001b[0;32m    138\u001b[0m flat_inputs \u001b[38;5;241m=\u001b[39m function\u001b[38;5;241m.\u001b[39mfunction_type\u001b[38;5;241m.\u001b[39munpack_inputs(bound_args)\n\u001b[1;32m--> 139\u001b[0m \u001b[38;5;28;01mreturn\u001b[39;00m \u001b[43mfunction\u001b[49m\u001b[38;5;241;43m.\u001b[39;49m\u001b[43m_call_flat\u001b[49m\u001b[43m(\u001b[49m\u001b[43m  \u001b[49m\u001b[38;5;66;43;03m# pylint: disable=protected-access\u001b[39;49;00m\n\u001b[0;32m    140\u001b[0m \u001b[43m    \u001b[49m\u001b[43mflat_inputs\u001b[49m\u001b[43m,\u001b[49m\u001b[43m \u001b[49m\u001b[43mcaptured_inputs\u001b[49m\u001b[38;5;241;43m=\u001b[39;49m\u001b[43mfunction\u001b[49m\u001b[38;5;241;43m.\u001b[39;49m\u001b[43mcaptured_inputs\u001b[49m\n\u001b[0;32m    141\u001b[0m \u001b[43m\u001b[49m\u001b[43m)\u001b[49m\n",
      "File \u001b[1;32mc:\\Users\\jonpg\\AppData\\Local\\Programs\\Python\\Python310\\lib\\site-packages\\tensorflow\\python\\eager\\polymorphic_function\\concrete_function.py:1264\u001b[0m, in \u001b[0;36mConcreteFunction._call_flat\u001b[1;34m(self, tensor_inputs, captured_inputs)\u001b[0m\n\u001b[0;32m   1260\u001b[0m possible_gradient_type \u001b[38;5;241m=\u001b[39m gradients_util\u001b[38;5;241m.\u001b[39mPossibleTapeGradientTypes(args)\n\u001b[0;32m   1261\u001b[0m \u001b[38;5;28;01mif\u001b[39;00m (possible_gradient_type \u001b[38;5;241m==\u001b[39m gradients_util\u001b[38;5;241m.\u001b[39mPOSSIBLE_GRADIENT_TYPES_NONE\n\u001b[0;32m   1262\u001b[0m     \u001b[38;5;129;01mand\u001b[39;00m executing_eagerly):\n\u001b[0;32m   1263\u001b[0m   \u001b[38;5;66;03m# No tape is watching; skip to running the function.\u001b[39;00m\n\u001b[1;32m-> 1264\u001b[0m   \u001b[38;5;28;01mreturn\u001b[39;00m \u001b[38;5;28;43mself\u001b[39;49m\u001b[38;5;241;43m.\u001b[39;49m\u001b[43m_inference_function\u001b[49m\u001b[38;5;241;43m.\u001b[39;49m\u001b[43mflat_call\u001b[49m\u001b[43m(\u001b[49m\u001b[43margs\u001b[49m\u001b[43m)\u001b[49m\n\u001b[0;32m   1265\u001b[0m forward_backward \u001b[38;5;241m=\u001b[39m \u001b[38;5;28mself\u001b[39m\u001b[38;5;241m.\u001b[39m_select_forward_and_backward_functions(\n\u001b[0;32m   1266\u001b[0m     args,\n\u001b[0;32m   1267\u001b[0m     possible_gradient_type,\n\u001b[0;32m   1268\u001b[0m     executing_eagerly)\n\u001b[0;32m   1269\u001b[0m forward_function, args_with_tangents \u001b[38;5;241m=\u001b[39m forward_backward\u001b[38;5;241m.\u001b[39mforward()\n",
      "File \u001b[1;32mc:\\Users\\jonpg\\AppData\\Local\\Programs\\Python\\Python310\\lib\\site-packages\\tensorflow\\python\\eager\\polymorphic_function\\atomic_function.py:217\u001b[0m, in \u001b[0;36mAtomicFunction.flat_call\u001b[1;34m(self, args)\u001b[0m\n\u001b[0;32m    215\u001b[0m \u001b[38;5;28;01mdef\u001b[39;00m \u001b[38;5;21mflat_call\u001b[39m(\u001b[38;5;28mself\u001b[39m, args: Sequence[core\u001b[38;5;241m.\u001b[39mTensor]) \u001b[38;5;241m-\u001b[39m\u001b[38;5;241m>\u001b[39m Any:\n\u001b[0;32m    216\u001b[0m \u001b[38;5;250m  \u001b[39m\u001b[38;5;124;03m\"\"\"Calls with tensor inputs and returns the structured output.\"\"\"\u001b[39;00m\n\u001b[1;32m--> 217\u001b[0m   flat_outputs \u001b[38;5;241m=\u001b[39m \u001b[38;5;28;43mself\u001b[39;49m\u001b[43m(\u001b[49m\u001b[38;5;241;43m*\u001b[39;49m\u001b[43margs\u001b[49m\u001b[43m)\u001b[49m\n\u001b[0;32m    218\u001b[0m   \u001b[38;5;28;01mreturn\u001b[39;00m \u001b[38;5;28mself\u001b[39m\u001b[38;5;241m.\u001b[39mfunction_type\u001b[38;5;241m.\u001b[39mpack_output(flat_outputs)\n",
      "File \u001b[1;32mc:\\Users\\jonpg\\AppData\\Local\\Programs\\Python\\Python310\\lib\\site-packages\\tensorflow\\python\\eager\\polymorphic_function\\atomic_function.py:252\u001b[0m, in \u001b[0;36mAtomicFunction.__call__\u001b[1;34m(self, *args)\u001b[0m\n\u001b[0;32m    250\u001b[0m \u001b[38;5;28;01mwith\u001b[39;00m record\u001b[38;5;241m.\u001b[39mstop_recording():\n\u001b[0;32m    251\u001b[0m   \u001b[38;5;28;01mif\u001b[39;00m \u001b[38;5;28mself\u001b[39m\u001b[38;5;241m.\u001b[39m_bound_context\u001b[38;5;241m.\u001b[39mexecuting_eagerly():\n\u001b[1;32m--> 252\u001b[0m     outputs \u001b[38;5;241m=\u001b[39m \u001b[38;5;28;43mself\u001b[39;49m\u001b[38;5;241;43m.\u001b[39;49m\u001b[43m_bound_context\u001b[49m\u001b[38;5;241;43m.\u001b[39;49m\u001b[43mcall_function\u001b[49m\u001b[43m(\u001b[49m\n\u001b[0;32m    253\u001b[0m \u001b[43m        \u001b[49m\u001b[38;5;28;43mself\u001b[39;49m\u001b[38;5;241;43m.\u001b[39;49m\u001b[43mname\u001b[49m\u001b[43m,\u001b[49m\n\u001b[0;32m    254\u001b[0m \u001b[43m        \u001b[49m\u001b[38;5;28;43mlist\u001b[39;49m\u001b[43m(\u001b[49m\u001b[43margs\u001b[49m\u001b[43m)\u001b[49m\u001b[43m,\u001b[49m\n\u001b[0;32m    255\u001b[0m \u001b[43m        \u001b[49m\u001b[38;5;28;43mlen\u001b[39;49m\u001b[43m(\u001b[49m\u001b[38;5;28;43mself\u001b[39;49m\u001b[38;5;241;43m.\u001b[39;49m\u001b[43mfunction_type\u001b[49m\u001b[38;5;241;43m.\u001b[39;49m\u001b[43mflat_outputs\u001b[49m\u001b[43m)\u001b[49m\u001b[43m,\u001b[49m\n\u001b[0;32m    256\u001b[0m \u001b[43m    \u001b[49m\u001b[43m)\u001b[49m\n\u001b[0;32m    257\u001b[0m   \u001b[38;5;28;01melse\u001b[39;00m:\n\u001b[0;32m    258\u001b[0m     outputs \u001b[38;5;241m=\u001b[39m make_call_op_in_graph(\n\u001b[0;32m    259\u001b[0m         \u001b[38;5;28mself\u001b[39m,\n\u001b[0;32m    260\u001b[0m         \u001b[38;5;28mlist\u001b[39m(args),\n\u001b[0;32m    261\u001b[0m         \u001b[38;5;28mself\u001b[39m\u001b[38;5;241m.\u001b[39m_bound_context\u001b[38;5;241m.\u001b[39mfunction_call_options\u001b[38;5;241m.\u001b[39mas_attrs(),\n\u001b[0;32m    262\u001b[0m     )\n",
      "File \u001b[1;32mc:\\Users\\jonpg\\AppData\\Local\\Programs\\Python\\Python310\\lib\\site-packages\\tensorflow\\python\\eager\\context.py:1479\u001b[0m, in \u001b[0;36mContext.call_function\u001b[1;34m(self, name, tensor_inputs, num_outputs)\u001b[0m\n\u001b[0;32m   1477\u001b[0m cancellation_context \u001b[38;5;241m=\u001b[39m cancellation\u001b[38;5;241m.\u001b[39mcontext()\n\u001b[0;32m   1478\u001b[0m \u001b[38;5;28;01mif\u001b[39;00m cancellation_context \u001b[38;5;129;01mis\u001b[39;00m \u001b[38;5;28;01mNone\u001b[39;00m:\n\u001b[1;32m-> 1479\u001b[0m   outputs \u001b[38;5;241m=\u001b[39m \u001b[43mexecute\u001b[49m\u001b[38;5;241;43m.\u001b[39;49m\u001b[43mexecute\u001b[49m\u001b[43m(\u001b[49m\n\u001b[0;32m   1480\u001b[0m \u001b[43m      \u001b[49m\u001b[43mname\u001b[49m\u001b[38;5;241;43m.\u001b[39;49m\u001b[43mdecode\u001b[49m\u001b[43m(\u001b[49m\u001b[38;5;124;43m\"\u001b[39;49m\u001b[38;5;124;43mutf-8\u001b[39;49m\u001b[38;5;124;43m\"\u001b[39;49m\u001b[43m)\u001b[49m\u001b[43m,\u001b[49m\n\u001b[0;32m   1481\u001b[0m \u001b[43m      \u001b[49m\u001b[43mnum_outputs\u001b[49m\u001b[38;5;241;43m=\u001b[39;49m\u001b[43mnum_outputs\u001b[49m\u001b[43m,\u001b[49m\n\u001b[0;32m   1482\u001b[0m \u001b[43m      \u001b[49m\u001b[43minputs\u001b[49m\u001b[38;5;241;43m=\u001b[39;49m\u001b[43mtensor_inputs\u001b[49m\u001b[43m,\u001b[49m\n\u001b[0;32m   1483\u001b[0m \u001b[43m      \u001b[49m\u001b[43mattrs\u001b[49m\u001b[38;5;241;43m=\u001b[39;49m\u001b[43mattrs\u001b[49m\u001b[43m,\u001b[49m\n\u001b[0;32m   1484\u001b[0m \u001b[43m      \u001b[49m\u001b[43mctx\u001b[49m\u001b[38;5;241;43m=\u001b[39;49m\u001b[38;5;28;43mself\u001b[39;49m\u001b[43m,\u001b[49m\n\u001b[0;32m   1485\u001b[0m \u001b[43m  \u001b[49m\u001b[43m)\u001b[49m\n\u001b[0;32m   1486\u001b[0m \u001b[38;5;28;01melse\u001b[39;00m:\n\u001b[0;32m   1487\u001b[0m   outputs \u001b[38;5;241m=\u001b[39m execute\u001b[38;5;241m.\u001b[39mexecute_with_cancellation(\n\u001b[0;32m   1488\u001b[0m       name\u001b[38;5;241m.\u001b[39mdecode(\u001b[38;5;124m\"\u001b[39m\u001b[38;5;124mutf-8\u001b[39m\u001b[38;5;124m\"\u001b[39m),\n\u001b[0;32m   1489\u001b[0m       num_outputs\u001b[38;5;241m=\u001b[39mnum_outputs,\n\u001b[1;32m   (...)\u001b[0m\n\u001b[0;32m   1493\u001b[0m       cancellation_manager\u001b[38;5;241m=\u001b[39mcancellation_context,\n\u001b[0;32m   1494\u001b[0m   )\n",
      "File \u001b[1;32mc:\\Users\\jonpg\\AppData\\Local\\Programs\\Python\\Python310\\lib\\site-packages\\tensorflow\\python\\eager\\execute.py:60\u001b[0m, in \u001b[0;36mquick_execute\u001b[1;34m(op_name, num_outputs, inputs, attrs, ctx, name)\u001b[0m\n\u001b[0;32m     53\u001b[0m   \u001b[38;5;66;03m# Convert any objects of type core_types.Tensor to Tensor.\u001b[39;00m\n\u001b[0;32m     54\u001b[0m   inputs \u001b[38;5;241m=\u001b[39m [\n\u001b[0;32m     55\u001b[0m       tensor_conversion_registry\u001b[38;5;241m.\u001b[39mconvert(t)\n\u001b[0;32m     56\u001b[0m       \u001b[38;5;28;01mif\u001b[39;00m \u001b[38;5;28misinstance\u001b[39m(t, core_types\u001b[38;5;241m.\u001b[39mTensor)\n\u001b[0;32m     57\u001b[0m       \u001b[38;5;28;01melse\u001b[39;00m t\n\u001b[0;32m     58\u001b[0m       \u001b[38;5;28;01mfor\u001b[39;00m t \u001b[38;5;129;01min\u001b[39;00m inputs\n\u001b[0;32m     59\u001b[0m   ]\n\u001b[1;32m---> 60\u001b[0m   tensors \u001b[38;5;241m=\u001b[39m \u001b[43mpywrap_tfe\u001b[49m\u001b[38;5;241;43m.\u001b[39;49m\u001b[43mTFE_Py_Execute\u001b[49m\u001b[43m(\u001b[49m\u001b[43mctx\u001b[49m\u001b[38;5;241;43m.\u001b[39;49m\u001b[43m_handle\u001b[49m\u001b[43m,\u001b[49m\u001b[43m \u001b[49m\u001b[43mdevice_name\u001b[49m\u001b[43m,\u001b[49m\u001b[43m \u001b[49m\u001b[43mop_name\u001b[49m\u001b[43m,\u001b[49m\n\u001b[0;32m     61\u001b[0m \u001b[43m                                      \u001b[49m\u001b[43minputs\u001b[49m\u001b[43m,\u001b[49m\u001b[43m \u001b[49m\u001b[43mattrs\u001b[49m\u001b[43m,\u001b[49m\u001b[43m \u001b[49m\u001b[43mnum_outputs\u001b[49m\u001b[43m)\u001b[49m\n\u001b[0;32m     62\u001b[0m \u001b[38;5;28;01mexcept\u001b[39;00m core\u001b[38;5;241m.\u001b[39m_NotOkStatusException \u001b[38;5;28;01mas\u001b[39;00m e:\n\u001b[0;32m     63\u001b[0m   \u001b[38;5;28;01mif\u001b[39;00m name \u001b[38;5;129;01mis\u001b[39;00m \u001b[38;5;129;01mnot\u001b[39;00m \u001b[38;5;28;01mNone\u001b[39;00m:\n",
      "\u001b[1;31mKeyboardInterrupt\u001b[0m: "
     ]
    }
   ],
   "source": [
    "model1.fit(X_train1, y_train1, validation_data=(X_val1, y_val1), epochs=10, callbacks=[cp1])"
   ]
  },
  {
   "cell_type": "code",
   "execution_count": 14,
   "metadata": {},
   "outputs": [],
   "source": [
    "from tensorflow.keras.models import load_model\n",
    "model1 = load_model('model1/')"
   ]
  },
  {
   "cell_type": "code",
   "execution_count": 15,
   "metadata": {},
   "outputs": [
    {
     "name": "stdout",
     "output_type": "stream",
     "text": [
      "12779/12779 [==============================] - 10s 796us/step\n"
     ]
    },
    {
     "data": {
      "text/html": [
       "<div>\n",
       "<style scoped>\n",
       "    .dataframe tbody tr th:only-of-type {\n",
       "        vertical-align: middle;\n",
       "    }\n",
       "\n",
       "    .dataframe tbody tr th {\n",
       "        vertical-align: top;\n",
       "    }\n",
       "\n",
       "    .dataframe thead th {\n",
       "        text-align: right;\n",
       "    }\n",
       "</style>\n",
       "<table border=\"1\" class=\"dataframe\">\n",
       "  <thead>\n",
       "    <tr style=\"text-align: right;\">\n",
       "      <th></th>\n",
       "      <th>Train Predictions</th>\n",
       "      <th>Actuals</th>\n",
       "    </tr>\n",
       "  </thead>\n",
       "  <tbody>\n",
       "    <tr>\n",
       "      <th>0</th>\n",
       "      <td>21.581003</td>\n",
       "      <td>20.904</td>\n",
       "    </tr>\n",
       "    <tr>\n",
       "      <th>1</th>\n",
       "      <td>20.650097</td>\n",
       "      <td>20.542</td>\n",
       "    </tr>\n",
       "    <tr>\n",
       "      <th>2</th>\n",
       "      <td>20.327770</td>\n",
       "      <td>22.148</td>\n",
       "    </tr>\n",
       "    <tr>\n",
       "      <th>3</th>\n",
       "      <td>22.411264</td>\n",
       "      <td>21.500</td>\n",
       "    </tr>\n",
       "    <tr>\n",
       "      <th>4</th>\n",
       "      <td>21.586809</td>\n",
       "      <td>20.544</td>\n",
       "    </tr>\n",
       "    <tr>\n",
       "      <th>...</th>\n",
       "      <td>...</td>\n",
       "      <td>...</td>\n",
       "    </tr>\n",
       "    <tr>\n",
       "      <th>408916</th>\n",
       "      <td>0.390581</td>\n",
       "      <td>0.692</td>\n",
       "    </tr>\n",
       "    <tr>\n",
       "      <th>408917</th>\n",
       "      <td>0.643924</td>\n",
       "      <td>0.920</td>\n",
       "    </tr>\n",
       "    <tr>\n",
       "      <th>408918</th>\n",
       "      <td>0.872260</td>\n",
       "      <td>0.969</td>\n",
       "    </tr>\n",
       "    <tr>\n",
       "      <th>408919</th>\n",
       "      <td>0.855173</td>\n",
       "      <td>1.040</td>\n",
       "    </tr>\n",
       "    <tr>\n",
       "      <th>408920</th>\n",
       "      <td>0.898341</td>\n",
       "      <td>1.460</td>\n",
       "    </tr>\n",
       "  </tbody>\n",
       "</table>\n",
       "<p>408921 rows × 2 columns</p>\n",
       "</div>"
      ],
      "text/plain": [
       "        Train Predictions  Actuals\n",
       "0               21.581003   20.904\n",
       "1               20.650097   20.542\n",
       "2               20.327770   22.148\n",
       "3               22.411264   21.500\n",
       "4               21.586809   20.544\n",
       "...                   ...      ...\n",
       "408916           0.390581    0.692\n",
       "408917           0.643924    0.920\n",
       "408918           0.872260    0.969\n",
       "408919           0.855173    1.040\n",
       "408920           0.898341    1.460\n",
       "\n",
       "[408921 rows x 2 columns]"
      ]
     },
     "execution_count": 15,
     "metadata": {},
     "output_type": "execute_result"
    }
   ],
   "source": [
    "train_predictions = model1.predict(X_train1).flatten()\n",
    "train_results = pd.DataFrame(data={'Train Predictions':train_predictions, 'Actuals':y_train1})\n",
    "train_results"
   ]
  },
  {
   "cell_type": "code",
   "execution_count": 16,
   "metadata": {},
   "outputs": [
    {
     "data": {
      "text/plain": [
       "[<matplotlib.lines.Line2D at 0x1af82b8b510>]"
      ]
     },
     "execution_count": 16,
     "metadata": {},
     "output_type": "execute_result"
    },
    {
     "data": {
      "image/png": "[encoded data removed]",
      "text/plain": [
       "<Figure size 640x480 with 1 Axes>"
      ]
     },
     "metadata": {},
     "output_type": "display_data"
    }
   ],
   "source": [
    "import matplotlib.pyplot as plt\n",
    "plt.plot(train_results['Train Predictions'][50:100])\n",
    "plt.plot(train_results['Actuals'][50:100])"
   ]
  },
  {
   "cell_type": "code",
   "execution_count": 17,
   "metadata": {},
   "outputs": [
    {
     "name": "stdout",
     "output_type": "stream",
     "text": [
      "2130/2130 [==============================] - 2s 930us/step\n"
     ]
    },
    {
     "data": {
      "text/html": [
       "<div>\n",
       "<style scoped>\n",
       "    .dataframe tbody tr th:only-of-type {\n",
       "        vertical-align: middle;\n",
       "    }\n",
       "\n",
       "    .dataframe tbody tr th {\n",
       "        vertical-align: top;\n",
       "    }\n",
       "\n",
       "    .dataframe thead th {\n",
       "        text-align: right;\n",
       "    }\n",
       "</style>\n",
       "<table border=\"1\" class=\"dataframe\">\n",
       "  <thead>\n",
       "    <tr style=\"text-align: right;\">\n",
       "      <th></th>\n",
       "      <th>Test Predictions</th>\n",
       "      <th>Actuals</th>\n",
       "    </tr>\n",
       "  </thead>\n",
       "  <tbody>\n",
       "    <tr>\n",
       "      <th>0</th>\n",
       "      <td>8.309370</td>\n",
       "      <td>11.238</td>\n",
       "    </tr>\n",
       "    <tr>\n",
       "      <th>1</th>\n",
       "      <td>12.076814</td>\n",
       "      <td>11.790</td>\n",
       "    </tr>\n",
       "    <tr>\n",
       "      <th>2</th>\n",
       "      <td>11.526076</td>\n",
       "      <td>13.346</td>\n",
       "    </tr>\n",
       "    <tr>\n",
       "      <th>3</th>\n",
       "      <td>13.365479</td>\n",
       "      <td>14.935</td>\n",
       "    </tr>\n",
       "    <tr>\n",
       "      <th>4</th>\n",
       "      <td>15.095508</td>\n",
       "      <td>15.643</td>\n",
       "    </tr>\n",
       "    <tr>\n",
       "      <th>...</th>\n",
       "      <td>...</td>\n",
       "      <td>...</td>\n",
       "    </tr>\n",
       "    <tr>\n",
       "      <th>68149</th>\n",
       "      <td>7.011014</td>\n",
       "      <td>8.213</td>\n",
       "    </tr>\n",
       "    <tr>\n",
       "      <th>68150</th>\n",
       "      <td>8.962414</td>\n",
       "      <td>11.690</td>\n",
       "    </tr>\n",
       "    <tr>\n",
       "      <th>68151</th>\n",
       "      <td>12.434262</td>\n",
       "      <td>12.810</td>\n",
       "    </tr>\n",
       "    <tr>\n",
       "      <th>68152</th>\n",
       "      <td>12.792117</td>\n",
       "      <td>12.274</td>\n",
       "    </tr>\n",
       "    <tr>\n",
       "      <th>68153</th>\n",
       "      <td>11.818120</td>\n",
       "      <td>10.100</td>\n",
       "    </tr>\n",
       "  </tbody>\n",
       "</table>\n",
       "<p>68154 rows × 2 columns</p>\n",
       "</div>"
      ],
      "text/plain": [
       "       Test Predictions  Actuals\n",
       "0              8.309370   11.238\n",
       "1             12.076814   11.790\n",
       "2             11.526076   13.346\n",
       "3             13.365479   14.935\n",
       "4             15.095508   15.643\n",
       "...                 ...      ...\n",
       "68149          7.011014    8.213\n",
       "68150          8.962414   11.690\n",
       "68151         12.434262   12.810\n",
       "68152         12.792117   12.274\n",
       "68153         11.818120   10.100\n",
       "\n",
       "[68154 rows x 2 columns]"
      ]
     },
     "execution_count": 17,
     "metadata": {},
     "output_type": "execute_result"
    }
   ],
   "source": [
    "test_predictions = model1.predict(X_test1).flatten()\n",
    "test_results = pd.DataFrame(data={'Test Predictions':test_predictions, 'Actuals':y_test1})\n",
    "test_results"
   ]
  },
  {
   "cell_type": "code",
   "execution_count": 18,
   "metadata": {},
   "outputs": [
    {
     "data": {
      "text/plain": [
       "[<matplotlib.lines.Line2D at 0x1af835e4f50>]"
      ]
     },
     "execution_count": 18,
     "metadata": {},
     "output_type": "execute_result"
    },
    {
     "data": {
      "image/png": "[encoded data removed]",
      "text/plain": [
       "<Figure size 640x480 with 1 Axes>"
      ]
     },
     "metadata": {},
     "output_type": "display_data"
    }
   ],
   "source": [
    "plt.plot(test_results['Test Predictions'][:100])\n",
    "plt.plot(test_results['Actuals'][:100])\n"
   ]
  },
  {
   "cell_type": "code",
   "execution_count": 19,
   "metadata": {},
   "outputs": [],
   "source": [
    "from sklearn.metrics import mean_squared_error as mse\n",
    "\n",
    "def plot_predictions1(model, X, y, start=0, end=100):\n",
    "  predictions = model.predict(X).flatten()\n",
    "  df = pd.DataFrame(data={'Predictions':predictions, 'Actuals':y})\n",
    "  plt.plot(df['Predictions'][start:end])\n",
    "  plt.plot(df['Actuals'][start:end])\n",
    "  return df, mse(y, predictions)"
   ]
  },
  {
   "cell_type": "code",
   "execution_count": 20,
   "metadata": {},
   "outputs": [
    {
     "name": "stdout",
     "output_type": "stream",
     "text": [
      "2130/2130 [==============================] - 2s 905us/step\n"
     ]
    },
    {
     "data": {
      "text/plain": [
       "(       Predictions  Actuals\n",
       " 0         8.309370   11.238\n",
       " 1        12.076814   11.790\n",
       " 2        11.526076   13.346\n",
       " 3        13.365479   14.935\n",
       " 4        15.095508   15.643\n",
       " ...            ...      ...\n",
       " 68149     7.011014    8.213\n",
       " 68150     8.962414   11.690\n",
       " 68151    12.434262   12.810\n",
       " 68152    12.792117   12.274\n",
       " 68153    11.818120   10.100\n",
       " \n",
       " [68154 rows x 2 columns],\n",
       " 3.12674006289459)"
      ]
     },
     "execution_count": 20,
     "metadata": {},
     "output_type": "execute_result"
    },
    {
     "data": {
      "image/png": "[encoded data removed]",
      "text/plain": [
       "<Figure size 640x480 with 1 Axes>"
      ]
     },
     "metadata": {},
     "output_type": "display_data"
    }
   ],
   "source": [
    "plot_predictions1(model1, X_test1, y_test1)"
   ]
  },
  {
   "cell_type": "code",
   "execution_count": 21,
   "metadata": {},
   "outputs": [
    {
     "name": "stdout",
     "output_type": "stream",
     "text": [
      "Model: \"sequential_1\"\n",
      "_________________________________________________________________\n",
      " Layer (type)                Output Shape              Param #   \n",
      "=================================================================\n",
      " conv1d (Conv1D)             (None, 4, 64)             192       \n",
      "                                                                 \n",
      " flatten (Flatten)           (None, 256)               0         \n",
      "                                                                 \n",
      " dense_2 (Dense)             (None, 8)                 2056      \n",
      "                                                                 \n",
      " dense_3 (Dense)             (None, 1)                 9         \n",
      "                                                                 \n",
      "=================================================================\n",
      "Total params: 2257 (8.82 KB)\n",
      "Trainable params: 2257 (8.82 KB)\n",
      "Non-trainable params: 0 (0.00 Byte)\n",
      "_________________________________________________________________\n"
     ]
    }
   ],
   "source": [
    "model2 = Sequential()\n",
    "model2.add(InputLayer((5, 1)))\n",
    "model2.add(Conv1D(64, kernel_size=2))\n",
    "model2.add(Flatten())\n",
    "model2.add(Dense(8, 'relu'))\n",
    "model2.add(Dense(1, 'linear'))\n",
    "\n",
    "model2.summary()"
   ]
  },
  {
   "cell_type": "code",
   "execution_count": 22,
   "metadata": {},
   "outputs": [],
   "source": [
    "cp2 = ModelCheckpoint('model2/', save_best_only=True)\n",
    "model2.compile(loss=MeanSquaredError(), optimizer=Adam(learning_rate=0.0001), metrics=[RootMeanSquaredError()])"
   ]
  },
  {
   "cell_type": "code",
   "execution_count": 23,
   "metadata": {},
   "outputs": [
    {
     "name": "stdout",
     "output_type": "stream",
     "text": [
      "Epoch 1/10\n",
      "12771/12779 [============================>.] - ETA: 0s - loss: 3.0369 - root_mean_squared_error: 1.7427INFO:tensorflow:Assets written to: model2\\assets\n"
     ]
    },
    {
     "name": "stderr",
     "output_type": "stream",
     "text": [
      "INFO:tensorflow:Assets written to: model2\\assets\n"
     ]
    },
    {
     "name": "stdout",
     "output_type": "stream",
     "text": [
      "12779/12779 [==============================] - 12s 930us/step - loss: 3.0358 - root_mean_squared_error: 1.7424 - val_loss: 3.2675 - val_root_mean_squared_error: 1.8076\n",
      "Epoch 2/10\n",
      "12731/12779 [============================>.] - ETA: 0s - loss: 2.4774 - root_mean_squared_error: 1.5740INFO:tensorflow:Assets written to: model2\\assets\n"
     ]
    },
    {
     "name": "stderr",
     "output_type": "stream",
     "text": [
      "INFO:tensorflow:Assets written to: model2\\assets\n"
     ]
    },
    {
     "name": "stdout",
     "output_type": "stream",
     "text": [
      "12779/12779 [==============================] - 12s 926us/step - loss: 2.4791 - root_mean_squared_error: 1.5745 - val_loss: 3.1209 - val_root_mean_squared_error: 1.7666\n",
      "Epoch 3/10\n",
      "12718/12779 [============================>.] - ETA: 0s - loss: 2.4095 - root_mean_squared_error: 1.5523INFO:tensorflow:Assets written to: model2\\assets\n"
     ]
    },
    {
     "name": "stderr",
     "output_type": "stream",
     "text": [
      "INFO:tensorflow:Assets written to: model2\\assets\n"
     ]
    },
    {
     "name": "stdout",
     "output_type": "stream",
     "text": [
      "12779/12779 [==============================] - 12s 923us/step - loss: 2.4104 - root_mean_squared_error: 1.5526 - val_loss: 3.1052 - val_root_mean_squared_error: 1.7622\n",
      "Epoch 4/10\n",
      "12761/12779 [============================>.] - ETA: 0s - loss: 2.3788 - root_mean_squared_error: 1.5423INFO:tensorflow:Assets written to: model2\\assets\n"
     ]
    },
    {
     "name": "stderr",
     "output_type": "stream",
     "text": [
      "INFO:tensorflow:Assets written to: model2\\assets\n"
     ]
    },
    {
     "name": "stdout",
     "output_type": "stream",
     "text": [
      "12779/12779 [==============================] - 12s 933us/step - loss: 2.3785 - root_mean_squared_error: 1.5422 - val_loss: 3.0371 - val_root_mean_squared_error: 1.7427\n",
      "Epoch 5/10\n",
      "12779/12779 [==============================] - ETA: 0s - loss: 2.3508 - root_mean_squared_error: 1.5332INFO:tensorflow:Assets written to: model2\\assets\n"
     ]
    },
    {
     "name": "stderr",
     "output_type": "stream",
     "text": [
      "INFO:tensorflow:Assets written to: model2\\assets\n"
     ]
    },
    {
     "name": "stdout",
     "output_type": "stream",
     "text": [
      "12779/12779 [==============================] - 12s 932us/step - loss: 2.3508 - root_mean_squared_error: 1.5332 - val_loss: 3.0046 - val_root_mean_squared_error: 1.7334\n",
      "Epoch 6/10\n",
      "12775/12779 [============================>.] - ETA: 0s - loss: 2.3330 - root_mean_squared_error: 1.5274INFO:tensorflow:Assets written to: model2\\assets\n"
     ]
    },
    {
     "name": "stderr",
     "output_type": "stream",
     "text": [
      "INFO:tensorflow:Assets written to: model2\\assets\n"
     ]
    },
    {
     "name": "stdout",
     "output_type": "stream",
     "text": [
      "12779/12779 [==============================] - 12s 931us/step - loss: 2.3329 - root_mean_squared_error: 1.5274 - val_loss: 3.0043 - val_root_mean_squared_error: 1.7333\n",
      "Epoch 7/10\n",
      "12759/12779 [============================>.] - ETA: 0s - loss: 2.3213 - root_mean_squared_error: 1.5236INFO:tensorflow:Assets written to: model2\\assets\n"
     ]
    },
    {
     "name": "stderr",
     "output_type": "stream",
     "text": [
      "INFO:tensorflow:Assets written to: model2\\assets\n"
     ]
    },
    {
     "name": "stdout",
     "output_type": "stream",
     "text": [
      "12779/12779 [==============================] - 12s 925us/step - loss: 2.3206 - root_mean_squared_error: 1.5234 - val_loss: 2.9934 - val_root_mean_squared_error: 1.7301\n",
      "Epoch 8/10\n",
      "12779/12779 [==============================] - 11s 895us/step - loss: 2.3121 - root_mean_squared_error: 1.5206 - val_loss: 3.0381 - val_root_mean_squared_error: 1.7430\n",
      "Epoch 9/10\n",
      "12779/12779 [==============================] - 12s 922us/step - loss: 2.3057 - root_mean_squared_error: 1.5185 - val_loss: 3.0159 - val_root_mean_squared_error: 1.7366\n",
      "Epoch 10/10\n",
      "12779/12779 [==============================] - 13s 1ms/step - loss: 2.3008 - root_mean_squared_error: 1.5169 - val_loss: 3.0247 - val_root_mean_squared_error: 1.7392\n"
     ]
    },
    {
     "data": {
      "text/plain": [
       "<keras.src.callbacks.History at 0x1af86656290>"
      ]
     },
     "execution_count": 23,
     "metadata": {},
     "output_type": "execute_result"
    }
   ],
   "source": [
    "model2.fit(X_train1, y_train1, validation_data=(X_val1, y_val1), epochs=10, callbacks=[cp2])"
   ]
  },
  {
   "cell_type": "code",
   "execution_count": 24,
   "metadata": {},
   "outputs": [
    {
     "name": "stdout",
     "output_type": "stream",
     "text": [
      "2130/2130 [==============================] - 1s 535us/step\n"
     ]
    },
    {
     "data": {
      "text/plain": [
       "(       Predictions  Actuals\n",
       " 0         8.051351   11.238\n",
       " 1        11.420586   11.790\n",
       " 2        12.118770   13.346\n",
       " 3        13.721169   14.935\n",
       " 4        15.384558   15.643\n",
       " ...            ...      ...\n",
       " 68149     7.252281    8.213\n",
       " 68150     8.932351   11.690\n",
       " 68151    11.936231   12.810\n",
       " 68152    13.233301   12.274\n",
       " 68153    12.482264   10.100\n",
       " \n",
       " [68154 rows x 2 columns],\n",
       " 3.1403398124904167)"
      ]
     },
     "execution_count": 24,
     "metadata": {},
     "output_type": "execute_result"
    },
    {
     "data": {
      "image/png": "[encoded data removed]",
      "text/plain": [
       "<Figure size 640x480 with 1 Axes>"
      ]
     },
     "metadata": {},
     "output_type": "display_data"
    }
   ],
   "source": [
    "plot_predictions1(model2, X_test1, y_test1)"
   ]
  },
  {
   "cell_type": "code",
   "execution_count": 25,
   "metadata": {},
   "outputs": [
    {
     "name": "stdout",
     "output_type": "stream",
     "text": [
      "Model: \"sequential_2\"\n",
      "_________________________________________________________________\n",
      " Layer (type)                Output Shape              Param #   \n",
      "=================================================================\n",
      " gru (GRU)                   (None, 64)                12864     \n",
      "                                                                 \n",
      " dense_4 (Dense)             (None, 8)                 520       \n",
      "                                                                 \n",
      " dense_5 (Dense)             (None, 1)                 9         \n",
      "                                                                 \n",
      "=================================================================\n",
      "Total params: 13393 (52.32 KB)\n",
      "Trainable params: 13393 (52.32 KB)\n",
      "Non-trainable params: 0 (0.00 Byte)\n",
      "_________________________________________________________________\n"
     ]
    }
   ],
   "source": [
    "model3 = Sequential()\n",
    "model3.add(InputLayer((5, 1)))\n",
    "model3.add(GRU(64))\n",
    "model3.add(Dense(8, 'relu'))\n",
    "model3.add(Dense(1, 'linear'))\n",
    "model3.summary()"
   ]
  },
  {
   "cell_type": "code",
   "execution_count": 26,
   "metadata": {},
   "outputs": [],
   "source": [
    "cp3 = ModelCheckpoint('model3/', save_best_only=True)\n",
    "model3.compile(loss=MeanSquaredError(), optimizer=Adam(learning_rate=0.0001), metrics=[RootMeanSquaredError()])"
   ]
  },
  {
   "cell_type": "code",
   "execution_count": 27,
   "metadata": {},
   "outputs": [
    {
     "name": "stdout",
     "output_type": "stream",
     "text": [
      "Epoch 1/10\n",
      "12758/12779 [============================>.] - ETA: 0s - loss: 28.2786 - root_mean_squared_error: 5.3178INFO:tensorflow:Assets written to: model3\\assets\n"
     ]
    },
    {
     "name": "stderr",
     "output_type": "stream",
     "text": [
      "INFO:tensorflow:Assets written to: model3\\assets\n"
     ]
    },
    {
     "name": "stdout",
     "output_type": "stream",
     "text": [
      "12779/12779 [==============================] - 28s 2ms/step - loss: 28.2360 - root_mean_squared_error: 5.3138 - val_loss: 3.0873 - val_root_mean_squared_error: 1.7571\n",
      "Epoch 2/10\n",
      "12761/12779 [============================>.] - ETA: 0s - loss: 2.3368 - root_mean_squared_error: 1.5287INFO:tensorflow:Assets written to: model3\\assets\n"
     ]
    },
    {
     "name": "stderr",
     "output_type": "stream",
     "text": [
      "INFO:tensorflow:Assets written to: model3\\assets\n"
     ]
    },
    {
     "name": "stdout",
     "output_type": "stream",
     "text": [
      "12779/12779 [==============================] - 27s 2ms/step - loss: 2.3366 - root_mean_squared_error: 1.5286 - val_loss: 3.0250 - val_root_mean_squared_error: 1.7392\n",
      "Epoch 3/10\n",
      "12766/12779 [============================>.] - ETA: 0s - loss: 2.3021 - root_mean_squared_error: 1.5173INFO:tensorflow:Assets written to: model3\\assets\n"
     ]
    },
    {
     "name": "stderr",
     "output_type": "stream",
     "text": [
      "INFO:tensorflow:Assets written to: model3\\assets\n"
     ]
    },
    {
     "name": "stdout",
     "output_type": "stream",
     "text": [
      "12779/12779 [==============================] - 26s 2ms/step - loss: 2.3022 - root_mean_squared_error: 1.5173 - val_loss: 3.0182 - val_root_mean_squared_error: 1.7373\n",
      "Epoch 4/10\n",
      "12779/12779 [==============================] - 25s 2ms/step - loss: 2.2903 - root_mean_squared_error: 1.5134 - val_loss: 3.0374 - val_root_mean_squared_error: 1.7428\n",
      "Epoch 5/10\n",
      "12779/12779 [==============================] - 24s 2ms/step - loss: 2.2822 - root_mean_squared_error: 1.5107 - val_loss: 3.0298 - val_root_mean_squared_error: 1.7406\n",
      "Epoch 6/10\n",
      "12777/12779 [============================>.] - ETA: 0s - loss: 2.2762 - root_mean_squared_error: 1.5087INFO:tensorflow:Assets written to: model3\\assets\n"
     ]
    },
    {
     "name": "stderr",
     "output_type": "stream",
     "text": [
      "INFO:tensorflow:Assets written to: model3\\assets\n"
     ]
    },
    {
     "name": "stdout",
     "output_type": "stream",
     "text": [
      "12779/12779 [==============================] - 26s 2ms/step - loss: 2.2762 - root_mean_squared_error: 1.5087 - val_loss: 3.0174 - val_root_mean_squared_error: 1.7371\n",
      "Epoch 7/10\n",
      "12751/12779 [============================>.] - ETA: 0s - loss: 2.2706 - root_mean_squared_error: 1.5069INFO:tensorflow:Assets written to: model3\\assets\n"
     ]
    },
    {
     "name": "stderr",
     "output_type": "stream",
     "text": [
      "INFO:tensorflow:Assets written to: model3\\assets\n"
     ]
    },
    {
     "name": "stdout",
     "output_type": "stream",
     "text": [
      "12779/12779 [==============================] - 26s 2ms/step - loss: 2.2715 - root_mean_squared_error: 1.5072 - val_loss: 3.0124 - val_root_mean_squared_error: 1.7356\n",
      "Epoch 8/10\n",
      "12777/12779 [============================>.] - ETA: 0s - loss: 2.2663 - root_mean_squared_error: 1.5054INFO:tensorflow:Assets written to: model3\\assets\n"
     ]
    },
    {
     "name": "stderr",
     "output_type": "stream",
     "text": [
      "INFO:tensorflow:Assets written to: model3\\assets\n"
     ]
    },
    {
     "name": "stdout",
     "output_type": "stream",
     "text": [
      "12779/12779 [==============================] - 26s 2ms/step - loss: 2.2663 - root_mean_squared_error: 1.5054 - val_loss: 3.0095 - val_root_mean_squared_error: 1.7348\n",
      "Epoch 9/10\n",
      "12757/12779 [============================>.] - ETA: 0s - loss: 2.2610 - root_mean_squared_error: 1.5037INFO:tensorflow:Assets written to: model3\\assets\n"
     ]
    },
    {
     "name": "stderr",
     "output_type": "stream",
     "text": [
      "INFO:tensorflow:Assets written to: model3\\assets\n"
     ]
    },
    {
     "name": "stdout",
     "output_type": "stream",
     "text": [
      "12779/12779 [==============================] - 26s 2ms/step - loss: 2.2623 - root_mean_squared_error: 1.5041 - val_loss: 2.9865 - val_root_mean_squared_error: 1.7282\n",
      "Epoch 10/10\n",
      "12779/12779 [==============================] - 24s 2ms/step - loss: 2.2594 - root_mean_squared_error: 1.5031 - val_loss: 2.9966 - val_root_mean_squared_error: 1.7311\n"
     ]
    },
    {
     "data": {
      "text/plain": [
       "<keras.src.callbacks.History at 0x1afefec4590>"
      ]
     },
     "execution_count": 27,
     "metadata": {},
     "output_type": "execute_result"
    }
   ],
   "source": [
    "model3.fit(X_train1, y_train1, validation_data=(X_val1, y_val1), epochs=10, callbacks=[cp3])"
   ]
  },
  {
   "cell_type": "code",
   "execution_count": 51,
   "metadata": {},
   "outputs": [
    {
     "data": {
      "text/html": [
       "<div>\n",
       "<style scoped>\n",
       "    .dataframe tbody tr th:only-of-type {\n",
       "        vertical-align: middle;\n",
       "    }\n",
       "\n",
       "    .dataframe tbody tr th {\n",
       "        vertical-align: top;\n",
       "    }\n",
       "\n",
       "    .dataframe thead th {\n",
       "        text-align: right;\n",
       "    }\n",
       "</style>\n",
       "<table border=\"1\" class=\"dataframe\">\n",
       "  <thead>\n",
       "    <tr style=\"text-align: right;\">\n",
       "      <th></th>\n",
       "      <th>Unnamed: 0</th>\n",
       "      <th>float_number</th>\n",
       "      <th>date</th>\n",
       "      <th>latitude</th>\n",
       "      <th>longitude</th>\n",
       "      <th>q0_psal</th>\n",
       "      <th>q1_psal</th>\n",
       "      <th>q2_psal</th>\n",
       "      <th>q3_psal</th>\n",
       "      <th>q4_psal</th>\n",
       "      <th>q0_temp</th>\n",
       "      <th>q1_temp</th>\n",
       "      <th>q2_temp</th>\n",
       "      <th>q3_temp</th>\n",
       "      <th>q4_temp</th>\n",
       "      <th>distance</th>\n",
       "    </tr>\n",
       "  </thead>\n",
       "  <tbody>\n",
       "    <tr>\n",
       "      <th>0</th>\n",
       "      <td>527182</td>\n",
       "      <td>29034</td>\n",
       "      <td>2000-11-09</td>\n",
       "      <td>29.541</td>\n",
       "      <td>144.013</td>\n",
       "      <td>34.637</td>\n",
       "      <td>34.545</td>\n",
       "      <td>34.216</td>\n",
       "      <td>34.472</td>\n",
       "      <td>34.585</td>\n",
       "      <td>26.977</td>\n",
       "      <td>14.051</td>\n",
       "      <td>4.273</td>\n",
       "      <td>2.675</td>\n",
       "      <td>2.040</td>\n",
       "      <td>0.0</td>\n",
       "    </tr>\n",
       "    <tr>\n",
       "      <th>1</th>\n",
       "      <td>527183</td>\n",
       "      <td>29034</td>\n",
       "      <td>2000-12-09</td>\n",
       "      <td>28.980</td>\n",
       "      <td>143.237</td>\n",
       "      <td>34.718</td>\n",
       "      <td>34.475</td>\n",
       "      <td>34.270</td>\n",
       "      <td>34.473</td>\n",
       "      <td>34.583</td>\n",
       "      <td>24.441</td>\n",
       "      <td>13.197</td>\n",
       "      <td>4.491</td>\n",
       "      <td>2.730</td>\n",
       "      <td>2.038</td>\n",
       "      <td>0.0</td>\n",
       "    </tr>\n",
       "    <tr>\n",
       "      <th>2</th>\n",
       "      <td>527184</td>\n",
       "      <td>29034</td>\n",
       "      <td>2000-12-19</td>\n",
       "      <td>28.880</td>\n",
       "      <td>143.215</td>\n",
       "      <td>34.658</td>\n",
       "      <td>34.522</td>\n",
       "      <td>34.257</td>\n",
       "      <td>34.485</td>\n",
       "      <td>34.591</td>\n",
       "      <td>23.377</td>\n",
       "      <td>13.794</td>\n",
       "      <td>4.709</td>\n",
       "      <td>2.609</td>\n",
       "      <td>2.005</td>\n",
       "      <td>0.0</td>\n",
       "    </tr>\n",
       "    <tr>\n",
       "      <th>3</th>\n",
       "      <td>527185</td>\n",
       "      <td>29034</td>\n",
       "      <td>2000-12-29</td>\n",
       "      <td>28.709</td>\n",
       "      <td>143.096</td>\n",
       "      <td>34.685</td>\n",
       "      <td>34.502</td>\n",
       "      <td>34.293</td>\n",
       "      <td>34.487</td>\n",
       "      <td>34.590</td>\n",
       "      <td>22.036</td>\n",
       "      <td>13.525</td>\n",
       "      <td>4.520</td>\n",
       "      <td>2.637</td>\n",
       "      <td>2.029</td>\n",
       "      <td>0.0</td>\n",
       "    </tr>\n",
       "    <tr>\n",
       "      <th>4</th>\n",
       "      <td>527186</td>\n",
       "      <td>29034</td>\n",
       "      <td>2001-01-08</td>\n",
       "      <td>28.504</td>\n",
       "      <td>143.012</td>\n",
       "      <td>34.762</td>\n",
       "      <td>34.447</td>\n",
       "      <td>34.296</td>\n",
       "      <td>34.493</td>\n",
       "      <td>34.596</td>\n",
       "      <td>21.855</td>\n",
       "      <td>12.802</td>\n",
       "      <td>4.298</td>\n",
       "      <td>2.591</td>\n",
       "      <td>1.986</td>\n",
       "      <td>0.0</td>\n",
       "    </tr>\n",
       "    <tr>\n",
       "      <th>...</th>\n",
       "      <td>...</td>\n",
       "      <td>...</td>\n",
       "      <td>...</td>\n",
       "      <td>...</td>\n",
       "      <td>...</td>\n",
       "      <td>...</td>\n",
       "      <td>...</td>\n",
       "      <td>...</td>\n",
       "      <td>...</td>\n",
       "      <td>...</td>\n",
       "      <td>...</td>\n",
       "      <td>...</td>\n",
       "      <td>...</td>\n",
       "      <td>...</td>\n",
       "      <td>...</td>\n",
       "      <td>...</td>\n",
       "    </tr>\n",
       "    <tr>\n",
       "      <th>681535</th>\n",
       "      <td>420272</td>\n",
       "      <td>4900946</td>\n",
       "      <td>2013-06-09</td>\n",
       "      <td>45.865</td>\n",
       "      <td>-175.566</td>\n",
       "      <td>33.165</td>\n",
       "      <td>34.102</td>\n",
       "      <td>34.367</td>\n",
       "      <td>34.501</td>\n",
       "      <td>34.578</td>\n",
       "      <td>8.213</td>\n",
       "      <td>3.900</td>\n",
       "      <td>2.868</td>\n",
       "      <td>2.289</td>\n",
       "      <td>1.942</td>\n",
       "      <td>inf</td>\n",
       "    </tr>\n",
       "    <tr>\n",
       "      <th>681536</th>\n",
       "      <td>420273</td>\n",
       "      <td>4900946</td>\n",
       "      <td>2013-07-19</td>\n",
       "      <td>46.202</td>\n",
       "      <td>-175.465</td>\n",
       "      <td>32.923</td>\n",
       "      <td>34.073</td>\n",
       "      <td>34.375</td>\n",
       "      <td>34.498</td>\n",
       "      <td>34.573</td>\n",
       "      <td>11.690</td>\n",
       "      <td>3.750</td>\n",
       "      <td>2.887</td>\n",
       "      <td>2.312</td>\n",
       "      <td>1.961</td>\n",
       "      <td>inf</td>\n",
       "    </tr>\n",
       "    <tr>\n",
       "      <th>681537</th>\n",
       "      <td>420274</td>\n",
       "      <td>4900946</td>\n",
       "      <td>2013-08-08</td>\n",
       "      <td>46.298</td>\n",
       "      <td>-175.172</td>\n",
       "      <td>32.876</td>\n",
       "      <td>34.086</td>\n",
       "      <td>34.367</td>\n",
       "      <td>34.499</td>\n",
       "      <td>34.575</td>\n",
       "      <td>12.810</td>\n",
       "      <td>3.766</td>\n",
       "      <td>2.874</td>\n",
       "      <td>2.306</td>\n",
       "      <td>1.956</td>\n",
       "      <td>inf</td>\n",
       "    </tr>\n",
       "    <tr>\n",
       "      <th>681538</th>\n",
       "      <td>420275</td>\n",
       "      <td>4900946</td>\n",
       "      <td>2013-09-17</td>\n",
       "      <td>46.102</td>\n",
       "      <td>-173.380</td>\n",
       "      <td>32.888</td>\n",
       "      <td>34.059</td>\n",
       "      <td>34.369</td>\n",
       "      <td>34.496</td>\n",
       "      <td>34.578</td>\n",
       "      <td>12.274</td>\n",
       "      <td>3.831</td>\n",
       "      <td>2.914</td>\n",
       "      <td>2.320</td>\n",
       "      <td>1.946</td>\n",
       "      <td>inf</td>\n",
       "    </tr>\n",
       "    <tr>\n",
       "      <th>681539</th>\n",
       "      <td>420276</td>\n",
       "      <td>4900946</td>\n",
       "      <td>2013-10-27</td>\n",
       "      <td>45.997</td>\n",
       "      <td>-171.759</td>\n",
       "      <td>32.789</td>\n",
       "      <td>34.082</td>\n",
       "      <td>34.355</td>\n",
       "      <td>34.496</td>\n",
       "      <td>34.572</td>\n",
       "      <td>10.100</td>\n",
       "      <td>3.853</td>\n",
       "      <td>2.935</td>\n",
       "      <td>2.329</td>\n",
       "      <td>1.976</td>\n",
       "      <td>inf</td>\n",
       "    </tr>\n",
       "  </tbody>\n",
       "</table>\n",
       "<p>681540 rows × 16 columns</p>\n",
       "</div>"
      ],
      "text/plain": [
       "        Unnamed: 0  float_number        date  latitude  longitude  q0_psal  \\\n",
       "0           527182         29034  2000-11-09    29.541    144.013   34.637   \n",
       "1           527183         29034  2000-12-09    28.980    143.237   34.718   \n",
       "2           527184         29034  2000-12-19    28.880    143.215   34.658   \n",
       "3           527185         29034  2000-12-29    28.709    143.096   34.685   \n",
       "4           527186         29034  2001-01-08    28.504    143.012   34.762   \n",
       "...            ...           ...         ...       ...        ...      ...   \n",
       "681535      420272       4900946  2013-06-09    45.865   -175.566   33.165   \n",
       "681536      420273       4900946  2013-07-19    46.202   -175.465   32.923   \n",
       "681537      420274       4900946  2013-08-08    46.298   -175.172   32.876   \n",
       "681538      420275       4900946  2013-09-17    46.102   -173.380   32.888   \n",
       "681539      420276       4900946  2013-10-27    45.997   -171.759   32.789   \n",
       "\n",
       "        q1_psal  q2_psal  q3_psal  q4_psal  q0_temp  q1_temp  q2_temp  \\\n",
       "0        34.545   34.216   34.472   34.585   26.977   14.051    4.273   \n",
       "1        34.475   34.270   34.473   34.583   24.441   13.197    4.491   \n",
       "2        34.522   34.257   34.485   34.591   23.377   13.794    4.709   \n",
       "3        34.502   34.293   34.487   34.590   22.036   13.525    4.520   \n",
       "4        34.447   34.296   34.493   34.596   21.855   12.802    4.298   \n",
       "...         ...      ...      ...      ...      ...      ...      ...   \n",
       "681535   34.102   34.367   34.501   34.578    8.213    3.900    2.868   \n",
       "681536   34.073   34.375   34.498   34.573   11.690    3.750    2.887   \n",
       "681537   34.086   34.367   34.499   34.575   12.810    3.766    2.874   \n",
       "681538   34.059   34.369   34.496   34.578   12.274    3.831    2.914   \n",
       "681539   34.082   34.355   34.496   34.572   10.100    3.853    2.935   \n",
       "\n",
       "        q3_temp  q4_temp  distance  \n",
       "0         2.675    2.040       0.0  \n",
       "1         2.730    2.038       0.0  \n",
       "2         2.609    2.005       0.0  \n",
       "3         2.637    2.029       0.0  \n",
       "4         2.591    1.986       0.0  \n",
       "...         ...      ...       ...  \n",
       "681535    2.289    1.942       inf  \n",
       "681536    2.312    1.961       inf  \n",
       "681537    2.306    1.956       inf  \n",
       "681538    2.320    1.946       inf  \n",
       "681539    2.329    1.976       inf  \n",
       "\n",
       "[681540 rows x 16 columns]"
      ]
     },
     "execution_count": 51,
     "metadata": {},
     "output_type": "execute_result"
    }
   ],
   "source": [
    "df"
   ]
  },
  {
   "cell_type": "code",
   "execution_count": 34,
   "metadata": {},
   "outputs": [],
   "source": [
    "temp_df = df.drop(['Unnamed: 0','float_number','date','distance'], axis=1)"
   ]
  },
  {
   "cell_type": "code",
   "execution_count": 45,
   "metadata": {},
   "outputs": [],
   "source": [
    "from sklearn.preprocessing import StandardScaler\n",
    "\n",
    "scaler = StandardScaler()\n",
    "\n",
    "# Fit and transform the data to standardize it\n",
    "# This returns a NumPy array, so we need to convert it back to a DataFrame\n",
    "scaled_data = scaler.fit_transform(temp_df)\n",
    "temp_df = pd.DataFrame(scaled_data, columns=temp_df.columns)"
   ]
  },
  {
   "cell_type": "code",
   "execution_count": 46,
   "metadata": {},
   "outputs": [
    {
     "data": {
      "text/html": [
       "<div>\n",
       "<style scoped>\n",
       "    .dataframe tbody tr th:only-of-type {\n",
       "        vertical-align: middle;\n",
       "    }\n",
       "\n",
       "    .dataframe tbody tr th {\n",
       "        vertical-align: top;\n",
       "    }\n",
       "\n",
       "    .dataframe thead th {\n",
       "        text-align: right;\n",
       "    }\n",
       "</style>\n",
       "<table border=\"1\" class=\"dataframe\">\n",
       "  <thead>\n",
       "    <tr style=\"text-align: right;\">\n",
       "      <th></th>\n",
       "      <th>latitude</th>\n",
       "      <th>longitude</th>\n",
       "      <th>q0_psal</th>\n",
       "      <th>q1_psal</th>\n",
       "      <th>q2_psal</th>\n",
       "      <th>q3_psal</th>\n",
       "      <th>q4_psal</th>\n",
       "      <th>q0_temp</th>\n",
       "      <th>q1_temp</th>\n",
       "      <th>q2_temp</th>\n",
       "      <th>q3_temp</th>\n",
       "      <th>q4_temp</th>\n",
       "    </tr>\n",
       "  </thead>\n",
       "  <tbody>\n",
       "    <tr>\n",
       "      <th>5</th>\n",
       "      <td>0.842076</td>\n",
       "      <td>1.307523</td>\n",
       "      <td>-0.066148</td>\n",
       "      <td>-0.304975</td>\n",
       "      <td>-0.674370</td>\n",
       "      <td>-0.506843</td>\n",
       "      <td>-0.392429</td>\n",
       "      <td>0.181467</td>\n",
       "      <td>1.598397</td>\n",
       "      <td>-0.099503</td>\n",
       "      <td>-0.368114</td>\n",
       "      <td>-0.370807</td>\n",
       "    </tr>\n",
       "    <tr>\n",
       "      <th>6</th>\n",
       "      <td>0.839785</td>\n",
       "      <td>1.306220</td>\n",
       "      <td>-0.101624</td>\n",
       "      <td>-0.345058</td>\n",
       "      <td>-0.630919</td>\n",
       "      <td>-0.460181</td>\n",
       "      <td>-0.401881</td>\n",
       "      <td>0.141075</td>\n",
       "      <td>1.508984</td>\n",
       "      <td>-0.260530</td>\n",
       "      <td>-0.446896</td>\n",
       "      <td>-0.350012</td>\n",
       "    </tr>\n",
       "    <tr>\n",
       "      <th>7</th>\n",
       "      <td>0.843880</td>\n",
       "      <td>1.307862</td>\n",
       "      <td>0.043827</td>\n",
       "      <td>-0.388348</td>\n",
       "      <td>-0.773123</td>\n",
       "      <td>-0.535730</td>\n",
       "      <td>-0.418421</td>\n",
       "      <td>0.320276</td>\n",
       "      <td>1.509593</td>\n",
       "      <td>-0.210273</td>\n",
       "      <td>-0.318093</td>\n",
       "      <td>-0.346113</td>\n",
       "    </tr>\n",
       "    <tr>\n",
       "      <th>8</th>\n",
       "      <td>0.848662</td>\n",
       "      <td>1.304596</td>\n",
       "      <td>0.049148</td>\n",
       "      <td>-0.253668</td>\n",
       "      <td>-0.830400</td>\n",
       "      <td>-0.511288</td>\n",
       "      <td>-0.397155</td>\n",
       "      <td>0.247970</td>\n",
       "      <td>1.870587</td>\n",
       "      <td>-0.123093</td>\n",
       "      <td>-0.355609</td>\n",
       "      <td>-0.383804</td>\n",
       "    </tr>\n",
       "    <tr>\n",
       "      <th>9</th>\n",
       "      <td>0.849636</td>\n",
       "      <td>1.301739</td>\n",
       "      <td>0.004804</td>\n",
       "      <td>-0.314595</td>\n",
       "      <td>-0.769173</td>\n",
       "      <td>-0.537952</td>\n",
       "      <td>-0.392429</td>\n",
       "      <td>0.141298</td>\n",
       "      <td>1.687201</td>\n",
       "      <td>-0.209760</td>\n",
       "      <td>-0.321845</td>\n",
       "      <td>-0.394852</td>\n",
       "    </tr>\n",
       "    <tr>\n",
       "      <th>...</th>\n",
       "      <td>...</td>\n",
       "      <td>...</td>\n",
       "      <td>...</td>\n",
       "      <td>...</td>\n",
       "      <td>...</td>\n",
       "      <td>...</td>\n",
       "      <td>...</td>\n",
       "      <td>...</td>\n",
       "      <td>...</td>\n",
       "      <td>...</td>\n",
       "      <td>...</td>\n",
       "      <td>...</td>\n",
       "    </tr>\n",
       "    <tr>\n",
       "      <th>681535</th>\n",
       "      <td>1.344444</td>\n",
       "      <td>-1.455963</td>\n",
       "      <td>-1.517995</td>\n",
       "      <td>-0.909435</td>\n",
       "      <td>-0.500565</td>\n",
       "      <td>-0.475735</td>\n",
       "      <td>-0.434962</td>\n",
       "      <td>-1.234621</td>\n",
       "      <td>-1.202580</td>\n",
       "      <td>-0.836947</td>\n",
       "      <td>-0.585077</td>\n",
       "      <td>-0.388353</td>\n",
       "    </tr>\n",
       "    <tr>\n",
       "      <th>681536</th>\n",
       "      <td>1.354094</td>\n",
       "      <td>-1.455086</td>\n",
       "      <td>-1.732623</td>\n",
       "      <td>-0.955932</td>\n",
       "      <td>-0.484764</td>\n",
       "      <td>-0.482401</td>\n",
       "      <td>-0.446777</td>\n",
       "      <td>-0.846650</td>\n",
       "      <td>-1.248199</td>\n",
       "      <td>-0.827203</td>\n",
       "      <td>-0.570696</td>\n",
       "      <td>-0.376006</td>\n",
       "    </tr>\n",
       "    <tr>\n",
       "      <th>681537</th>\n",
       "      <td>1.356843</td>\n",
       "      <td>-1.452541</td>\n",
       "      <td>-1.774307</td>\n",
       "      <td>-0.935089</td>\n",
       "      <td>-0.500565</td>\n",
       "      <td>-0.480179</td>\n",
       "      <td>-0.442051</td>\n",
       "      <td>-0.721678</td>\n",
       "      <td>-1.243333</td>\n",
       "      <td>-0.833870</td>\n",
       "      <td>-0.574448</td>\n",
       "      <td>-0.379255</td>\n",
       "    </tr>\n",
       "    <tr>\n",
       "      <th>681538</th>\n",
       "      <td>1.351230</td>\n",
       "      <td>-1.436978</td>\n",
       "      <td>-1.763665</td>\n",
       "      <td>-0.978379</td>\n",
       "      <td>-0.496614</td>\n",
       "      <td>-0.486845</td>\n",
       "      <td>-0.434962</td>\n",
       "      <td>-0.781486</td>\n",
       "      <td>-1.223565</td>\n",
       "      <td>-0.813357</td>\n",
       "      <td>-0.565694</td>\n",
       "      <td>-0.385754</td>\n",
       "    </tr>\n",
       "    <tr>\n",
       "      <th>681539</th>\n",
       "      <td>1.348224</td>\n",
       "      <td>-1.422901</td>\n",
       "      <td>-1.851467</td>\n",
       "      <td>-0.941502</td>\n",
       "      <td>-0.524265</td>\n",
       "      <td>-0.486845</td>\n",
       "      <td>-0.449139</td>\n",
       "      <td>-1.024066</td>\n",
       "      <td>-1.216874</td>\n",
       "      <td>-0.802588</td>\n",
       "      <td>-0.560067</td>\n",
       "      <td>-0.366258</td>\n",
       "    </tr>\n",
       "  </tbody>\n",
       "</table>\n",
       "<p>681535 rows × 12 columns</p>\n",
       "</div>"
      ],
      "text/plain": [
       "        latitude  longitude   q0_psal   q1_psal   q2_psal   q3_psal   q4_psal  \\\n",
       "5       0.842076   1.307523 -0.066148 -0.304975 -0.674370 -0.506843 -0.392429   \n",
       "6       0.839785   1.306220 -0.101624 -0.345058 -0.630919 -0.460181 -0.401881   \n",
       "7       0.843880   1.307862  0.043827 -0.388348 -0.773123 -0.535730 -0.418421   \n",
       "8       0.848662   1.304596  0.049148 -0.253668 -0.830400 -0.511288 -0.397155   \n",
       "9       0.849636   1.301739  0.004804 -0.314595 -0.769173 -0.537952 -0.392429   \n",
       "...          ...        ...       ...       ...       ...       ...       ...   \n",
       "681535  1.344444  -1.455963 -1.517995 -0.909435 -0.500565 -0.475735 -0.434962   \n",
       "681536  1.354094  -1.455086 -1.732623 -0.955932 -0.484764 -0.482401 -0.446777   \n",
       "681537  1.356843  -1.452541 -1.774307 -0.935089 -0.500565 -0.480179 -0.442051   \n",
       "681538  1.351230  -1.436978 -1.763665 -0.978379 -0.496614 -0.486845 -0.434962   \n",
       "681539  1.348224  -1.422901 -1.851467 -0.941502 -0.524265 -0.486845 -0.449139   \n",
       "\n",
       "         q0_temp   q1_temp   q2_temp   q3_temp   q4_temp  \n",
       "5       0.181467  1.598397 -0.099503 -0.368114 -0.370807  \n",
       "6       0.141075  1.508984 -0.260530 -0.446896 -0.350012  \n",
       "7       0.320276  1.509593 -0.210273 -0.318093 -0.346113  \n",
       "8       0.247970  1.870587 -0.123093 -0.355609 -0.383804  \n",
       "9       0.141298  1.687201 -0.209760 -0.321845 -0.394852  \n",
       "...          ...       ...       ...       ...       ...  \n",
       "681535 -1.234621 -1.202580 -0.836947 -0.585077 -0.388353  \n",
       "681536 -0.846650 -1.248199 -0.827203 -0.570696 -0.376006  \n",
       "681537 -0.721678 -1.243333 -0.833870 -0.574448 -0.379255  \n",
       "681538 -0.781486 -1.223565 -0.813357 -0.565694 -0.385754  \n",
       "681539 -1.024066 -1.216874 -0.802588 -0.560067 -0.366258  \n",
       "\n",
       "[681535 rows x 12 columns]"
      ]
     },
     "execution_count": 46,
     "metadata": {},
     "output_type": "execute_result"
    }
   ],
   "source": [
    "temp_df[5:]"
   ]
  },
  {
   "cell_type": "code",
   "execution_count": 47,
   "metadata": {},
   "outputs": [
    {
     "data": {
      "text/plain": [
       "Index(['latitude', 'longitude', 'q0_psal', 'q1_psal', 'q2_psal', 'q3_psal',\n",
       "       'q4_psal', 'q0_temp', 'q1_temp', 'q2_temp', 'q3_temp', 'q4_temp'],\n",
       "      dtype='object')"
      ]
     },
     "execution_count": 47,
     "metadata": {},
     "output_type": "execute_result"
    }
   ],
   "source": [
    "temp_df.columns"
   ]
  },
  {
   "cell_type": "code",
   "execution_count": 48,
   "metadata": {},
   "outputs": [],
   "source": [
    "def df_to_X_y2(df, window_size=6):\n",
    "  df_as_np = df.to_numpy()\n",
    "  X = []\n",
    "  y = []\n",
    "  for i in range(len(df_as_np)-window_size):\n",
    "    row = [r for r in df_as_np[i:i+window_size]]\n",
    "    X.append(row)\n",
    "    label = df_as_np[i+window_size][0]\n",
    "    y.append(label)\n",
    "  return np.array(X), np.array(y)"
   ]
  },
  {
   "cell_type": "code",
   "execution_count": 49,
   "metadata": {},
   "outputs": [
    {
     "data": {
      "text/plain": [
       "((681535, 5, 12), (681535,))"
      ]
     },
     "execution_count": 49,
     "metadata": {},
     "output_type": "execute_result"
    }
   ],
   "source": [
    "X2, y2 = df_to_X_y2(temp_df, 5)\n",
    "X2.shape, y2.shape"
   ]
  },
  {
   "cell_type": "code",
   "execution_count": 50,
   "metadata": {},
   "outputs": [
    {
     "data": {
      "text/plain": [
       "array([0.8420762 , 0.83978542, 0.84388018, ..., 1.35684266, 1.35123025,\n",
       "       1.3482236 ])"
      ]
     },
     "execution_count": 50,
     "metadata": {},
     "output_type": "execute_result"
    }
   ],
   "source": [
    "y2\n"
   ]
  },
  {
   "cell_type": "code",
   "execution_count": 52,
   "metadata": {},
   "outputs": [
    {
     "data": {
      "text/plain": [
       "((408921, 5, 12),\n",
       " (408921,),\n",
       " (204460, 5, 12),\n",
       " (204460,),\n",
       " (68154, 5, 12),\n",
       " (68154,))"
      ]
     },
     "execution_count": 52,
     "metadata": {},
     "output_type": "execute_result"
    }
   ],
   "source": [
    "train_size = round(0.6*(len(X2)))\n",
    "val_size = round(0.3*(len(X2)))\n",
    "\n",
    "X_train2, y_train2 = X2[:train_size], y2[:train_size]\n",
    "X_val2, y_val2 = X2[train_size:train_size+val_size], y2[train_size:train_size+val_size]\n",
    "X_test2, y_test2 = X2[train_size+val_size:], y2[train_size+val_size:]\n",
    "X_train2.shape, y_train2.shape, X_val2.shape, y_val2.shape, X_test2.shape, y_test2.shape"
   ]
  },
  {
   "cell_type": "code",
   "execution_count": 54,
   "metadata": {},
   "outputs": [
    {
     "name": "stdout",
     "output_type": "stream",
     "text": [
      "Model: \"sequential_4\"\n",
      "_________________________________________________________________\n",
      " Layer (type)                Output Shape              Param #   \n",
      "=================================================================\n",
      " lstm_2 (LSTM)               (None, 64)                19712     \n",
      "                                                                 \n",
      " dense_8 (Dense)             (None, 8)                 520       \n",
      "                                                                 \n",
      " dense_9 (Dense)             (None, 1)                 9         \n",
      "                                                                 \n",
      "=================================================================\n",
      "Total params: 20241 (79.07 KB)\n",
      "Trainable params: 20241 (79.07 KB)\n",
      "Non-trainable params: 0 (0.00 Byte)\n",
      "_________________________________________________________________\n"
     ]
    }
   ],
   "source": [
    "model4 = Sequential()\n",
    "model4.add(InputLayer((5, 12)))\n",
    "model4.add(LSTM(64))\n",
    "model4.add(Dense(8, 'relu'))\n",
    "model4.add(Dense(1, 'linear'))\n",
    "\n",
    "model4.summary()"
   ]
  },
  {
   "cell_type": "code",
   "execution_count": 55,
   "metadata": {},
   "outputs": [],
   "source": [
    "cp4 = ModelCheckpoint('model4/', save_best_only=True)\n",
    "model4.compile(loss=MeanSquaredError(), optimizer=Adam(learning_rate=0.0001), metrics=[RootMeanSquaredError()])"
   ]
  },
  {
   "cell_type": "code",
   "execution_count": 57,
   "metadata": {},
   "outputs": [
    {
     "name": "stdout",
     "output_type": "stream",
     "text": [
      "Epoch 1/10\n",
      "12757/12779 [============================>.] - ETA: 0s - loss: 0.0095 - root_mean_squared_error: 0.0972INFO:tensorflow:Assets written to: model4\\assets\n"
     ]
    },
    {
     "name": "stderr",
     "output_type": "stream",
     "text": [
      "INFO:tensorflow:Assets written to: model4\\assets\n"
     ]
    },
    {
     "name": "stdout",
     "output_type": "stream",
     "text": [
      "12779/12779 [==============================] - 30s 2ms/step - loss: 0.0094 - root_mean_squared_error: 0.0971 - val_loss: 0.0173 - val_root_mean_squared_error: 0.1317\n",
      "Epoch 2/10\n",
      "12779/12779 [==============================] - 26s 2ms/step - loss: 6.9323e-04 - root_mean_squared_error: 0.0263 - val_loss: 0.0228 - val_root_mean_squared_error: 0.1510\n",
      "Epoch 3/10\n",
      "12772/12779 [============================>.] - ETA: 0s - loss: 5.3945e-04 - root_mean_squared_error: 0.0232INFO:tensorflow:Assets written to: model4\\assets\n"
     ]
    },
    {
     "name": "stderr",
     "output_type": "stream",
     "text": [
      "INFO:tensorflow:Assets written to: model4\\assets\n"
     ]
    },
    {
     "name": "stdout",
     "output_type": "stream",
     "text": [
      "12779/12779 [==============================] - 27s 2ms/step - loss: 5.3935e-04 - root_mean_squared_error: 0.0232 - val_loss: 0.0165 - val_root_mean_squared_error: 0.1283\n",
      "Epoch 4/10\n",
      "12764/12779 [============================>.] - ETA: 0s - loss: 4.5597e-04 - root_mean_squared_error: 0.0214INFO:tensorflow:Assets written to: model4\\assets\n"
     ]
    },
    {
     "name": "stderr",
     "output_type": "stream",
     "text": [
      "INFO:tensorflow:Assets written to: model4\\assets\n"
     ]
    },
    {
     "name": "stdout",
     "output_type": "stream",
     "text": [
      "12779/12779 [==============================] - 27s 2ms/step - loss: 4.5588e-04 - root_mean_squared_error: 0.0214 - val_loss: 0.0084 - val_root_mean_squared_error: 0.0914\n",
      "Epoch 5/10\n",
      "12760/12779 [============================>.] - ETA: 0s - loss: 4.1024e-04 - root_mean_squared_error: 0.0203INFO:tensorflow:Assets written to: model4\\assets\n"
     ]
    },
    {
     "name": "stderr",
     "output_type": "stream",
     "text": [
      "INFO:tensorflow:Assets written to: model4\\assets\n"
     ]
    },
    {
     "name": "stdout",
     "output_type": "stream",
     "text": [
      "12779/12779 [==============================] - 27s 2ms/step - loss: 4.1040e-04 - root_mean_squared_error: 0.0203 - val_loss: 0.0040 - val_root_mean_squared_error: 0.0631\n",
      "Epoch 6/10\n",
      "12779/12779 [==============================] - 28s 2ms/step - loss: 3.8720e-04 - root_mean_squared_error: 0.0197 - val_loss: 0.0120 - val_root_mean_squared_error: 0.1094\n",
      "Epoch 7/10\n",
      "12779/12779 [==============================] - 28s 2ms/step - loss: 3.6909e-04 - root_mean_squared_error: 0.0192 - val_loss: 0.0051 - val_root_mean_squared_error: 0.0711\n",
      "Epoch 8/10\n",
      "12763/12779 [============================>.] - ETA: 0s - loss: 3.5597e-04 - root_mean_squared_error: 0.0189INFO:tensorflow:Assets written to: model4\\assets\n"
     ]
    },
    {
     "name": "stderr",
     "output_type": "stream",
     "text": [
      "INFO:tensorflow:Assets written to: model4\\assets\n"
     ]
    },
    {
     "name": "stdout",
     "output_type": "stream",
     "text": [
      "12779/12779 [==============================] - 29s 2ms/step - loss: 3.5593e-04 - root_mean_squared_error: 0.0189 - val_loss: 0.0028 - val_root_mean_squared_error: 0.0529\n",
      "Epoch 9/10\n",
      "12779/12779 [==============================] - 27s 2ms/step - loss: 3.4877e-04 - root_mean_squared_error: 0.0187 - val_loss: 0.0064 - val_root_mean_squared_error: 0.0798\n",
      "Epoch 10/10\n",
      "12779/12779 [==============================] - 28s 2ms/step - loss: 3.4286e-04 - root_mean_squared_error: 0.0185 - val_loss: 0.0047 - val_root_mean_squared_error: 0.0682\n"
     ]
    },
    {
     "data": {
      "text/plain": [
       "<keras.src.callbacks.History at 0x1b02243bf50>"
      ]
     },
     "execution_count": 57,
     "metadata": {},
     "output_type": "execute_result"
    }
   ],
   "source": [
    "model4.fit(X_train2, y_train2, validation_data=(X_val2, y_val2), epochs=10, callbacks=[cp4])"
   ]
  },
  {
   "cell_type": "code",
   "execution_count": 58,
   "metadata": {},
   "outputs": [
    {
     "name": "stdout",
     "output_type": "stream",
     "text": [
      "2130/2130 [==============================] - 2s 911us/step\n"
     ]
    },
    {
     "data": {
      "text/plain": [
       "(       Predictions   Actuals\n",
       " 0         1.922441  2.000417\n",
       " 1         1.909036  2.016274\n",
       " 2         1.916129  2.006465\n",
       " 3         1.907207  2.010998\n",
       " 4         1.911578  2.034924\n",
       " ...            ...       ...\n",
       " 68149     1.328649  1.344444\n",
       " 68150     1.340934  1.354094\n",
       " 68151     1.350373  1.356843\n",
       " 68152     1.352522  1.351230\n",
       " 68153     1.345982  1.348224\n",
       " \n",
       " [68154 rows x 2 columns],\n",
       " 0.004704061255100557)"
      ]
     },
     "execution_count": 58,
     "metadata": {},
     "output_type": "execute_result"
    },
    {
     "data": {
      "image/png": "[encoded data removed]",
      "text/plain": [
       "<Figure size 640x480 with 1 Axes>"
      ]
     },
     "metadata": {},
     "output_type": "display_data"
    }
   ],
   "source": [
    "plot_predictions1(model4, X_test2, y_test2)"
   ]
  },
  {
   "cell_type": "code",
   "execution_count": 59,
   "metadata": {},
   "outputs": [],
   "source": [
    "def df_to_X_y3(df, window_size=7):\n",
    "  df_as_np = df.to_numpy()\n",
    "  X = []\n",
    "  y = []\n",
    "  for i in range(len(df_as_np)-window_size):\n",
    "    row = [r for r in df_as_np[i:i+window_size]]\n",
    "    X.append(row)\n",
    "    label = [df_as_np[i+window_size][0], df_as_np[i+window_size][1]]\n",
    "    y.append(label)\n",
    "  return np.array(X), np.array(y)"
   ]
  },
  {
   "cell_type": "code",
   "execution_count": 60,
   "metadata": {},
   "outputs": [
    {
     "data": {
      "text/html": [
       "<div>\n",
       "<style scoped>\n",
       "    .dataframe tbody tr th:only-of-type {\n",
       "        vertical-align: middle;\n",
       "    }\n",
       "\n",
       "    .dataframe tbody tr th {\n",
       "        vertical-align: top;\n",
       "    }\n",
       "\n",
       "    .dataframe thead th {\n",
       "        text-align: right;\n",
       "    }\n",
       "</style>\n",
       "<table border=\"1\" class=\"dataframe\">\n",
       "  <thead>\n",
       "    <tr style=\"text-align: right;\">\n",
       "      <th></th>\n",
       "      <th>latitude</th>\n",
       "      <th>longitude</th>\n",
       "      <th>q0_psal</th>\n",
       "      <th>q1_psal</th>\n",
       "      <th>q2_psal</th>\n",
       "      <th>q3_psal</th>\n",
       "      <th>q4_psal</th>\n",
       "      <th>q0_temp</th>\n",
       "      <th>q1_temp</th>\n",
       "      <th>q2_temp</th>\n",
       "      <th>q3_temp</th>\n",
       "      <th>q4_temp</th>\n",
       "    </tr>\n",
       "  </thead>\n",
       "  <tbody>\n",
       "    <tr>\n",
       "      <th>0</th>\n",
       "      <td>0.877011</td>\n",
       "      <td>1.319464</td>\n",
       "      <td>-0.212486</td>\n",
       "      <td>-0.199154</td>\n",
       "      <td>-0.798799</td>\n",
       "      <td>-0.540174</td>\n",
       "      <td>-0.418421</td>\n",
       "      <td>0.859105</td>\n",
       "      <td>1.884577</td>\n",
       "      <td>-0.116426</td>\n",
       "      <td>-0.343729</td>\n",
       "      <td>-0.324668</td>\n",
       "    </tr>\n",
       "    <tr>\n",
       "      <th>1</th>\n",
       "      <td>0.860946</td>\n",
       "      <td>1.312725</td>\n",
       "      <td>-0.140647</td>\n",
       "      <td>-0.311388</td>\n",
       "      <td>-0.692145</td>\n",
       "      <td>-0.537952</td>\n",
       "      <td>-0.423147</td>\n",
       "      <td>0.576133</td>\n",
       "      <td>1.624855</td>\n",
       "      <td>-0.004630</td>\n",
       "      <td>-0.309340</td>\n",
       "      <td>-0.325968</td>\n",
       "    </tr>\n",
       "    <tr>\n",
       "      <th>2</th>\n",
       "      <td>0.858083</td>\n",
       "      <td>1.312534</td>\n",
       "      <td>-0.193861</td>\n",
       "      <td>-0.236031</td>\n",
       "      <td>-0.717821</td>\n",
       "      <td>-0.511288</td>\n",
       "      <td>-0.404244</td>\n",
       "      <td>0.457410</td>\n",
       "      <td>1.806417</td>\n",
       "      <td>0.107166</td>\n",
       "      <td>-0.384996</td>\n",
       "      <td>-0.347413</td>\n",
       "    </tr>\n",
       "    <tr>\n",
       "      <th>3</th>\n",
       "      <td>0.853186</td>\n",
       "      <td>1.311501</td>\n",
       "      <td>-0.169915</td>\n",
       "      <td>-0.268098</td>\n",
       "      <td>-0.646719</td>\n",
       "      <td>-0.506843</td>\n",
       "      <td>-0.406607</td>\n",
       "      <td>0.307778</td>\n",
       "      <td>1.724608</td>\n",
       "      <td>0.010242</td>\n",
       "      <td>-0.367488</td>\n",
       "      <td>-0.331816</td>\n",
       "    </tr>\n",
       "    <tr>\n",
       "      <th>4</th>\n",
       "      <td>0.847316</td>\n",
       "      <td>1.310771</td>\n",
       "      <td>-0.101624</td>\n",
       "      <td>-0.356282</td>\n",
       "      <td>-0.640794</td>\n",
       "      <td>-0.493511</td>\n",
       "      <td>-0.392429</td>\n",
       "      <td>0.287582</td>\n",
       "      <td>1.504727</td>\n",
       "      <td>-0.103605</td>\n",
       "      <td>-0.396250</td>\n",
       "      <td>-0.359760</td>\n",
       "    </tr>\n",
       "    <tr>\n",
       "      <th>...</th>\n",
       "      <td>...</td>\n",
       "      <td>...</td>\n",
       "      <td>...</td>\n",
       "      <td>...</td>\n",
       "      <td>...</td>\n",
       "      <td>...</td>\n",
       "      <td>...</td>\n",
       "      <td>...</td>\n",
       "      <td>...</td>\n",
       "      <td>...</td>\n",
       "      <td>...</td>\n",
       "      <td>...</td>\n",
       "    </tr>\n",
       "    <tr>\n",
       "      <th>681535</th>\n",
       "      <td>1.344444</td>\n",
       "      <td>-1.455963</td>\n",
       "      <td>-1.517995</td>\n",
       "      <td>-0.909435</td>\n",
       "      <td>-0.500565</td>\n",
       "      <td>-0.475735</td>\n",
       "      <td>-0.434962</td>\n",
       "      <td>-1.234621</td>\n",
       "      <td>-1.202580</td>\n",
       "      <td>-0.836947</td>\n",
       "      <td>-0.585077</td>\n",
       "      <td>-0.388353</td>\n",
       "    </tr>\n",
       "    <tr>\n",
       "      <th>681536</th>\n",
       "      <td>1.354094</td>\n",
       "      <td>-1.455086</td>\n",
       "      <td>-1.732623</td>\n",
       "      <td>-0.955932</td>\n",
       "      <td>-0.484764</td>\n",
       "      <td>-0.482401</td>\n",
       "      <td>-0.446777</td>\n",
       "      <td>-0.846650</td>\n",
       "      <td>-1.248199</td>\n",
       "      <td>-0.827203</td>\n",
       "      <td>-0.570696</td>\n",
       "      <td>-0.376006</td>\n",
       "    </tr>\n",
       "    <tr>\n",
       "      <th>681537</th>\n",
       "      <td>1.356843</td>\n",
       "      <td>-1.452541</td>\n",
       "      <td>-1.774307</td>\n",
       "      <td>-0.935089</td>\n",
       "      <td>-0.500565</td>\n",
       "      <td>-0.480179</td>\n",
       "      <td>-0.442051</td>\n",
       "      <td>-0.721678</td>\n",
       "      <td>-1.243333</td>\n",
       "      <td>-0.833870</td>\n",
       "      <td>-0.574448</td>\n",
       "      <td>-0.379255</td>\n",
       "    </tr>\n",
       "    <tr>\n",
       "      <th>681538</th>\n",
       "      <td>1.351230</td>\n",
       "      <td>-1.436978</td>\n",
       "      <td>-1.763665</td>\n",
       "      <td>-0.978379</td>\n",
       "      <td>-0.496614</td>\n",
       "      <td>-0.486845</td>\n",
       "      <td>-0.434962</td>\n",
       "      <td>-0.781486</td>\n",
       "      <td>-1.223565</td>\n",
       "      <td>-0.813357</td>\n",
       "      <td>-0.565694</td>\n",
       "      <td>-0.385754</td>\n",
       "    </tr>\n",
       "    <tr>\n",
       "      <th>681539</th>\n",
       "      <td>1.348224</td>\n",
       "      <td>-1.422901</td>\n",
       "      <td>-1.851467</td>\n",
       "      <td>-0.941502</td>\n",
       "      <td>-0.524265</td>\n",
       "      <td>-0.486845</td>\n",
       "      <td>-0.449139</td>\n",
       "      <td>-1.024066</td>\n",
       "      <td>-1.216874</td>\n",
       "      <td>-0.802588</td>\n",
       "      <td>-0.560067</td>\n",
       "      <td>-0.366258</td>\n",
       "    </tr>\n",
       "  </tbody>\n",
       "</table>\n",
       "<p>681540 rows × 12 columns</p>\n",
       "</div>"
      ],
      "text/plain": [
       "        latitude  longitude   q0_psal   q1_psal   q2_psal   q3_psal   q4_psal  \\\n",
       "0       0.877011   1.319464 -0.212486 -0.199154 -0.798799 -0.540174 -0.418421   \n",
       "1       0.860946   1.312725 -0.140647 -0.311388 -0.692145 -0.537952 -0.423147   \n",
       "2       0.858083   1.312534 -0.193861 -0.236031 -0.717821 -0.511288 -0.404244   \n",
       "3       0.853186   1.311501 -0.169915 -0.268098 -0.646719 -0.506843 -0.406607   \n",
       "4       0.847316   1.310771 -0.101624 -0.356282 -0.640794 -0.493511 -0.392429   \n",
       "...          ...        ...       ...       ...       ...       ...       ...   \n",
       "681535  1.344444  -1.455963 -1.517995 -0.909435 -0.500565 -0.475735 -0.434962   \n",
       "681536  1.354094  -1.455086 -1.732623 -0.955932 -0.484764 -0.482401 -0.446777   \n",
       "681537  1.356843  -1.452541 -1.774307 -0.935089 -0.500565 -0.480179 -0.442051   \n",
       "681538  1.351230  -1.436978 -1.763665 -0.978379 -0.496614 -0.486845 -0.434962   \n",
       "681539  1.348224  -1.422901 -1.851467 -0.941502 -0.524265 -0.486845 -0.449139   \n",
       "\n",
       "         q0_temp   q1_temp   q2_temp   q3_temp   q4_temp  \n",
       "0       0.859105  1.884577 -0.116426 -0.343729 -0.324668  \n",
       "1       0.576133  1.624855 -0.004630 -0.309340 -0.325968  \n",
       "2       0.457410  1.806417  0.107166 -0.384996 -0.347413  \n",
       "3       0.307778  1.724608  0.010242 -0.367488 -0.331816  \n",
       "4       0.287582  1.504727 -0.103605 -0.396250 -0.359760  \n",
       "...          ...       ...       ...       ...       ...  \n",
       "681535 -1.234621 -1.202580 -0.836947 -0.585077 -0.388353  \n",
       "681536 -0.846650 -1.248199 -0.827203 -0.570696 -0.376006  \n",
       "681537 -0.721678 -1.243333 -0.833870 -0.574448 -0.379255  \n",
       "681538 -0.781486 -1.223565 -0.813357 -0.565694 -0.385754  \n",
       "681539 -1.024066 -1.216874 -0.802588 -0.560067 -0.366258  \n",
       "\n",
       "[681540 rows x 12 columns]"
      ]
     },
     "execution_count": 60,
     "metadata": {},
     "output_type": "execute_result"
    }
   ],
   "source": [
    "temp_df"
   ]
  },
  {
   "cell_type": "code",
   "execution_count": 62,
   "metadata": {},
   "outputs": [
    {
     "data": {
      "text/plain": [
       "((681533, 7, 12), (681533, 2))"
      ]
     },
     "execution_count": 62,
     "metadata": {},
     "output_type": "execute_result"
    }
   ],
   "source": [
    "X3, y3 = df_to_X_y3(temp_df)\n",
    "X3.shape, y3.shape"
   ]
  },
  {
   "cell_type": "code",
   "execution_count": 63,
   "metadata": {},
   "outputs": [
    {
     "data": {
      "text/plain": [
       "((408920, 7, 12),\n",
       " (408920, 2),\n",
       " (204460, 7, 12),\n",
       " (204460, 2),\n",
       " (68153, 7, 12),\n",
       " (68153, 2))"
      ]
     },
     "execution_count": 63,
     "metadata": {},
     "output_type": "execute_result"
    }
   ],
   "source": [
    "train_size = round(0.6*(len(X3)))\n",
    "val_size = round(0.3*(len(X3)))\n",
    "\n",
    "\n",
    "X3_train, y3_train = X3[:train_size], y3[:train_size]\n",
    "X3_val, y3_val = X3[train_size:train_size+val_size], y3[train_size:train_size+val_size]\n",
    "X3_test, y3_test = X3[train_size+val_size:], y3[train_size+val_size:]\n",
    "X3_train.shape, y3_train.shape, X3_val.shape, y3_val.shape, X3_test.shape, y3_test.shape"
   ]
  },
  {
   "cell_type": "code",
   "execution_count": 64,
   "metadata": {},
   "outputs": [
    {
     "name": "stdout",
     "output_type": "stream",
     "text": [
      "Model: \"sequential_5\"\n",
      "_________________________________________________________________\n",
      " Layer (type)                Output Shape              Param #   \n",
      "=================================================================\n",
      " lstm_3 (LSTM)               (None, 64)                19712     \n",
      "                                                                 \n",
      " dense_10 (Dense)            (None, 8)                 520       \n",
      "                                                                 \n",
      " dense_11 (Dense)            (None, 2)                 18        \n",
      "                                                                 \n",
      "=================================================================\n",
      "Total params: 20250 (79.10 KB)\n",
      "Trainable params: 20250 (79.10 KB)\n",
      "Non-trainable params: 0 (0.00 Byte)\n",
      "_________________________________________________________________\n"
     ]
    }
   ],
   "source": [
    "model5 = Sequential()\n",
    "model5.add(InputLayer((7, 12)))\n",
    "model5.add(LSTM(64))\n",
    "model5.add(Dense(8, 'relu'))\n",
    "model5.add(Dense(2, 'linear'))\n",
    "\n",
    "model5.summary()"
   ]
  },
  {
   "cell_type": "code",
   "execution_count": 65,
   "metadata": {},
   "outputs": [],
   "source": [
    "cp5 = ModelCheckpoint('model5/', save_best_only=True)\n",
    "model5.compile(loss=MeanSquaredError(), optimizer=Adam(learning_rate=0.0001), metrics=[RootMeanSquaredError()])"
   ]
  },
  {
   "cell_type": "code",
   "execution_count": 66,
   "metadata": {},
   "outputs": [
    {
     "name": "stdout",
     "output_type": "stream",
     "text": [
      "Epoch 1/10\n",
      "12769/12779 [============================>.] - ETA: 0s - loss: 0.0294 - root_mean_squared_error: 0.1716INFO:tensorflow:Assets written to: model5\\assets\n"
     ]
    },
    {
     "name": "stderr",
     "output_type": "stream",
     "text": [
      "INFO:tensorflow:Assets written to: model5\\assets\n"
     ]
    },
    {
     "name": "stdout",
     "output_type": "stream",
     "text": [
      "12779/12779 [==============================] - 37s 3ms/step - loss: 0.0294 - root_mean_squared_error: 0.1715 - val_loss: 0.0245 - val_root_mean_squared_error: 0.1564\n",
      "Epoch 2/10\n",
      "12779/12779 [==============================] - 34s 3ms/step - loss: 0.0111 - root_mean_squared_error: 0.1052 - val_loss: 0.0248 - val_root_mean_squared_error: 0.1574\n",
      "Epoch 3/10\n",
      "12772/12779 [============================>.] - ETA: 0s - loss: 0.0109 - root_mean_squared_error: 0.1043INFO:tensorflow:Assets written to: model5\\assets\n"
     ]
    },
    {
     "name": "stderr",
     "output_type": "stream",
     "text": [
      "INFO:tensorflow:Assets written to: model5\\assets\n"
     ]
    },
    {
     "name": "stdout",
     "output_type": "stream",
     "text": [
      "12779/12779 [==============================] - 35s 3ms/step - loss: 0.0109 - root_mean_squared_error: 0.1043 - val_loss: 0.0237 - val_root_mean_squared_error: 0.1540\n",
      "Epoch 4/10\n",
      "12759/12779 [============================>.] - ETA: 0s - loss: 0.0108 - root_mean_squared_error: 0.1039INFO:tensorflow:Assets written to: model5\\assets\n"
     ]
    },
    {
     "name": "stderr",
     "output_type": "stream",
     "text": [
      "INFO:tensorflow:Assets written to: model5\\assets\n"
     ]
    },
    {
     "name": "stdout",
     "output_type": "stream",
     "text": [
      "12779/12779 [==============================] - 37s 3ms/step - loss: 0.0108 - root_mean_squared_error: 0.1039 - val_loss: 0.0218 - val_root_mean_squared_error: 0.1475\n",
      "Epoch 5/10\n",
      "12775/12779 [============================>.] - ETA: 0s - loss: 0.0107 - root_mean_squared_error: 0.1036INFO:tensorflow:Assets written to: model5\\assets\n"
     ]
    },
    {
     "name": "stderr",
     "output_type": "stream",
     "text": [
      "INFO:tensorflow:Assets written to: model5\\assets\n"
     ]
    },
    {
     "name": "stdout",
     "output_type": "stream",
     "text": [
      "12779/12779 [==============================] - 33s 3ms/step - loss: 0.0107 - root_mean_squared_error: 0.1036 - val_loss: 0.0206 - val_root_mean_squared_error: 0.1435\n",
      "Epoch 6/10\n",
      "12779/12779 [==============================] - 32s 2ms/step - loss: 0.0107 - root_mean_squared_error: 0.1034 - val_loss: 0.0223 - val_root_mean_squared_error: 0.1492\n",
      "Epoch 7/10\n",
      "12771/12779 [============================>.] - ETA: 0s - loss: 0.0106 - root_mean_squared_error: 0.1032INFO:tensorflow:Assets written to: model5\\assets\n"
     ]
    },
    {
     "name": "stderr",
     "output_type": "stream",
     "text": [
      "INFO:tensorflow:Assets written to: model5\\assets\n"
     ]
    },
    {
     "name": "stdout",
     "output_type": "stream",
     "text": [
      "12779/12779 [==============================] - 34s 3ms/step - loss: 0.0107 - root_mean_squared_error: 0.1032 - val_loss: 0.0193 - val_root_mean_squared_error: 0.1388\n",
      "Epoch 8/10\n",
      "12779/12779 [==============================] - 33s 3ms/step - loss: 0.0106 - root_mean_squared_error: 0.1032 - val_loss: 0.0202 - val_root_mean_squared_error: 0.1422\n",
      "Epoch 9/10\n",
      "12766/12779 [============================>.] - ETA: 0s - loss: 0.0106 - root_mean_squared_error: 0.1030INFO:tensorflow:Assets written to: model5\\assets\n"
     ]
    },
    {
     "name": "stderr",
     "output_type": "stream",
     "text": [
      "INFO:tensorflow:Assets written to: model5\\assets\n"
     ]
    },
    {
     "name": "stdout",
     "output_type": "stream",
     "text": [
      "12779/12779 [==============================] - 34s 3ms/step - loss: 0.0106 - root_mean_squared_error: 0.1030 - val_loss: 0.0179 - val_root_mean_squared_error: 0.1339\n",
      "Epoch 10/10\n",
      "12771/12779 [============================>.] - ETA: 0s - loss: 0.0106 - root_mean_squared_error: 0.1030INFO:tensorflow:Assets written to: model5\\assets\n"
     ]
    },
    {
     "name": "stderr",
     "output_type": "stream",
     "text": [
      "INFO:tensorflow:Assets written to: model5\\assets\n"
     ]
    },
    {
     "name": "stdout",
     "output_type": "stream",
     "text": [
      "12779/12779 [==============================] - 36s 3ms/step - loss: 0.0106 - root_mean_squared_error: 0.1029 - val_loss: 0.0167 - val_root_mean_squared_error: 0.1292\n"
     ]
    },
    {
     "data": {
      "text/plain": [
       "<keras.src.callbacks.History at 0x1b027031910>"
      ]
     },
     "execution_count": 66,
     "metadata": {},
     "output_type": "execute_result"
    }
   ],
   "source": [
    "model5.fit(X3_train, y3_train, validation_data=(X3_val, y3_val), epochs=10, callbacks=[cp5])"
   ]
  },
  {
   "cell_type": "code",
   "execution_count": 69,
   "metadata": {},
   "outputs": [],
   "source": [
    "def plot_predictions2(model, X, y, start=0, end=100):\n",
    "  predictions = model.predict(X)\n",
    "  lat_preds, long_preds = predictions[:, 0], predictions[:, 1]\n",
    "  lat_actuals, long_actuals = y[:, 0], y[:, 1]\n",
    "  df = pd.DataFrame(data={'Longitude Predictions': long_preds,\n",
    "                          'Longitude Actuals':long_actuals,\n",
    "                          'Latitude Predictions': lat_preds,\n",
    "                          'Latitude Actuals': lat_actuals\n",
    "                          })\n",
    "  plt.plot(df['Longitude Predictions'][start:end])\n",
    "  plt.plot(df['Longitude Actuals'][start:end])\n",
    "  plt.plot(df['Latitude Predictions'][start:end])\n",
    "  plt.plot(df['Latitude Actuals'][start:end])\n",
    "  return df"
   ]
  },
  {
   "cell_type": "code",
   "execution_count": 70,
   "metadata": {},
   "outputs": [
    {
     "name": "stdout",
     "output_type": "stream",
     "text": [
      "2130/2130 [==============================] - 2s 1ms/step\n"
     ]
    },
    {
     "data": {
      "text/html": [
       "<div>\n",
       "<style scoped>\n",
       "    .dataframe tbody tr th:only-of-type {\n",
       "        vertical-align: middle;\n",
       "    }\n",
       "\n",
       "    .dataframe tbody tr th {\n",
       "        vertical-align: top;\n",
       "    }\n",
       "\n",
       "    .dataframe thead th {\n",
       "        text-align: right;\n",
       "    }\n",
       "</style>\n",
       "<table border=\"1\" class=\"dataframe\">\n",
       "  <thead>\n",
       "    <tr style=\"text-align: right;\">\n",
       "      <th></th>\n",
       "      <th>Longitude Predictions</th>\n",
       "      <th>Longitude Actuals</th>\n",
       "      <th>Latitude Predictions</th>\n",
       "      <th>Latitude Actuals</th>\n",
       "    </tr>\n",
       "  </thead>\n",
       "  <tbody>\n",
       "    <tr>\n",
       "      <th>0</th>\n",
       "      <td>0.037115</td>\n",
       "      <td>0.159356</td>\n",
       "      <td>2.031945</td>\n",
       "      <td>2.016274</td>\n",
       "    </tr>\n",
       "    <tr>\n",
       "      <th>1</th>\n",
       "      <td>0.064564</td>\n",
       "      <td>0.160503</td>\n",
       "      <td>2.021785</td>\n",
       "      <td>2.006465</td>\n",
       "    </tr>\n",
       "    <tr>\n",
       "      <th>2</th>\n",
       "      <td>0.074062</td>\n",
       "      <td>0.162994</td>\n",
       "      <td>2.007066</td>\n",
       "      <td>2.010998</td>\n",
       "    </tr>\n",
       "    <tr>\n",
       "      <th>3</th>\n",
       "      <td>0.080746</td>\n",
       "      <td>0.169561</td>\n",
       "      <td>2.008193</td>\n",
       "      <td>2.034924</td>\n",
       "    </tr>\n",
       "    <tr>\n",
       "      <th>4</th>\n",
       "      <td>0.086828</td>\n",
       "      <td>0.163234</td>\n",
       "      <td>2.038918</td>\n",
       "      <td>2.051779</td>\n",
       "    </tr>\n",
       "    <tr>\n",
       "      <th>...</th>\n",
       "      <td>...</td>\n",
       "      <td>...</td>\n",
       "      <td>...</td>\n",
       "      <td>...</td>\n",
       "    </tr>\n",
       "    <tr>\n",
       "      <th>68148</th>\n",
       "      <td>-1.449935</td>\n",
       "      <td>-1.455963</td>\n",
       "      <td>1.329528</td>\n",
       "      <td>1.344444</td>\n",
       "    </tr>\n",
       "    <tr>\n",
       "      <th>68149</th>\n",
       "      <td>-1.448859</td>\n",
       "      <td>-1.455086</td>\n",
       "      <td>1.340862</td>\n",
       "      <td>1.354094</td>\n",
       "    </tr>\n",
       "    <tr>\n",
       "      <th>68150</th>\n",
       "      <td>-1.452138</td>\n",
       "      <td>-1.452541</td>\n",
       "      <td>1.350961</td>\n",
       "      <td>1.356843</td>\n",
       "    </tr>\n",
       "    <tr>\n",
       "      <th>68151</th>\n",
       "      <td>-1.448569</td>\n",
       "      <td>-1.436978</td>\n",
       "      <td>1.357359</td>\n",
       "      <td>1.351230</td>\n",
       "    </tr>\n",
       "    <tr>\n",
       "      <th>68152</th>\n",
       "      <td>-1.436671</td>\n",
       "      <td>-1.422901</td>\n",
       "      <td>1.352747</td>\n",
       "      <td>1.348224</td>\n",
       "    </tr>\n",
       "  </tbody>\n",
       "</table>\n",
       "<p>68153 rows × 4 columns</p>\n",
       "</div>"
      ],
      "text/plain": [
       "       Longitude Predictions  Longitude Actuals  Latitude Predictions  \\\n",
       "0                   0.037115           0.159356              2.031945   \n",
       "1                   0.064564           0.160503              2.021785   \n",
       "2                   0.074062           0.162994              2.007066   \n",
       "3                   0.080746           0.169561              2.008193   \n",
       "4                   0.086828           0.163234              2.038918   \n",
       "...                      ...                ...                   ...   \n",
       "68148              -1.449935          -1.455963              1.329528   \n",
       "68149              -1.448859          -1.455086              1.340862   \n",
       "68150              -1.452138          -1.452541              1.350961   \n",
       "68151              -1.448569          -1.436978              1.357359   \n",
       "68152              -1.436671          -1.422901              1.352747   \n",
       "\n",
       "       Latitude Actuals  \n",
       "0              2.016274  \n",
       "1              2.006465  \n",
       "2              2.010998  \n",
       "3              2.034924  \n",
       "4              2.051779  \n",
       "...                 ...  \n",
       "68148          1.344444  \n",
       "68149          1.354094  \n",
       "68150          1.356843  \n",
       "68151          1.351230  \n",
       "68152          1.348224  \n",
       "\n",
       "[68153 rows x 4 columns]"
      ]
     },
     "execution_count": 70,
     "metadata": {},
     "output_type": "execute_result"
    },
    {
     "data": {
      "image/png": "[encoded data removed]",
      "text/plain": [
       "<Figure size 640x480 with 1 Axes>"
      ]
     },
     "metadata": {},
     "output_type": "display_data"
    }
   ],
   "source": [
    "plot_predictions2(model5, X3_test, y3_test)"
   ]
  },
  {
   "cell_type": "code",
   "execution_count": 73,
   "metadata": {},
   "outputs": [],
   "source": [
    "def plot_predictions2(model, X, y, start=0, end=100):\n",
    "  predictions = scaler.inverse_transform(model.predict(X))\n",
    "\n",
    "  lat_preds, long_preds = predictions[:, 0], predictions[:, 1]\n",
    "  y = scaler.inverse_transform(y)\n",
    "  lat_actuals, long_actuals = scaler.inverse_transform(y[:, 0]), scaler.inverse_transform(y[:, 1])\n",
    "  df = pd.DataFrame(data={'Longitude Predictions': long_preds,\n",
    "                          'Longitude Actuals':long_actuals,\n",
    "                          'Latitude Predictions': lat_preds,\n",
    "                          'Latitude Actuals': lat_actuals\n",
    "                          })\n",
    "  plt.plot(df['Longitude Predictions'][start:end])\n",
    "  plt.plot(df['Longitude Actuals'][start:end])\n",
    "  plt.plot(df['Latitude Predictions'][start:end])\n",
    "  plt.plot(df['Latitude Actuals'][start:end])\n",
    "  return df"
   ]
  },
  {
   "cell_type": "code",
   "execution_count": 74,
   "metadata": {},
   "outputs": [
    {
     "name": "stdout",
     "output_type": "stream",
     "text": [
      "2130/2130 [==============================] - 2s 935us/step\n"
     ]
    },
    {
     "ename": "ValueError",
     "evalue": "operands could not be broadcast together with shapes (68153,2) (12,) (68153,2) ",
     "output_type": "error",
     "traceback": [
      "\u001b[1;31m---------------------------------------------------------------------------\u001b[0m",
      "\u001b[1;31mValueError\u001b[0m                                Traceback (most recent call last)",
      "Cell \u001b[1;32mIn[74], line 1\u001b[0m\n\u001b[1;32m----> 1\u001b[0m \u001b[43mplot_predictions2\u001b[49m\u001b[43m(\u001b[49m\u001b[43mmodel5\u001b[49m\u001b[43m,\u001b[49m\u001b[43m \u001b[49m\u001b[43mX3_test\u001b[49m\u001b[43m,\u001b[49m\u001b[43m \u001b[49m\u001b[43my3_test\u001b[49m\u001b[43m)\u001b[49m\n",
      "Cell \u001b[1;32mIn[73], line 2\u001b[0m, in \u001b[0;36mplot_predictions2\u001b[1;34m(model, X, y, start, end)\u001b[0m\n\u001b[0;32m      1\u001b[0m \u001b[38;5;28;01mdef\u001b[39;00m \u001b[38;5;21mplot_predictions2\u001b[39m(model, X, y, start\u001b[38;5;241m=\u001b[39m\u001b[38;5;241m0\u001b[39m, end\u001b[38;5;241m=\u001b[39m\u001b[38;5;241m100\u001b[39m):\n\u001b[1;32m----> 2\u001b[0m   predictions \u001b[38;5;241m=\u001b[39m \u001b[43mscaler\u001b[49m\u001b[38;5;241;43m.\u001b[39;49m\u001b[43minverse_transform\u001b[49m\u001b[43m(\u001b[49m\u001b[43mmodel\u001b[49m\u001b[38;5;241;43m.\u001b[39;49m\u001b[43mpredict\u001b[49m\u001b[43m(\u001b[49m\u001b[43mX\u001b[49m\u001b[43m)\u001b[49m\u001b[43m)\u001b[49m\n\u001b[0;32m      4\u001b[0m   lat_preds, long_preds \u001b[38;5;241m=\u001b[39m predictions[:, \u001b[38;5;241m0\u001b[39m], predictions[:, \u001b[38;5;241m1\u001b[39m]\n\u001b[0;32m      5\u001b[0m   y \u001b[38;5;241m=\u001b[39m scaler\u001b[38;5;241m.\u001b[39minverse_transform(y)\n",
      "File \u001b[1;32mc:\\Users\\Jon\\AppData\\Local\\Programs\\Python\\Python311\\Lib\\site-packages\\sklearn\\preprocessing\\_data.py:1103\u001b[0m, in \u001b[0;36mStandardScaler.inverse_transform\u001b[1;34m(self, X, copy)\u001b[0m\n\u001b[0;32m   1101\u001b[0m \u001b[38;5;28;01melse\u001b[39;00m:\n\u001b[0;32m   1102\u001b[0m     \u001b[38;5;28;01mif\u001b[39;00m \u001b[38;5;28mself\u001b[39m\u001b[38;5;241m.\u001b[39mwith_std:\n\u001b[1;32m-> 1103\u001b[0m         \u001b[43mX\u001b[49m\u001b[43m \u001b[49m\u001b[38;5;241;43m*\u001b[39;49m\u001b[38;5;241;43m=\u001b[39;49m\u001b[43m \u001b[49m\u001b[38;5;28;43mself\u001b[39;49m\u001b[38;5;241;43m.\u001b[39;49m\u001b[43mscale_\u001b[49m\n\u001b[0;32m   1104\u001b[0m     \u001b[38;5;28;01mif\u001b[39;00m \u001b[38;5;28mself\u001b[39m\u001b[38;5;241m.\u001b[39mwith_mean:\n\u001b[0;32m   1105\u001b[0m         X \u001b[38;5;241m+\u001b[39m\u001b[38;5;241m=\u001b[39m \u001b[38;5;28mself\u001b[39m\u001b[38;5;241m.\u001b[39mmean_\n",
      "\u001b[1;31mValueError\u001b[0m: operands could not be broadcast together with shapes (68153,2) (12,) (68153,2) "
     ]
    }
   ],
   "source": [
    "plot_predictions2(model5, X3_test, y3_test)"
   ]
  },
  {
   "cell_type": "code",
   "execution_count": null,
   "metadata": {},
   "outputs": [],
   "source": []
  }
 ],
 "metadata": {
  "kernelspec": {
   "display_name": "Python 3",
   "language": "python",
   "name": "python3"
  },
  "language_info": {
   "codemirror_mode": {
    "name": "ipython",
    "version": 3
   },
   "file_extension": ".py",
   "mimetype": "text/x-python",
   "name": "python",
   "nbconvert_exporter": "python",
   "pygments_lexer": "ipython3",
   "version": "3.11.9"
  }
 },
 "nbformat": 4,
 "nbformat_minor": 2
}
